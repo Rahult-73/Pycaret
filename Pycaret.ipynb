{
 "cells": [
  {
   "cell_type": "code",
   "execution_count": 1,
   "metadata": {},
   "outputs": [
    {
     "data": {
      "text/html": [
       "<style  type=\"text/css\" >\n",
       "    #T_eab6d048_d563_11ea_b08e_784561c206f4 th {\n",
       "          text-align: left;\n",
       "    }#T_eab6d048_d563_11ea_b08e_784561c206f4row0_col0,#T_eab6d048_d563_11ea_b08e_784561c206f4row0_col2,#T_eab6d048_d563_11ea_b08e_784561c206f4row0_col3,#T_eab6d048_d563_11ea_b08e_784561c206f4row1_col0,#T_eab6d048_d563_11ea_b08e_784561c206f4row1_col1,#T_eab6d048_d563_11ea_b08e_784561c206f4row1_col2,#T_eab6d048_d563_11ea_b08e_784561c206f4row1_col3,#T_eab6d048_d563_11ea_b08e_784561c206f4row1_col4,#T_eab6d048_d563_11ea_b08e_784561c206f4row1_col5,#T_eab6d048_d563_11ea_b08e_784561c206f4row1_col6,#T_eab6d048_d563_11ea_b08e_784561c206f4row1_col7,#T_eab6d048_d563_11ea_b08e_784561c206f4row2_col0,#T_eab6d048_d563_11ea_b08e_784561c206f4row2_col1,#T_eab6d048_d563_11ea_b08e_784561c206f4row2_col2,#T_eab6d048_d563_11ea_b08e_784561c206f4row2_col3,#T_eab6d048_d563_11ea_b08e_784561c206f4row2_col4,#T_eab6d048_d563_11ea_b08e_784561c206f4row2_col5,#T_eab6d048_d563_11ea_b08e_784561c206f4row2_col6,#T_eab6d048_d563_11ea_b08e_784561c206f4row2_col7,#T_eab6d048_d563_11ea_b08e_784561c206f4row3_col0,#T_eab6d048_d563_11ea_b08e_784561c206f4row3_col1,#T_eab6d048_d563_11ea_b08e_784561c206f4row3_col3,#T_eab6d048_d563_11ea_b08e_784561c206f4row3_col4,#T_eab6d048_d563_11ea_b08e_784561c206f4row3_col5,#T_eab6d048_d563_11ea_b08e_784561c206f4row3_col6,#T_eab6d048_d563_11ea_b08e_784561c206f4row3_col7,#T_eab6d048_d563_11ea_b08e_784561c206f4row4_col0,#T_eab6d048_d563_11ea_b08e_784561c206f4row4_col1,#T_eab6d048_d563_11ea_b08e_784561c206f4row4_col2,#T_eab6d048_d563_11ea_b08e_784561c206f4row4_col4,#T_eab6d048_d563_11ea_b08e_784561c206f4row4_col5,#T_eab6d048_d563_11ea_b08e_784561c206f4row4_col6,#T_eab6d048_d563_11ea_b08e_784561c206f4row4_col7,#T_eab6d048_d563_11ea_b08e_784561c206f4row5_col0,#T_eab6d048_d563_11ea_b08e_784561c206f4row5_col1,#T_eab6d048_d563_11ea_b08e_784561c206f4row5_col2,#T_eab6d048_d563_11ea_b08e_784561c206f4row5_col3,#T_eab6d048_d563_11ea_b08e_784561c206f4row5_col4,#T_eab6d048_d563_11ea_b08e_784561c206f4row5_col5,#T_eab6d048_d563_11ea_b08e_784561c206f4row5_col6,#T_eab6d048_d563_11ea_b08e_784561c206f4row5_col7,#T_eab6d048_d563_11ea_b08e_784561c206f4row6_col0,#T_eab6d048_d563_11ea_b08e_784561c206f4row6_col1,#T_eab6d048_d563_11ea_b08e_784561c206f4row6_col2,#T_eab6d048_d563_11ea_b08e_784561c206f4row6_col3,#T_eab6d048_d563_11ea_b08e_784561c206f4row6_col4,#T_eab6d048_d563_11ea_b08e_784561c206f4row6_col5,#T_eab6d048_d563_11ea_b08e_784561c206f4row6_col6,#T_eab6d048_d563_11ea_b08e_784561c206f4row6_col7,#T_eab6d048_d563_11ea_b08e_784561c206f4row7_col0,#T_eab6d048_d563_11ea_b08e_784561c206f4row7_col1,#T_eab6d048_d563_11ea_b08e_784561c206f4row7_col2,#T_eab6d048_d563_11ea_b08e_784561c206f4row7_col3,#T_eab6d048_d563_11ea_b08e_784561c206f4row7_col4,#T_eab6d048_d563_11ea_b08e_784561c206f4row7_col5,#T_eab6d048_d563_11ea_b08e_784561c206f4row7_col6,#T_eab6d048_d563_11ea_b08e_784561c206f4row7_col7,#T_eab6d048_d563_11ea_b08e_784561c206f4row8_col0,#T_eab6d048_d563_11ea_b08e_784561c206f4row8_col1,#T_eab6d048_d563_11ea_b08e_784561c206f4row8_col2,#T_eab6d048_d563_11ea_b08e_784561c206f4row8_col3,#T_eab6d048_d563_11ea_b08e_784561c206f4row8_col4,#T_eab6d048_d563_11ea_b08e_784561c206f4row8_col5,#T_eab6d048_d563_11ea_b08e_784561c206f4row8_col6,#T_eab6d048_d563_11ea_b08e_784561c206f4row8_col7,#T_eab6d048_d563_11ea_b08e_784561c206f4row9_col0,#T_eab6d048_d563_11ea_b08e_784561c206f4row9_col1,#T_eab6d048_d563_11ea_b08e_784561c206f4row9_col2,#T_eab6d048_d563_11ea_b08e_784561c206f4row9_col3,#T_eab6d048_d563_11ea_b08e_784561c206f4row9_col4,#T_eab6d048_d563_11ea_b08e_784561c206f4row9_col5,#T_eab6d048_d563_11ea_b08e_784561c206f4row9_col6,#T_eab6d048_d563_11ea_b08e_784561c206f4row9_col7,#T_eab6d048_d563_11ea_b08e_784561c206f4row10_col0,#T_eab6d048_d563_11ea_b08e_784561c206f4row10_col1,#T_eab6d048_d563_11ea_b08e_784561c206f4row10_col2,#T_eab6d048_d563_11ea_b08e_784561c206f4row10_col3,#T_eab6d048_d563_11ea_b08e_784561c206f4row10_col4,#T_eab6d048_d563_11ea_b08e_784561c206f4row10_col5,#T_eab6d048_d563_11ea_b08e_784561c206f4row10_col6,#T_eab6d048_d563_11ea_b08e_784561c206f4row10_col7,#T_eab6d048_d563_11ea_b08e_784561c206f4row11_col0,#T_eab6d048_d563_11ea_b08e_784561c206f4row11_col1,#T_eab6d048_d563_11ea_b08e_784561c206f4row11_col2,#T_eab6d048_d563_11ea_b08e_784561c206f4row11_col3,#T_eab6d048_d563_11ea_b08e_784561c206f4row11_col4,#T_eab6d048_d563_11ea_b08e_784561c206f4row11_col5,#T_eab6d048_d563_11ea_b08e_784561c206f4row11_col6,#T_eab6d048_d563_11ea_b08e_784561c206f4row11_col7,#T_eab6d048_d563_11ea_b08e_784561c206f4row12_col0,#T_eab6d048_d563_11ea_b08e_784561c206f4row12_col1,#T_eab6d048_d563_11ea_b08e_784561c206f4row12_col2,#T_eab6d048_d563_11ea_b08e_784561c206f4row12_col3,#T_eab6d048_d563_11ea_b08e_784561c206f4row12_col4,#T_eab6d048_d563_11ea_b08e_784561c206f4row12_col5,#T_eab6d048_d563_11ea_b08e_784561c206f4row12_col6,#T_eab6d048_d563_11ea_b08e_784561c206f4row12_col7,#T_eab6d048_d563_11ea_b08e_784561c206f4row13_col0,#T_eab6d048_d563_11ea_b08e_784561c206f4row13_col1,#T_eab6d048_d563_11ea_b08e_784561c206f4row13_col2,#T_eab6d048_d563_11ea_b08e_784561c206f4row13_col3,#T_eab6d048_d563_11ea_b08e_784561c206f4row13_col4,#T_eab6d048_d563_11ea_b08e_784561c206f4row13_col5,#T_eab6d048_d563_11ea_b08e_784561c206f4row13_col6,#T_eab6d048_d563_11ea_b08e_784561c206f4row13_col7,#T_eab6d048_d563_11ea_b08e_784561c206f4row14_col0,#T_eab6d048_d563_11ea_b08e_784561c206f4row14_col1,#T_eab6d048_d563_11ea_b08e_784561c206f4row14_col2,#T_eab6d048_d563_11ea_b08e_784561c206f4row14_col3,#T_eab6d048_d563_11ea_b08e_784561c206f4row14_col4,#T_eab6d048_d563_11ea_b08e_784561c206f4row14_col5,#T_eab6d048_d563_11ea_b08e_784561c206f4row14_col6,#T_eab6d048_d563_11ea_b08e_784561c206f4row14_col7{\n",
       "            text-align:  left;\n",
       "        }#T_eab6d048_d563_11ea_b08e_784561c206f4row0_col1,#T_eab6d048_d563_11ea_b08e_784561c206f4row0_col4,#T_eab6d048_d563_11ea_b08e_784561c206f4row0_col5,#T_eab6d048_d563_11ea_b08e_784561c206f4row0_col6,#T_eab6d048_d563_11ea_b08e_784561c206f4row0_col7,#T_eab6d048_d563_11ea_b08e_784561c206f4row3_col2,#T_eab6d048_d563_11ea_b08e_784561c206f4row4_col3{\n",
       "            background-color:  yellow;\n",
       "            text-align:  left;\n",
       "        }#T_eab6d048_d563_11ea_b08e_784561c206f4row0_col8,#T_eab6d048_d563_11ea_b08e_784561c206f4row1_col8,#T_eab6d048_d563_11ea_b08e_784561c206f4row2_col8,#T_eab6d048_d563_11ea_b08e_784561c206f4row3_col8,#T_eab6d048_d563_11ea_b08e_784561c206f4row4_col8,#T_eab6d048_d563_11ea_b08e_784561c206f4row5_col8,#T_eab6d048_d563_11ea_b08e_784561c206f4row6_col8,#T_eab6d048_d563_11ea_b08e_784561c206f4row7_col8,#T_eab6d048_d563_11ea_b08e_784561c206f4row8_col8,#T_eab6d048_d563_11ea_b08e_784561c206f4row9_col8,#T_eab6d048_d563_11ea_b08e_784561c206f4row10_col8,#T_eab6d048_d563_11ea_b08e_784561c206f4row11_col8,#T_eab6d048_d563_11ea_b08e_784561c206f4row12_col8,#T_eab6d048_d563_11ea_b08e_784561c206f4row13_col8,#T_eab6d048_d563_11ea_b08e_784561c206f4row14_col8{\n",
       "            background-color:  lightgrey;\n",
       "            text-align:  left;\n",
       "        }</style><table id=\"T_eab6d048_d563_11ea_b08e_784561c206f4\" ><thead>    <tr>        <th class=\"blank level0\" ></th>        <th class=\"col_heading level0 col0\" >Model</th>        <th class=\"col_heading level0 col1\" >Accuracy</th>        <th class=\"col_heading level0 col2\" >AUC</th>        <th class=\"col_heading level0 col3\" >Recall</th>        <th class=\"col_heading level0 col4\" >Prec.</th>        <th class=\"col_heading level0 col5\" >F1</th>        <th class=\"col_heading level0 col6\" >Kappa</th>        <th class=\"col_heading level0 col7\" >MCC</th>        <th class=\"col_heading level0 col8\" >TT (Sec)</th>    </tr></thead><tbody>\n",
       "                <tr>\n",
       "                        <th id=\"T_eab6d048_d563_11ea_b08e_784561c206f4level0_row0\" class=\"row_heading level0 row0\" >0</th>\n",
       "                        <td id=\"T_eab6d048_d563_11ea_b08e_784561c206f4row0_col0\" class=\"data row0 col0\" >Logistic Regression</td>\n",
       "                        <td id=\"T_eab6d048_d563_11ea_b08e_784561c206f4row0_col1\" class=\"data row0 col1\" >0.7672</td>\n",
       "                        <td id=\"T_eab6d048_d563_11ea_b08e_784561c206f4row0_col2\" class=\"data row0 col2\" >0.7863</td>\n",
       "                        <td id=\"T_eab6d048_d563_11ea_b08e_784561c206f4row0_col3\" class=\"data row0 col3\" >0.5333</td>\n",
       "                        <td id=\"T_eab6d048_d563_11ea_b08e_784561c206f4row0_col4\" class=\"data row0 col4\" >0.7404</td>\n",
       "                        <td id=\"T_eab6d048_d563_11ea_b08e_784561c206f4row0_col5\" class=\"data row0 col5\" >0.6108</td>\n",
       "                        <td id=\"T_eab6d048_d563_11ea_b08e_784561c206f4row0_col6\" class=\"data row0 col6\" >0.4522</td>\n",
       "                        <td id=\"T_eab6d048_d563_11ea_b08e_784561c206f4row0_col7\" class=\"data row0 col7\" >0.4698</td>\n",
       "                        <td id=\"T_eab6d048_d563_11ea_b08e_784561c206f4row0_col8\" class=\"data row0 col8\" >0.0994</td>\n",
       "            </tr>\n",
       "            <tr>\n",
       "                        <th id=\"T_eab6d048_d563_11ea_b08e_784561c206f4level0_row1\" class=\"row_heading level0 row1\" >1</th>\n",
       "                        <td id=\"T_eab6d048_d563_11ea_b08e_784561c206f4row1_col0\" class=\"data row1 col0\" >Ridge Classifier</td>\n",
       "                        <td id=\"T_eab6d048_d563_11ea_b08e_784561c206f4row1_col1\" class=\"data row1 col1\" >0.7615</td>\n",
       "                        <td id=\"T_eab6d048_d563_11ea_b08e_784561c206f4row1_col2\" class=\"data row1 col2\" >0.0000</td>\n",
       "                        <td id=\"T_eab6d048_d563_11ea_b08e_784561c206f4row1_col3\" class=\"data row1 col3\" >0.5442</td>\n",
       "                        <td id=\"T_eab6d048_d563_11ea_b08e_784561c206f4row1_col4\" class=\"data row1 col4\" >0.7118</td>\n",
       "                        <td id=\"T_eab6d048_d563_11ea_b08e_784561c206f4row1_col5\" class=\"data row1 col5\" >0.6078</td>\n",
       "                        <td id=\"T_eab6d048_d563_11ea_b08e_784561c206f4row1_col6\" class=\"data row1 col6\" >0.4429</td>\n",
       "                        <td id=\"T_eab6d048_d563_11ea_b08e_784561c206f4row1_col7\" class=\"data row1 col7\" >0.4564</td>\n",
       "                        <td id=\"T_eab6d048_d563_11ea_b08e_784561c206f4row1_col8\" class=\"data row1 col8\" >0.0406</td>\n",
       "            </tr>\n",
       "            <tr>\n",
       "                        <th id=\"T_eab6d048_d563_11ea_b08e_784561c206f4level0_row2\" class=\"row_heading level0 row2\" >2</th>\n",
       "                        <td id=\"T_eab6d048_d563_11ea_b08e_784561c206f4row2_col0\" class=\"data row2 col0\" >Linear Discriminant Analysis</td>\n",
       "                        <td id=\"T_eab6d048_d563_11ea_b08e_784561c206f4row2_col1\" class=\"data row2 col1\" >0.7596</td>\n",
       "                        <td id=\"T_eab6d048_d563_11ea_b08e_784561c206f4row2_col2\" class=\"data row2 col2\" >0.8010</td>\n",
       "                        <td id=\"T_eab6d048_d563_11ea_b08e_784561c206f4row2_col3\" class=\"data row2 col3\" >0.5386</td>\n",
       "                        <td id=\"T_eab6d048_d563_11ea_b08e_784561c206f4row2_col4\" class=\"data row2 col4\" >0.7084</td>\n",
       "                        <td id=\"T_eab6d048_d563_11ea_b08e_784561c206f4row2_col5\" class=\"data row2 col5\" >0.6023</td>\n",
       "                        <td id=\"T_eab6d048_d563_11ea_b08e_784561c206f4row2_col6\" class=\"data row2 col6\" >0.4371</td>\n",
       "                        <td id=\"T_eab6d048_d563_11ea_b08e_784561c206f4row2_col7\" class=\"data row2 col7\" >0.4509</td>\n",
       "                        <td id=\"T_eab6d048_d563_11ea_b08e_784561c206f4row2_col8\" class=\"data row2 col8\" >0.0294</td>\n",
       "            </tr>\n",
       "            <tr>\n",
       "                        <th id=\"T_eab6d048_d563_11ea_b08e_784561c206f4level0_row3\" class=\"row_heading level0 row3\" >3</th>\n",
       "                        <td id=\"T_eab6d048_d563_11ea_b08e_784561c206f4row3_col0\" class=\"data row3 col0\" >CatBoost Classifier</td>\n",
       "                        <td id=\"T_eab6d048_d563_11ea_b08e_784561c206f4row3_col1\" class=\"data row3 col1\" >0.7411</td>\n",
       "                        <td id=\"T_eab6d048_d563_11ea_b08e_784561c206f4row3_col2\" class=\"data row3 col2\" >0.8133</td>\n",
       "                        <td id=\"T_eab6d048_d563_11ea_b08e_784561c206f4row3_col3\" class=\"data row3 col3\" >0.5705</td>\n",
       "                        <td id=\"T_eab6d048_d563_11ea_b08e_784561c206f4row3_col4\" class=\"data row3 col4\" >0.6562</td>\n",
       "                        <td id=\"T_eab6d048_d563_11ea_b08e_784561c206f4row3_col5\" class=\"data row3 col5\" >0.6009</td>\n",
       "                        <td id=\"T_eab6d048_d563_11ea_b08e_784561c206f4row3_col6\" class=\"data row3 col6\" >0.4128</td>\n",
       "                        <td id=\"T_eab6d048_d563_11ea_b08e_784561c206f4row3_col7\" class=\"data row3 col7\" >0.4210</td>\n",
       "                        <td id=\"T_eab6d048_d563_11ea_b08e_784561c206f4row3_col8\" class=\"data row3 col8\" >2.2473</td>\n",
       "            </tr>\n",
       "            <tr>\n",
       "                        <th id=\"T_eab6d048_d563_11ea_b08e_784561c206f4level0_row4\" class=\"row_heading level0 row4\" >4</th>\n",
       "                        <td id=\"T_eab6d048_d563_11ea_b08e_784561c206f4row4_col0\" class=\"data row4 col0\" >Gradient Boosting Classifier</td>\n",
       "                        <td id=\"T_eab6d048_d563_11ea_b08e_784561c206f4row4_col1\" class=\"data row4 col1\" >0.7337</td>\n",
       "                        <td id=\"T_eab6d048_d563_11ea_b08e_784561c206f4row4_col2\" class=\"data row4 col2\" >0.8040</td>\n",
       "                        <td id=\"T_eab6d048_d563_11ea_b08e_784561c206f4row4_col3\" class=\"data row4 col3\" >0.5865</td>\n",
       "                        <td id=\"T_eab6d048_d563_11ea_b08e_784561c206f4row4_col4\" class=\"data row4 col4\" >0.6170</td>\n",
       "                        <td id=\"T_eab6d048_d563_11ea_b08e_784561c206f4row4_col5\" class=\"data row4 col5\" >0.5955</td>\n",
       "                        <td id=\"T_eab6d048_d563_11ea_b08e_784561c206f4row4_col6\" class=\"data row4 col6\" >0.3998</td>\n",
       "                        <td id=\"T_eab6d048_d563_11ea_b08e_784561c206f4row4_col7\" class=\"data row4 col7\" >0.4025</td>\n",
       "                        <td id=\"T_eab6d048_d563_11ea_b08e_784561c206f4row4_col8\" class=\"data row4 col8\" >0.1491</td>\n",
       "            </tr>\n",
       "            <tr>\n",
       "                        <th id=\"T_eab6d048_d563_11ea_b08e_784561c206f4level0_row5\" class=\"row_heading level0 row5\" >5</th>\n",
       "                        <td id=\"T_eab6d048_d563_11ea_b08e_784561c206f4row5_col0\" class=\"data row5 col0\" >Extra Trees Classifier</td>\n",
       "                        <td id=\"T_eab6d048_d563_11ea_b08e_784561c206f4row5_col1\" class=\"data row5 col1\" >0.7337</td>\n",
       "                        <td id=\"T_eab6d048_d563_11ea_b08e_784561c206f4row5_col2\" class=\"data row5 col2\" >0.7723</td>\n",
       "                        <td id=\"T_eab6d048_d563_11ea_b08e_784561c206f4row5_col3\" class=\"data row5 col3\" >0.4915</td>\n",
       "                        <td id=\"T_eab6d048_d563_11ea_b08e_784561c206f4row5_col4\" class=\"data row5 col4\" >0.6680</td>\n",
       "                        <td id=\"T_eab6d048_d563_11ea_b08e_784561c206f4row5_col5\" class=\"data row5 col5\" >0.5582</td>\n",
       "                        <td id=\"T_eab6d048_d563_11ea_b08e_784561c206f4row5_col6\" class=\"data row5 col6\" >0.3760</td>\n",
       "                        <td id=\"T_eab6d048_d563_11ea_b08e_784561c206f4row5_col7\" class=\"data row5 col7\" >0.3891</td>\n",
       "                        <td id=\"T_eab6d048_d563_11ea_b08e_784561c206f4row5_col8\" class=\"data row5 col8\" >0.2413</td>\n",
       "            </tr>\n",
       "            <tr>\n",
       "                        <th id=\"T_eab6d048_d563_11ea_b08e_784561c206f4level0_row6\" class=\"row_heading level0 row6\" >6</th>\n",
       "                        <td id=\"T_eab6d048_d563_11ea_b08e_784561c206f4row6_col0\" class=\"data row6 col0\" >Light Gradient Boosting Machine</td>\n",
       "                        <td id=\"T_eab6d048_d563_11ea_b08e_784561c206f4row6_col1\" class=\"data row6 col1\" >0.7301</td>\n",
       "                        <td id=\"T_eab6d048_d563_11ea_b08e_784561c206f4row6_col2\" class=\"data row6 col2\" >0.7883</td>\n",
       "                        <td id=\"T_eab6d048_d563_11ea_b08e_784561c206f4row6_col3\" class=\"data row6 col3\" >0.5658</td>\n",
       "                        <td id=\"T_eab6d048_d563_11ea_b08e_784561c206f4row6_col4\" class=\"data row6 col4\" >0.6330</td>\n",
       "                        <td id=\"T_eab6d048_d563_11ea_b08e_784561c206f4row6_col5\" class=\"data row6 col5\" >0.5899</td>\n",
       "                        <td id=\"T_eab6d048_d563_11ea_b08e_784561c206f4row6_col6\" class=\"data row6 col6\" >0.3913</td>\n",
       "                        <td id=\"T_eab6d048_d563_11ea_b08e_784561c206f4row6_col7\" class=\"data row6 col7\" >0.3975</td>\n",
       "                        <td id=\"T_eab6d048_d563_11ea_b08e_784561c206f4row6_col8\" class=\"data row6 col8\" >0.0954</td>\n",
       "            </tr>\n",
       "            <tr>\n",
       "                        <th id=\"T_eab6d048_d563_11ea_b08e_784561c206f4level0_row7\" class=\"row_heading level0 row7\" >7</th>\n",
       "                        <td id=\"T_eab6d048_d563_11ea_b08e_784561c206f4row7_col0\" class=\"data row7 col0\" >Random Forest Classifier</td>\n",
       "                        <td id=\"T_eab6d048_d563_11ea_b08e_784561c206f4row7_col1\" class=\"data row7 col1\" >0.7226</td>\n",
       "                        <td id=\"T_eab6d048_d563_11ea_b08e_784561c206f4row7_col2\" class=\"data row7 col2\" >0.7708</td>\n",
       "                        <td id=\"T_eab6d048_d563_11ea_b08e_784561c206f4row7_col3\" class=\"data row7 col3\" >0.4971</td>\n",
       "                        <td id=\"T_eab6d048_d563_11ea_b08e_784561c206f4row7_col4\" class=\"data row7 col4\" >0.6456</td>\n",
       "                        <td id=\"T_eab6d048_d563_11ea_b08e_784561c206f4row7_col5\" class=\"data row7 col5\" >0.5548</td>\n",
       "                        <td id=\"T_eab6d048_d563_11ea_b08e_784561c206f4row7_col6\" class=\"data row7 col6\" >0.3588</td>\n",
       "                        <td id=\"T_eab6d048_d563_11ea_b08e_784561c206f4row7_col7\" class=\"data row7 col7\" >0.3698</td>\n",
       "                        <td id=\"T_eab6d048_d563_11ea_b08e_784561c206f4row7_col8\" class=\"data row7 col8\" >0.1292</td>\n",
       "            </tr>\n",
       "            <tr>\n",
       "                        <th id=\"T_eab6d048_d563_11ea_b08e_784561c206f4level0_row8\" class=\"row_heading level0 row8\" >8</th>\n",
       "                        <td id=\"T_eab6d048_d563_11ea_b08e_784561c206f4row8_col0\" class=\"data row8 col0\" >Extreme Gradient Boosting</td>\n",
       "                        <td id=\"T_eab6d048_d563_11ea_b08e_784561c206f4row8_col1\" class=\"data row8 col1\" >0.7170</td>\n",
       "                        <td id=\"T_eab6d048_d563_11ea_b08e_784561c206f4row8_col2\" class=\"data row8 col2\" >0.7721</td>\n",
       "                        <td id=\"T_eab6d048_d563_11ea_b08e_784561c206f4row8_col3\" class=\"data row8 col3\" >0.5822</td>\n",
       "                        <td id=\"T_eab6d048_d563_11ea_b08e_784561c206f4row8_col4\" class=\"data row8 col4\" >0.5983</td>\n",
       "                        <td id=\"T_eab6d048_d563_11ea_b08e_784561c206f4row8_col5\" class=\"data row8 col5\" >0.5863</td>\n",
       "                        <td id=\"T_eab6d048_d563_11ea_b08e_784561c206f4row8_col6\" class=\"data row8 col6\" >0.3723</td>\n",
       "                        <td id=\"T_eab6d048_d563_11ea_b08e_784561c206f4row8_col7\" class=\"data row8 col7\" >0.3749</td>\n",
       "                        <td id=\"T_eab6d048_d563_11ea_b08e_784561c206f4row8_col8\" class=\"data row8 col8\" >0.1341</td>\n",
       "            </tr>\n",
       "            <tr>\n",
       "                        <th id=\"T_eab6d048_d563_11ea_b08e_784561c206f4level0_row9\" class=\"row_heading level0 row9\" >9</th>\n",
       "                        <td id=\"T_eab6d048_d563_11ea_b08e_784561c206f4row9_col0\" class=\"data row9 col0\" >K Neighbors Classifier</td>\n",
       "                        <td id=\"T_eab6d048_d563_11ea_b08e_784561c206f4row9_col1\" class=\"data row9 col1\" >0.7131</td>\n",
       "                        <td id=\"T_eab6d048_d563_11ea_b08e_784561c206f4row9_col2\" class=\"data row9 col2\" >0.7528</td>\n",
       "                        <td id=\"T_eab6d048_d563_11ea_b08e_784561c206f4row9_col3\" class=\"data row9 col3\" >0.5506</td>\n",
       "                        <td id=\"T_eab6d048_d563_11ea_b08e_784561c206f4row9_col4\" class=\"data row9 col4\" >0.5998</td>\n",
       "                        <td id=\"T_eab6d048_d563_11ea_b08e_784561c206f4row9_col5\" class=\"data row9 col5\" >0.5695</td>\n",
       "                        <td id=\"T_eab6d048_d563_11ea_b08e_784561c206f4row9_col6\" class=\"data row9 col6\" >0.3562</td>\n",
       "                        <td id=\"T_eab6d048_d563_11ea_b08e_784561c206f4row9_col7\" class=\"data row9 col7\" >0.3599</td>\n",
       "                        <td id=\"T_eab6d048_d563_11ea_b08e_784561c206f4row9_col8\" class=\"data row9 col8\" >0.0160</td>\n",
       "            </tr>\n",
       "            <tr>\n",
       "                        <th id=\"T_eab6d048_d563_11ea_b08e_784561c206f4level0_row10\" class=\"row_heading level0 row10\" >10</th>\n",
       "                        <td id=\"T_eab6d048_d563_11ea_b08e_784561c206f4row10_col0\" class=\"data row10 col0\" >Ada Boost Classifier</td>\n",
       "                        <td id=\"T_eab6d048_d563_11ea_b08e_784561c206f4row10_col1\" class=\"data row10 col1\" >0.7078</td>\n",
       "                        <td id=\"T_eab6d048_d563_11ea_b08e_784561c206f4row10_col2\" class=\"data row10 col2\" >0.7834</td>\n",
       "                        <td id=\"T_eab6d048_d563_11ea_b08e_784561c206f4row10_col3\" class=\"data row10 col3\" >0.5289</td>\n",
       "                        <td id=\"T_eab6d048_d563_11ea_b08e_784561c206f4row10_col4\" class=\"data row10 col4\" >0.5913</td>\n",
       "                        <td id=\"T_eab6d048_d563_11ea_b08e_784561c206f4row10_col5\" class=\"data row10 col5\" >0.5525</td>\n",
       "                        <td id=\"T_eab6d048_d563_11ea_b08e_784561c206f4row10_col6\" class=\"data row10 col6\" >0.3383</td>\n",
       "                        <td id=\"T_eab6d048_d563_11ea_b08e_784561c206f4row10_col7\" class=\"data row10 col7\" >0.3429</td>\n",
       "                        <td id=\"T_eab6d048_d563_11ea_b08e_784561c206f4row10_col8\" class=\"data row10 col8\" >0.1108</td>\n",
       "            </tr>\n",
       "            <tr>\n",
       "                        <th id=\"T_eab6d048_d563_11ea_b08e_784561c206f4level0_row11\" class=\"row_heading level0 row11\" >11</th>\n",
       "                        <td id=\"T_eab6d048_d563_11ea_b08e_784561c206f4row11_col0\" class=\"data row11 col0\" >Naive Bayes</td>\n",
       "                        <td id=\"T_eab6d048_d563_11ea_b08e_784561c206f4row11_col1\" class=\"data row11 col1\" >0.6778</td>\n",
       "                        <td id=\"T_eab6d048_d563_11ea_b08e_784561c206f4row11_col2\" class=\"data row11 col2\" >0.7236</td>\n",
       "                        <td id=\"T_eab6d048_d563_11ea_b08e_784561c206f4row11_col3\" class=\"data row11 col3\" >0.2556</td>\n",
       "                        <td id=\"T_eab6d048_d563_11ea_b08e_784561c206f4row11_col4\" class=\"data row11 col4\" >0.5828</td>\n",
       "                        <td id=\"T_eab6d048_d563_11ea_b08e_784561c206f4row11_col5\" class=\"data row11 col5\" >0.3407</td>\n",
       "                        <td id=\"T_eab6d048_d563_11ea_b08e_784561c206f4row11_col6\" class=\"data row11 col6\" >0.1790</td>\n",
       "                        <td id=\"T_eab6d048_d563_11ea_b08e_784561c206f4row11_col7\" class=\"data row11 col7\" >0.2065</td>\n",
       "                        <td id=\"T_eab6d048_d563_11ea_b08e_784561c206f4row11_col8\" class=\"data row11 col8\" >0.0041</td>\n",
       "            </tr>\n",
       "            <tr>\n",
       "                        <th id=\"T_eab6d048_d563_11ea_b08e_784561c206f4level0_row12\" class=\"row_heading level0 row12\" >12</th>\n",
       "                        <td id=\"T_eab6d048_d563_11ea_b08e_784561c206f4row12_col0\" class=\"data row12 col0\" >Decision Tree Classifier</td>\n",
       "                        <td id=\"T_eab6d048_d563_11ea_b08e_784561c206f4row12_col1\" class=\"data row12 col1\" >0.6665</td>\n",
       "                        <td id=\"T_eab6d048_d563_11ea_b08e_784561c206f4row12_col2\" class=\"data row12 col2\" >0.6340</td>\n",
       "                        <td id=\"T_eab6d048_d563_11ea_b08e_784561c206f4row12_col3\" class=\"data row12 col3\" >0.5281</td>\n",
       "                        <td id=\"T_eab6d048_d563_11ea_b08e_784561c206f4row12_col4\" class=\"data row12 col4\" >0.5226</td>\n",
       "                        <td id=\"T_eab6d048_d563_11ea_b08e_784561c206f4row12_col5\" class=\"data row12 col5\" >0.5227</td>\n",
       "                        <td id=\"T_eab6d048_d563_11ea_b08e_784561c206f4row12_col6\" class=\"data row12 col6\" >0.2673</td>\n",
       "                        <td id=\"T_eab6d048_d563_11ea_b08e_784561c206f4row12_col7\" class=\"data row12 col7\" >0.2687</td>\n",
       "                        <td id=\"T_eab6d048_d563_11ea_b08e_784561c206f4row12_col8\" class=\"data row12 col8\" >0.0157</td>\n",
       "            </tr>\n",
       "            <tr>\n",
       "                        <th id=\"T_eab6d048_d563_11ea_b08e_784561c206f4level0_row13\" class=\"row_heading level0 row13\" >13</th>\n",
       "                        <td id=\"T_eab6d048_d563_11ea_b08e_784561c206f4row13_col0\" class=\"data row13 col0\" >Quadratic Discriminant Analysis</td>\n",
       "                        <td id=\"T_eab6d048_d563_11ea_b08e_784561c206f4row13_col1\" class=\"data row13 col1\" >0.6014</td>\n",
       "                        <td id=\"T_eab6d048_d563_11ea_b08e_784561c206f4row13_col2\" class=\"data row13 col2\" >0.5988</td>\n",
       "                        <td id=\"T_eab6d048_d563_11ea_b08e_784561c206f4row13_col3\" class=\"data row13 col3\" >0.3953</td>\n",
       "                        <td id=\"T_eab6d048_d563_11ea_b08e_784561c206f4row13_col4\" class=\"data row13 col4\" >0.4680</td>\n",
       "                        <td id=\"T_eab6d048_d563_11ea_b08e_784561c206f4row13_col5\" class=\"data row13 col5\" >0.3959</td>\n",
       "                        <td id=\"T_eab6d048_d563_11ea_b08e_784561c206f4row13_col6\" class=\"data row13 col6\" >0.1129</td>\n",
       "                        <td id=\"T_eab6d048_d563_11ea_b08e_784561c206f4row13_col7\" class=\"data row13 col7\" >0.1274</td>\n",
       "                        <td id=\"T_eab6d048_d563_11ea_b08e_784561c206f4row13_col8\" class=\"data row13 col8\" >0.0176</td>\n",
       "            </tr>\n",
       "            <tr>\n",
       "                        <th id=\"T_eab6d048_d563_11ea_b08e_784561c206f4level0_row14\" class=\"row_heading level0 row14\" >14</th>\n",
       "                        <td id=\"T_eab6d048_d563_11ea_b08e_784561c206f4row14_col0\" class=\"data row14 col0\" >SVM - Linear Kernel</td>\n",
       "                        <td id=\"T_eab6d048_d563_11ea_b08e_784561c206f4row14_col1\" class=\"data row14 col1\" >0.5451</td>\n",
       "                        <td id=\"T_eab6d048_d563_11ea_b08e_784561c206f4row14_col2\" class=\"data row14 col2\" >0.0000</td>\n",
       "                        <td id=\"T_eab6d048_d563_11ea_b08e_784561c206f4row14_col3\" class=\"data row14 col3\" >0.5158</td>\n",
       "                        <td id=\"T_eab6d048_d563_11ea_b08e_784561c206f4row14_col4\" class=\"data row14 col4\" >0.4439</td>\n",
       "                        <td id=\"T_eab6d048_d563_11ea_b08e_784561c206f4row14_col5\" class=\"data row14 col5\" >0.3633</td>\n",
       "                        <td id=\"T_eab6d048_d563_11ea_b08e_784561c206f4row14_col6\" class=\"data row14 col6\" >0.0872</td>\n",
       "                        <td id=\"T_eab6d048_d563_11ea_b08e_784561c206f4row14_col7\" class=\"data row14 col7\" >0.1060</td>\n",
       "                        <td id=\"T_eab6d048_d563_11ea_b08e_784561c206f4row14_col8\" class=\"data row14 col8\" >0.0192</td>\n",
       "            </tr>\n",
       "    </tbody></table>"
      ],
      "text/plain": [
       "<pandas.io.formats.style.Styler at 0x17942a95ac8>"
      ]
     },
     "metadata": {},
     "output_type": "display_data"
    },
    {
     "data": {
      "text/plain": [
       "LogisticRegression(C=1.0, class_weight=None, dual=False, fit_intercept=True,\n",
       "                   intercept_scaling=1, l1_ratio=None, max_iter=100,\n",
       "                   multi_class='auto', n_jobs=None, penalty='l2',\n",
       "                   random_state=5284, solver='lbfgs', tol=0.0001, verbose=0,\n",
       "                   warm_start=False)"
      ]
     },
     "execution_count": 1,
     "metadata": {},
     "output_type": "execute_result"
    }
   ],
   "source": [
    "# Importing dataset\n",
    "from pycaret.datasets import get_data\n",
    "diabetes = get_data('diabetes')\n",
    "# Importing module and initializing setup\n",
    "from pycaret.classification import *\n",
    "clf1 = setup(data = diabetes, target = 'Class variable')\n",
    "# comparing all models\n",
    "compare_models()"
   ]
  },
  {
   "cell_type": "code",
   "execution_count": 2,
   "metadata": {},
   "outputs": [
    {
     "data": {
      "text/html": [
       "<div>\n",
       "<style scoped>\n",
       "    .dataframe tbody tr th:only-of-type {\n",
       "        vertical-align: middle;\n",
       "    }\n",
       "\n",
       "    .dataframe tbody tr th {\n",
       "        vertical-align: top;\n",
       "    }\n",
       "\n",
       "    .dataframe thead th {\n",
       "        text-align: right;\n",
       "    }\n",
       "</style>\n",
       "<table border=\"1\" class=\"dataframe\">\n",
       "  <thead>\n",
       "    <tr style=\"text-align: right;\">\n",
       "      <th></th>\n",
       "      <th>crim</th>\n",
       "      <th>zn</th>\n",
       "      <th>indus</th>\n",
       "      <th>chas</th>\n",
       "      <th>nox</th>\n",
       "      <th>rm</th>\n",
       "      <th>age</th>\n",
       "      <th>dis</th>\n",
       "      <th>rad</th>\n",
       "      <th>tax</th>\n",
       "      <th>ptratio</th>\n",
       "      <th>black</th>\n",
       "      <th>lstat</th>\n",
       "      <th>medv</th>\n",
       "    </tr>\n",
       "  </thead>\n",
       "  <tbody>\n",
       "    <tr>\n",
       "      <th>0</th>\n",
       "      <td>0.00632</td>\n",
       "      <td>18.0</td>\n",
       "      <td>2.31</td>\n",
       "      <td>0</td>\n",
       "      <td>0.538</td>\n",
       "      <td>6.575</td>\n",
       "      <td>65.2</td>\n",
       "      <td>4.0900</td>\n",
       "      <td>1</td>\n",
       "      <td>296</td>\n",
       "      <td>15.3</td>\n",
       "      <td>396.90</td>\n",
       "      <td>4.98</td>\n",
       "      <td>24.0</td>\n",
       "    </tr>\n",
       "    <tr>\n",
       "      <th>1</th>\n",
       "      <td>0.02731</td>\n",
       "      <td>0.0</td>\n",
       "      <td>7.07</td>\n",
       "      <td>0</td>\n",
       "      <td>0.469</td>\n",
       "      <td>6.421</td>\n",
       "      <td>78.9</td>\n",
       "      <td>4.9671</td>\n",
       "      <td>2</td>\n",
       "      <td>242</td>\n",
       "      <td>17.8</td>\n",
       "      <td>396.90</td>\n",
       "      <td>9.14</td>\n",
       "      <td>21.6</td>\n",
       "    </tr>\n",
       "    <tr>\n",
       "      <th>2</th>\n",
       "      <td>0.02729</td>\n",
       "      <td>0.0</td>\n",
       "      <td>7.07</td>\n",
       "      <td>0</td>\n",
       "      <td>0.469</td>\n",
       "      <td>7.185</td>\n",
       "      <td>61.1</td>\n",
       "      <td>4.9671</td>\n",
       "      <td>2</td>\n",
       "      <td>242</td>\n",
       "      <td>17.8</td>\n",
       "      <td>392.83</td>\n",
       "      <td>4.03</td>\n",
       "      <td>34.7</td>\n",
       "    </tr>\n",
       "    <tr>\n",
       "      <th>3</th>\n",
       "      <td>0.03237</td>\n",
       "      <td>0.0</td>\n",
       "      <td>2.18</td>\n",
       "      <td>0</td>\n",
       "      <td>0.458</td>\n",
       "      <td>6.998</td>\n",
       "      <td>45.8</td>\n",
       "      <td>6.0622</td>\n",
       "      <td>3</td>\n",
       "      <td>222</td>\n",
       "      <td>18.7</td>\n",
       "      <td>394.63</td>\n",
       "      <td>2.94</td>\n",
       "      <td>33.4</td>\n",
       "    </tr>\n",
       "    <tr>\n",
       "      <th>4</th>\n",
       "      <td>0.06905</td>\n",
       "      <td>0.0</td>\n",
       "      <td>2.18</td>\n",
       "      <td>0</td>\n",
       "      <td>0.458</td>\n",
       "      <td>7.147</td>\n",
       "      <td>54.2</td>\n",
       "      <td>6.0622</td>\n",
       "      <td>3</td>\n",
       "      <td>222</td>\n",
       "      <td>18.7</td>\n",
       "      <td>396.90</td>\n",
       "      <td>5.33</td>\n",
       "      <td>36.2</td>\n",
       "    </tr>\n",
       "  </tbody>\n",
       "</table>\n",
       "</div>"
      ],
      "text/plain": [
       "      crim    zn  indus  chas    nox     rm   age     dis  rad  tax  ptratio  \\\n",
       "0  0.00632  18.0   2.31     0  0.538  6.575  65.2  4.0900    1  296     15.3   \n",
       "1  0.02731   0.0   7.07     0  0.469  6.421  78.9  4.9671    2  242     17.8   \n",
       "2  0.02729   0.0   7.07     0  0.469  7.185  61.1  4.9671    2  242     17.8   \n",
       "3  0.03237   0.0   2.18     0  0.458  6.998  45.8  6.0622    3  222     18.7   \n",
       "4  0.06905   0.0   2.18     0  0.458  7.147  54.2  6.0622    3  222     18.7   \n",
       "\n",
       "    black  lstat  medv  \n",
       "0  396.90   4.98  24.0  \n",
       "1  396.90   9.14  21.6  \n",
       "2  392.83   4.03  34.7  \n",
       "3  394.63   2.94  33.4  \n",
       "4  396.90   5.33  36.2  "
      ]
     },
     "metadata": {},
     "output_type": "display_data"
    }
   ],
   "source": [
    "boston_df=get_data('boston')"
   ]
  },
  {
   "cell_type": "code",
   "execution_count": 4,
   "metadata": {},
   "outputs": [],
   "source": [
    "from pycaret.regression import *"
   ]
  },
  {
   "cell_type": "code",
   "execution_count": 5,
   "metadata": {},
   "outputs": [
    {
     "name": "stdout",
     "output_type": "stream",
     "text": [
      " \n",
      "Setup Succesfully Completed.\n"
     ]
    },
    {
     "data": {
      "text/html": [
       "<style  type=\"text/css\" >\n",
       "</style><table id=\"T_0978af3a_d565_11ea_b1c7_784561c206f4\" ><thead>    <tr>        <th class=\"blank level0\" ></th>        <th class=\"col_heading level0 col0\" >Description</th>        <th class=\"col_heading level0 col1\" >Value</th>    </tr></thead><tbody>\n",
       "                <tr>\n",
       "                        <th id=\"T_0978af3a_d565_11ea_b1c7_784561c206f4level0_row0\" class=\"row_heading level0 row0\" >0</th>\n",
       "                        <td id=\"T_0978af3a_d565_11ea_b1c7_784561c206f4row0_col0\" class=\"data row0 col0\" >session_id</td>\n",
       "                        <td id=\"T_0978af3a_d565_11ea_b1c7_784561c206f4row0_col1\" class=\"data row0 col1\" >7477</td>\n",
       "            </tr>\n",
       "            <tr>\n",
       "                        <th id=\"T_0978af3a_d565_11ea_b1c7_784561c206f4level0_row1\" class=\"row_heading level0 row1\" >1</th>\n",
       "                        <td id=\"T_0978af3a_d565_11ea_b1c7_784561c206f4row1_col0\" class=\"data row1 col0\" >Transform Target </td>\n",
       "                        <td id=\"T_0978af3a_d565_11ea_b1c7_784561c206f4row1_col1\" class=\"data row1 col1\" >False</td>\n",
       "            </tr>\n",
       "            <tr>\n",
       "                        <th id=\"T_0978af3a_d565_11ea_b1c7_784561c206f4level0_row2\" class=\"row_heading level0 row2\" >2</th>\n",
       "                        <td id=\"T_0978af3a_d565_11ea_b1c7_784561c206f4row2_col0\" class=\"data row2 col0\" >Transform Target Method</td>\n",
       "                        <td id=\"T_0978af3a_d565_11ea_b1c7_784561c206f4row2_col1\" class=\"data row2 col1\" >None</td>\n",
       "            </tr>\n",
       "            <tr>\n",
       "                        <th id=\"T_0978af3a_d565_11ea_b1c7_784561c206f4level0_row3\" class=\"row_heading level0 row3\" >3</th>\n",
       "                        <td id=\"T_0978af3a_d565_11ea_b1c7_784561c206f4row3_col0\" class=\"data row3 col0\" >Original Data</td>\n",
       "                        <td id=\"T_0978af3a_d565_11ea_b1c7_784561c206f4row3_col1\" class=\"data row3 col1\" >(506, 14)</td>\n",
       "            </tr>\n",
       "            <tr>\n",
       "                        <th id=\"T_0978af3a_d565_11ea_b1c7_784561c206f4level0_row4\" class=\"row_heading level0 row4\" >4</th>\n",
       "                        <td id=\"T_0978af3a_d565_11ea_b1c7_784561c206f4row4_col0\" class=\"data row4 col0\" >Missing Values </td>\n",
       "                        <td id=\"T_0978af3a_d565_11ea_b1c7_784561c206f4row4_col1\" class=\"data row4 col1\" >False</td>\n",
       "            </tr>\n",
       "            <tr>\n",
       "                        <th id=\"T_0978af3a_d565_11ea_b1c7_784561c206f4level0_row5\" class=\"row_heading level0 row5\" >5</th>\n",
       "                        <td id=\"T_0978af3a_d565_11ea_b1c7_784561c206f4row5_col0\" class=\"data row5 col0\" >Numeric Features </td>\n",
       "                        <td id=\"T_0978af3a_d565_11ea_b1c7_784561c206f4row5_col1\" class=\"data row5 col1\" >11</td>\n",
       "            </tr>\n",
       "            <tr>\n",
       "                        <th id=\"T_0978af3a_d565_11ea_b1c7_784561c206f4level0_row6\" class=\"row_heading level0 row6\" >6</th>\n",
       "                        <td id=\"T_0978af3a_d565_11ea_b1c7_784561c206f4row6_col0\" class=\"data row6 col0\" >Categorical Features </td>\n",
       "                        <td id=\"T_0978af3a_d565_11ea_b1c7_784561c206f4row6_col1\" class=\"data row6 col1\" >2</td>\n",
       "            </tr>\n",
       "            <tr>\n",
       "                        <th id=\"T_0978af3a_d565_11ea_b1c7_784561c206f4level0_row7\" class=\"row_heading level0 row7\" >7</th>\n",
       "                        <td id=\"T_0978af3a_d565_11ea_b1c7_784561c206f4row7_col0\" class=\"data row7 col0\" >Ordinal Features </td>\n",
       "                        <td id=\"T_0978af3a_d565_11ea_b1c7_784561c206f4row7_col1\" class=\"data row7 col1\" >False</td>\n",
       "            </tr>\n",
       "            <tr>\n",
       "                        <th id=\"T_0978af3a_d565_11ea_b1c7_784561c206f4level0_row8\" class=\"row_heading level0 row8\" >8</th>\n",
       "                        <td id=\"T_0978af3a_d565_11ea_b1c7_784561c206f4row8_col0\" class=\"data row8 col0\" >High Cardinality Features </td>\n",
       "                        <td id=\"T_0978af3a_d565_11ea_b1c7_784561c206f4row8_col1\" class=\"data row8 col1\" >False</td>\n",
       "            </tr>\n",
       "            <tr>\n",
       "                        <th id=\"T_0978af3a_d565_11ea_b1c7_784561c206f4level0_row9\" class=\"row_heading level0 row9\" >9</th>\n",
       "                        <td id=\"T_0978af3a_d565_11ea_b1c7_784561c206f4row9_col0\" class=\"data row9 col0\" >High Cardinality Method </td>\n",
       "                        <td id=\"T_0978af3a_d565_11ea_b1c7_784561c206f4row9_col1\" class=\"data row9 col1\" >None</td>\n",
       "            </tr>\n",
       "            <tr>\n",
       "                        <th id=\"T_0978af3a_d565_11ea_b1c7_784561c206f4level0_row10\" class=\"row_heading level0 row10\" >10</th>\n",
       "                        <td id=\"T_0978af3a_d565_11ea_b1c7_784561c206f4row10_col0\" class=\"data row10 col0\" >Sampled Data</td>\n",
       "                        <td id=\"T_0978af3a_d565_11ea_b1c7_784561c206f4row10_col1\" class=\"data row10 col1\" >(506, 14)</td>\n",
       "            </tr>\n",
       "            <tr>\n",
       "                        <th id=\"T_0978af3a_d565_11ea_b1c7_784561c206f4level0_row11\" class=\"row_heading level0 row11\" >11</th>\n",
       "                        <td id=\"T_0978af3a_d565_11ea_b1c7_784561c206f4row11_col0\" class=\"data row11 col0\" >Transformed Train Set</td>\n",
       "                        <td id=\"T_0978af3a_d565_11ea_b1c7_784561c206f4row11_col1\" class=\"data row11 col1\" >(354, 22)</td>\n",
       "            </tr>\n",
       "            <tr>\n",
       "                        <th id=\"T_0978af3a_d565_11ea_b1c7_784561c206f4level0_row12\" class=\"row_heading level0 row12\" >12</th>\n",
       "                        <td id=\"T_0978af3a_d565_11ea_b1c7_784561c206f4row12_col0\" class=\"data row12 col0\" >Transformed Test Set</td>\n",
       "                        <td id=\"T_0978af3a_d565_11ea_b1c7_784561c206f4row12_col1\" class=\"data row12 col1\" >(152, 22)</td>\n",
       "            </tr>\n",
       "            <tr>\n",
       "                        <th id=\"T_0978af3a_d565_11ea_b1c7_784561c206f4level0_row13\" class=\"row_heading level0 row13\" >13</th>\n",
       "                        <td id=\"T_0978af3a_d565_11ea_b1c7_784561c206f4row13_col0\" class=\"data row13 col0\" >Numeric Imputer </td>\n",
       "                        <td id=\"T_0978af3a_d565_11ea_b1c7_784561c206f4row13_col1\" class=\"data row13 col1\" >mean</td>\n",
       "            </tr>\n",
       "            <tr>\n",
       "                        <th id=\"T_0978af3a_d565_11ea_b1c7_784561c206f4level0_row14\" class=\"row_heading level0 row14\" >14</th>\n",
       "                        <td id=\"T_0978af3a_d565_11ea_b1c7_784561c206f4row14_col0\" class=\"data row14 col0\" >Categorical Imputer </td>\n",
       "                        <td id=\"T_0978af3a_d565_11ea_b1c7_784561c206f4row14_col1\" class=\"data row14 col1\" >constant</td>\n",
       "            </tr>\n",
       "            <tr>\n",
       "                        <th id=\"T_0978af3a_d565_11ea_b1c7_784561c206f4level0_row15\" class=\"row_heading level0 row15\" >15</th>\n",
       "                        <td id=\"T_0978af3a_d565_11ea_b1c7_784561c206f4row15_col0\" class=\"data row15 col0\" >Normalize </td>\n",
       "                        <td id=\"T_0978af3a_d565_11ea_b1c7_784561c206f4row15_col1\" class=\"data row15 col1\" >False</td>\n",
       "            </tr>\n",
       "            <tr>\n",
       "                        <th id=\"T_0978af3a_d565_11ea_b1c7_784561c206f4level0_row16\" class=\"row_heading level0 row16\" >16</th>\n",
       "                        <td id=\"T_0978af3a_d565_11ea_b1c7_784561c206f4row16_col0\" class=\"data row16 col0\" >Normalize Method </td>\n",
       "                        <td id=\"T_0978af3a_d565_11ea_b1c7_784561c206f4row16_col1\" class=\"data row16 col1\" >None</td>\n",
       "            </tr>\n",
       "            <tr>\n",
       "                        <th id=\"T_0978af3a_d565_11ea_b1c7_784561c206f4level0_row17\" class=\"row_heading level0 row17\" >17</th>\n",
       "                        <td id=\"T_0978af3a_d565_11ea_b1c7_784561c206f4row17_col0\" class=\"data row17 col0\" >Transformation </td>\n",
       "                        <td id=\"T_0978af3a_d565_11ea_b1c7_784561c206f4row17_col1\" class=\"data row17 col1\" >False</td>\n",
       "            </tr>\n",
       "            <tr>\n",
       "                        <th id=\"T_0978af3a_d565_11ea_b1c7_784561c206f4level0_row18\" class=\"row_heading level0 row18\" >18</th>\n",
       "                        <td id=\"T_0978af3a_d565_11ea_b1c7_784561c206f4row18_col0\" class=\"data row18 col0\" >Transformation Method </td>\n",
       "                        <td id=\"T_0978af3a_d565_11ea_b1c7_784561c206f4row18_col1\" class=\"data row18 col1\" >None</td>\n",
       "            </tr>\n",
       "            <tr>\n",
       "                        <th id=\"T_0978af3a_d565_11ea_b1c7_784561c206f4level0_row19\" class=\"row_heading level0 row19\" >19</th>\n",
       "                        <td id=\"T_0978af3a_d565_11ea_b1c7_784561c206f4row19_col0\" class=\"data row19 col0\" >PCA </td>\n",
       "                        <td id=\"T_0978af3a_d565_11ea_b1c7_784561c206f4row19_col1\" class=\"data row19 col1\" >False</td>\n",
       "            </tr>\n",
       "            <tr>\n",
       "                        <th id=\"T_0978af3a_d565_11ea_b1c7_784561c206f4level0_row20\" class=\"row_heading level0 row20\" >20</th>\n",
       "                        <td id=\"T_0978af3a_d565_11ea_b1c7_784561c206f4row20_col0\" class=\"data row20 col0\" >PCA Method </td>\n",
       "                        <td id=\"T_0978af3a_d565_11ea_b1c7_784561c206f4row20_col1\" class=\"data row20 col1\" >None</td>\n",
       "            </tr>\n",
       "            <tr>\n",
       "                        <th id=\"T_0978af3a_d565_11ea_b1c7_784561c206f4level0_row21\" class=\"row_heading level0 row21\" >21</th>\n",
       "                        <td id=\"T_0978af3a_d565_11ea_b1c7_784561c206f4row21_col0\" class=\"data row21 col0\" >PCA Components </td>\n",
       "                        <td id=\"T_0978af3a_d565_11ea_b1c7_784561c206f4row21_col1\" class=\"data row21 col1\" >None</td>\n",
       "            </tr>\n",
       "            <tr>\n",
       "                        <th id=\"T_0978af3a_d565_11ea_b1c7_784561c206f4level0_row22\" class=\"row_heading level0 row22\" >22</th>\n",
       "                        <td id=\"T_0978af3a_d565_11ea_b1c7_784561c206f4row22_col0\" class=\"data row22 col0\" >Ignore Low Variance </td>\n",
       "                        <td id=\"T_0978af3a_d565_11ea_b1c7_784561c206f4row22_col1\" class=\"data row22 col1\" >False</td>\n",
       "            </tr>\n",
       "            <tr>\n",
       "                        <th id=\"T_0978af3a_d565_11ea_b1c7_784561c206f4level0_row23\" class=\"row_heading level0 row23\" >23</th>\n",
       "                        <td id=\"T_0978af3a_d565_11ea_b1c7_784561c206f4row23_col0\" class=\"data row23 col0\" >Combine Rare Levels </td>\n",
       "                        <td id=\"T_0978af3a_d565_11ea_b1c7_784561c206f4row23_col1\" class=\"data row23 col1\" >False</td>\n",
       "            </tr>\n",
       "            <tr>\n",
       "                        <th id=\"T_0978af3a_d565_11ea_b1c7_784561c206f4level0_row24\" class=\"row_heading level0 row24\" >24</th>\n",
       "                        <td id=\"T_0978af3a_d565_11ea_b1c7_784561c206f4row24_col0\" class=\"data row24 col0\" >Rare Level Threshold </td>\n",
       "                        <td id=\"T_0978af3a_d565_11ea_b1c7_784561c206f4row24_col1\" class=\"data row24 col1\" >None</td>\n",
       "            </tr>\n",
       "            <tr>\n",
       "                        <th id=\"T_0978af3a_d565_11ea_b1c7_784561c206f4level0_row25\" class=\"row_heading level0 row25\" >25</th>\n",
       "                        <td id=\"T_0978af3a_d565_11ea_b1c7_784561c206f4row25_col0\" class=\"data row25 col0\" >Numeric Binning </td>\n",
       "                        <td id=\"T_0978af3a_d565_11ea_b1c7_784561c206f4row25_col1\" class=\"data row25 col1\" >False</td>\n",
       "            </tr>\n",
       "            <tr>\n",
       "                        <th id=\"T_0978af3a_d565_11ea_b1c7_784561c206f4level0_row26\" class=\"row_heading level0 row26\" >26</th>\n",
       "                        <td id=\"T_0978af3a_d565_11ea_b1c7_784561c206f4row26_col0\" class=\"data row26 col0\" >Remove Outliers </td>\n",
       "                        <td id=\"T_0978af3a_d565_11ea_b1c7_784561c206f4row26_col1\" class=\"data row26 col1\" >False</td>\n",
       "            </tr>\n",
       "            <tr>\n",
       "                        <th id=\"T_0978af3a_d565_11ea_b1c7_784561c206f4level0_row27\" class=\"row_heading level0 row27\" >27</th>\n",
       "                        <td id=\"T_0978af3a_d565_11ea_b1c7_784561c206f4row27_col0\" class=\"data row27 col0\" >Outliers Threshold </td>\n",
       "                        <td id=\"T_0978af3a_d565_11ea_b1c7_784561c206f4row27_col1\" class=\"data row27 col1\" >None</td>\n",
       "            </tr>\n",
       "            <tr>\n",
       "                        <th id=\"T_0978af3a_d565_11ea_b1c7_784561c206f4level0_row28\" class=\"row_heading level0 row28\" >28</th>\n",
       "                        <td id=\"T_0978af3a_d565_11ea_b1c7_784561c206f4row28_col0\" class=\"data row28 col0\" >Remove Multicollinearity </td>\n",
       "                        <td id=\"T_0978af3a_d565_11ea_b1c7_784561c206f4row28_col1\" class=\"data row28 col1\" >False</td>\n",
       "            </tr>\n",
       "            <tr>\n",
       "                        <th id=\"T_0978af3a_d565_11ea_b1c7_784561c206f4level0_row29\" class=\"row_heading level0 row29\" >29</th>\n",
       "                        <td id=\"T_0978af3a_d565_11ea_b1c7_784561c206f4row29_col0\" class=\"data row29 col0\" >Multicollinearity Threshold </td>\n",
       "                        <td id=\"T_0978af3a_d565_11ea_b1c7_784561c206f4row29_col1\" class=\"data row29 col1\" >None</td>\n",
       "            </tr>\n",
       "            <tr>\n",
       "                        <th id=\"T_0978af3a_d565_11ea_b1c7_784561c206f4level0_row30\" class=\"row_heading level0 row30\" >30</th>\n",
       "                        <td id=\"T_0978af3a_d565_11ea_b1c7_784561c206f4row30_col0\" class=\"data row30 col0\" >Clustering </td>\n",
       "                        <td id=\"T_0978af3a_d565_11ea_b1c7_784561c206f4row30_col1\" class=\"data row30 col1\" >False</td>\n",
       "            </tr>\n",
       "            <tr>\n",
       "                        <th id=\"T_0978af3a_d565_11ea_b1c7_784561c206f4level0_row31\" class=\"row_heading level0 row31\" >31</th>\n",
       "                        <td id=\"T_0978af3a_d565_11ea_b1c7_784561c206f4row31_col0\" class=\"data row31 col0\" >Clustering Iteration </td>\n",
       "                        <td id=\"T_0978af3a_d565_11ea_b1c7_784561c206f4row31_col1\" class=\"data row31 col1\" >None</td>\n",
       "            </tr>\n",
       "            <tr>\n",
       "                        <th id=\"T_0978af3a_d565_11ea_b1c7_784561c206f4level0_row32\" class=\"row_heading level0 row32\" >32</th>\n",
       "                        <td id=\"T_0978af3a_d565_11ea_b1c7_784561c206f4row32_col0\" class=\"data row32 col0\" >Polynomial Features </td>\n",
       "                        <td id=\"T_0978af3a_d565_11ea_b1c7_784561c206f4row32_col1\" class=\"data row32 col1\" >False</td>\n",
       "            </tr>\n",
       "            <tr>\n",
       "                        <th id=\"T_0978af3a_d565_11ea_b1c7_784561c206f4level0_row33\" class=\"row_heading level0 row33\" >33</th>\n",
       "                        <td id=\"T_0978af3a_d565_11ea_b1c7_784561c206f4row33_col0\" class=\"data row33 col0\" >Polynomial Degree </td>\n",
       "                        <td id=\"T_0978af3a_d565_11ea_b1c7_784561c206f4row33_col1\" class=\"data row33 col1\" >None</td>\n",
       "            </tr>\n",
       "            <tr>\n",
       "                        <th id=\"T_0978af3a_d565_11ea_b1c7_784561c206f4level0_row34\" class=\"row_heading level0 row34\" >34</th>\n",
       "                        <td id=\"T_0978af3a_d565_11ea_b1c7_784561c206f4row34_col0\" class=\"data row34 col0\" >Trignometry Features </td>\n",
       "                        <td id=\"T_0978af3a_d565_11ea_b1c7_784561c206f4row34_col1\" class=\"data row34 col1\" >False</td>\n",
       "            </tr>\n",
       "            <tr>\n",
       "                        <th id=\"T_0978af3a_d565_11ea_b1c7_784561c206f4level0_row35\" class=\"row_heading level0 row35\" >35</th>\n",
       "                        <td id=\"T_0978af3a_d565_11ea_b1c7_784561c206f4row35_col0\" class=\"data row35 col0\" >Polynomial Threshold </td>\n",
       "                        <td id=\"T_0978af3a_d565_11ea_b1c7_784561c206f4row35_col1\" class=\"data row35 col1\" >None</td>\n",
       "            </tr>\n",
       "            <tr>\n",
       "                        <th id=\"T_0978af3a_d565_11ea_b1c7_784561c206f4level0_row36\" class=\"row_heading level0 row36\" >36</th>\n",
       "                        <td id=\"T_0978af3a_d565_11ea_b1c7_784561c206f4row36_col0\" class=\"data row36 col0\" >Group Features </td>\n",
       "                        <td id=\"T_0978af3a_d565_11ea_b1c7_784561c206f4row36_col1\" class=\"data row36 col1\" >False</td>\n",
       "            </tr>\n",
       "            <tr>\n",
       "                        <th id=\"T_0978af3a_d565_11ea_b1c7_784561c206f4level0_row37\" class=\"row_heading level0 row37\" >37</th>\n",
       "                        <td id=\"T_0978af3a_d565_11ea_b1c7_784561c206f4row37_col0\" class=\"data row37 col0\" >Feature Selection </td>\n",
       "                        <td id=\"T_0978af3a_d565_11ea_b1c7_784561c206f4row37_col1\" class=\"data row37 col1\" >False</td>\n",
       "            </tr>\n",
       "            <tr>\n",
       "                        <th id=\"T_0978af3a_d565_11ea_b1c7_784561c206f4level0_row38\" class=\"row_heading level0 row38\" >38</th>\n",
       "                        <td id=\"T_0978af3a_d565_11ea_b1c7_784561c206f4row38_col0\" class=\"data row38 col0\" >Features Selection Threshold </td>\n",
       "                        <td id=\"T_0978af3a_d565_11ea_b1c7_784561c206f4row38_col1\" class=\"data row38 col1\" >None</td>\n",
       "            </tr>\n",
       "            <tr>\n",
       "                        <th id=\"T_0978af3a_d565_11ea_b1c7_784561c206f4level0_row39\" class=\"row_heading level0 row39\" >39</th>\n",
       "                        <td id=\"T_0978af3a_d565_11ea_b1c7_784561c206f4row39_col0\" class=\"data row39 col0\" >Feature Interaction </td>\n",
       "                        <td id=\"T_0978af3a_d565_11ea_b1c7_784561c206f4row39_col1\" class=\"data row39 col1\" >False</td>\n",
       "            </tr>\n",
       "            <tr>\n",
       "                        <th id=\"T_0978af3a_d565_11ea_b1c7_784561c206f4level0_row40\" class=\"row_heading level0 row40\" >40</th>\n",
       "                        <td id=\"T_0978af3a_d565_11ea_b1c7_784561c206f4row40_col0\" class=\"data row40 col0\" >Feature Ratio </td>\n",
       "                        <td id=\"T_0978af3a_d565_11ea_b1c7_784561c206f4row40_col1\" class=\"data row40 col1\" >False</td>\n",
       "            </tr>\n",
       "            <tr>\n",
       "                        <th id=\"T_0978af3a_d565_11ea_b1c7_784561c206f4level0_row41\" class=\"row_heading level0 row41\" >41</th>\n",
       "                        <td id=\"T_0978af3a_d565_11ea_b1c7_784561c206f4row41_col0\" class=\"data row41 col0\" >Interaction Threshold </td>\n",
       "                        <td id=\"T_0978af3a_d565_11ea_b1c7_784561c206f4row41_col1\" class=\"data row41 col1\" >None</td>\n",
       "            </tr>\n",
       "    </tbody></table>"
      ],
      "text/plain": [
       "<pandas.io.formats.style.Styler at 0x17945afdcc8>"
      ]
     },
     "metadata": {},
     "output_type": "display_data"
    }
   ],
   "source": [
    "reg=setup(data=boston_df,target='medv')"
   ]
  },
  {
   "cell_type": "code",
   "execution_count": 6,
   "metadata": {},
   "outputs": [
    {
     "data": {
      "text/html": [
       "<style  type=\"text/css\" >\n",
       "    #T_7d6cc568_d565_11ea_a51c_784561c206f4 th {\n",
       "          text-align: left;\n",
       "    }#T_7d6cc568_d565_11ea_a51c_784561c206f4row0_col0,#T_7d6cc568_d565_11ea_a51c_784561c206f4row0_col5,#T_7d6cc568_d565_11ea_a51c_784561c206f4row1_col0,#T_7d6cc568_d565_11ea_a51c_784561c206f4row1_col1,#T_7d6cc568_d565_11ea_a51c_784561c206f4row1_col2,#T_7d6cc568_d565_11ea_a51c_784561c206f4row1_col3,#T_7d6cc568_d565_11ea_a51c_784561c206f4row1_col4,#T_7d6cc568_d565_11ea_a51c_784561c206f4row1_col6,#T_7d6cc568_d565_11ea_a51c_784561c206f4row2_col0,#T_7d6cc568_d565_11ea_a51c_784561c206f4row2_col1,#T_7d6cc568_d565_11ea_a51c_784561c206f4row2_col2,#T_7d6cc568_d565_11ea_a51c_784561c206f4row2_col3,#T_7d6cc568_d565_11ea_a51c_784561c206f4row2_col4,#T_7d6cc568_d565_11ea_a51c_784561c206f4row2_col5,#T_7d6cc568_d565_11ea_a51c_784561c206f4row2_col6,#T_7d6cc568_d565_11ea_a51c_784561c206f4row3_col0,#T_7d6cc568_d565_11ea_a51c_784561c206f4row3_col1,#T_7d6cc568_d565_11ea_a51c_784561c206f4row3_col2,#T_7d6cc568_d565_11ea_a51c_784561c206f4row3_col3,#T_7d6cc568_d565_11ea_a51c_784561c206f4row3_col4,#T_7d6cc568_d565_11ea_a51c_784561c206f4row3_col5,#T_7d6cc568_d565_11ea_a51c_784561c206f4row3_col6,#T_7d6cc568_d565_11ea_a51c_784561c206f4row4_col0,#T_7d6cc568_d565_11ea_a51c_784561c206f4row4_col1,#T_7d6cc568_d565_11ea_a51c_784561c206f4row4_col2,#T_7d6cc568_d565_11ea_a51c_784561c206f4row4_col3,#T_7d6cc568_d565_11ea_a51c_784561c206f4row4_col4,#T_7d6cc568_d565_11ea_a51c_784561c206f4row4_col5,#T_7d6cc568_d565_11ea_a51c_784561c206f4row4_col6,#T_7d6cc568_d565_11ea_a51c_784561c206f4row5_col0,#T_7d6cc568_d565_11ea_a51c_784561c206f4row5_col1,#T_7d6cc568_d565_11ea_a51c_784561c206f4row5_col2,#T_7d6cc568_d565_11ea_a51c_784561c206f4row5_col3,#T_7d6cc568_d565_11ea_a51c_784561c206f4row5_col4,#T_7d6cc568_d565_11ea_a51c_784561c206f4row5_col5,#T_7d6cc568_d565_11ea_a51c_784561c206f4row5_col6,#T_7d6cc568_d565_11ea_a51c_784561c206f4row6_col0,#T_7d6cc568_d565_11ea_a51c_784561c206f4row6_col1,#T_7d6cc568_d565_11ea_a51c_784561c206f4row6_col2,#T_7d6cc568_d565_11ea_a51c_784561c206f4row6_col3,#T_7d6cc568_d565_11ea_a51c_784561c206f4row6_col4,#T_7d6cc568_d565_11ea_a51c_784561c206f4row6_col5,#T_7d6cc568_d565_11ea_a51c_784561c206f4row6_col6,#T_7d6cc568_d565_11ea_a51c_784561c206f4row7_col0,#T_7d6cc568_d565_11ea_a51c_784561c206f4row7_col1,#T_7d6cc568_d565_11ea_a51c_784561c206f4row7_col2,#T_7d6cc568_d565_11ea_a51c_784561c206f4row7_col3,#T_7d6cc568_d565_11ea_a51c_784561c206f4row7_col4,#T_7d6cc568_d565_11ea_a51c_784561c206f4row7_col5,#T_7d6cc568_d565_11ea_a51c_784561c206f4row7_col6,#T_7d6cc568_d565_11ea_a51c_784561c206f4row8_col0,#T_7d6cc568_d565_11ea_a51c_784561c206f4row8_col1,#T_7d6cc568_d565_11ea_a51c_784561c206f4row8_col2,#T_7d6cc568_d565_11ea_a51c_784561c206f4row8_col3,#T_7d6cc568_d565_11ea_a51c_784561c206f4row8_col4,#T_7d6cc568_d565_11ea_a51c_784561c206f4row8_col5,#T_7d6cc568_d565_11ea_a51c_784561c206f4row8_col6,#T_7d6cc568_d565_11ea_a51c_784561c206f4row9_col0,#T_7d6cc568_d565_11ea_a51c_784561c206f4row9_col1,#T_7d6cc568_d565_11ea_a51c_784561c206f4row9_col2,#T_7d6cc568_d565_11ea_a51c_784561c206f4row9_col3,#T_7d6cc568_d565_11ea_a51c_784561c206f4row9_col4,#T_7d6cc568_d565_11ea_a51c_784561c206f4row9_col5,#T_7d6cc568_d565_11ea_a51c_784561c206f4row9_col6,#T_7d6cc568_d565_11ea_a51c_784561c206f4row10_col0,#T_7d6cc568_d565_11ea_a51c_784561c206f4row10_col1,#T_7d6cc568_d565_11ea_a51c_784561c206f4row10_col2,#T_7d6cc568_d565_11ea_a51c_784561c206f4row10_col3,#T_7d6cc568_d565_11ea_a51c_784561c206f4row10_col4,#T_7d6cc568_d565_11ea_a51c_784561c206f4row10_col5,#T_7d6cc568_d565_11ea_a51c_784561c206f4row10_col6,#T_7d6cc568_d565_11ea_a51c_784561c206f4row11_col0,#T_7d6cc568_d565_11ea_a51c_784561c206f4row11_col1,#T_7d6cc568_d565_11ea_a51c_784561c206f4row11_col2,#T_7d6cc568_d565_11ea_a51c_784561c206f4row11_col3,#T_7d6cc568_d565_11ea_a51c_784561c206f4row11_col4,#T_7d6cc568_d565_11ea_a51c_784561c206f4row11_col5,#T_7d6cc568_d565_11ea_a51c_784561c206f4row11_col6,#T_7d6cc568_d565_11ea_a51c_784561c206f4row12_col0,#T_7d6cc568_d565_11ea_a51c_784561c206f4row12_col1,#T_7d6cc568_d565_11ea_a51c_784561c206f4row12_col2,#T_7d6cc568_d565_11ea_a51c_784561c206f4row12_col3,#T_7d6cc568_d565_11ea_a51c_784561c206f4row12_col4,#T_7d6cc568_d565_11ea_a51c_784561c206f4row12_col5,#T_7d6cc568_d565_11ea_a51c_784561c206f4row12_col6,#T_7d6cc568_d565_11ea_a51c_784561c206f4row13_col0,#T_7d6cc568_d565_11ea_a51c_784561c206f4row13_col1,#T_7d6cc568_d565_11ea_a51c_784561c206f4row13_col2,#T_7d6cc568_d565_11ea_a51c_784561c206f4row13_col3,#T_7d6cc568_d565_11ea_a51c_784561c206f4row13_col4,#T_7d6cc568_d565_11ea_a51c_784561c206f4row13_col5,#T_7d6cc568_d565_11ea_a51c_784561c206f4row13_col6,#T_7d6cc568_d565_11ea_a51c_784561c206f4row14_col0,#T_7d6cc568_d565_11ea_a51c_784561c206f4row14_col1,#T_7d6cc568_d565_11ea_a51c_784561c206f4row14_col2,#T_7d6cc568_d565_11ea_a51c_784561c206f4row14_col3,#T_7d6cc568_d565_11ea_a51c_784561c206f4row14_col4,#T_7d6cc568_d565_11ea_a51c_784561c206f4row14_col5,#T_7d6cc568_d565_11ea_a51c_784561c206f4row14_col6,#T_7d6cc568_d565_11ea_a51c_784561c206f4row15_col0,#T_7d6cc568_d565_11ea_a51c_784561c206f4row15_col1,#T_7d6cc568_d565_11ea_a51c_784561c206f4row15_col2,#T_7d6cc568_d565_11ea_a51c_784561c206f4row15_col3,#T_7d6cc568_d565_11ea_a51c_784561c206f4row15_col4,#T_7d6cc568_d565_11ea_a51c_784561c206f4row15_col5,#T_7d6cc568_d565_11ea_a51c_784561c206f4row15_col6,#T_7d6cc568_d565_11ea_a51c_784561c206f4row16_col0,#T_7d6cc568_d565_11ea_a51c_784561c206f4row16_col1,#T_7d6cc568_d565_11ea_a51c_784561c206f4row16_col2,#T_7d6cc568_d565_11ea_a51c_784561c206f4row16_col3,#T_7d6cc568_d565_11ea_a51c_784561c206f4row16_col4,#T_7d6cc568_d565_11ea_a51c_784561c206f4row16_col5,#T_7d6cc568_d565_11ea_a51c_784561c206f4row16_col6,#T_7d6cc568_d565_11ea_a51c_784561c206f4row17_col0,#T_7d6cc568_d565_11ea_a51c_784561c206f4row17_col1,#T_7d6cc568_d565_11ea_a51c_784561c206f4row17_col2,#T_7d6cc568_d565_11ea_a51c_784561c206f4row17_col3,#T_7d6cc568_d565_11ea_a51c_784561c206f4row17_col4,#T_7d6cc568_d565_11ea_a51c_784561c206f4row17_col5,#T_7d6cc568_d565_11ea_a51c_784561c206f4row17_col6,#T_7d6cc568_d565_11ea_a51c_784561c206f4row18_col0,#T_7d6cc568_d565_11ea_a51c_784561c206f4row18_col1,#T_7d6cc568_d565_11ea_a51c_784561c206f4row18_col2,#T_7d6cc568_d565_11ea_a51c_784561c206f4row18_col3,#T_7d6cc568_d565_11ea_a51c_784561c206f4row18_col4,#T_7d6cc568_d565_11ea_a51c_784561c206f4row18_col5,#T_7d6cc568_d565_11ea_a51c_784561c206f4row18_col6,#T_7d6cc568_d565_11ea_a51c_784561c206f4row19_col0,#T_7d6cc568_d565_11ea_a51c_784561c206f4row19_col1,#T_7d6cc568_d565_11ea_a51c_784561c206f4row19_col2,#T_7d6cc568_d565_11ea_a51c_784561c206f4row19_col3,#T_7d6cc568_d565_11ea_a51c_784561c206f4row19_col4,#T_7d6cc568_d565_11ea_a51c_784561c206f4row19_col5,#T_7d6cc568_d565_11ea_a51c_784561c206f4row19_col6,#T_7d6cc568_d565_11ea_a51c_784561c206f4row20_col0,#T_7d6cc568_d565_11ea_a51c_784561c206f4row20_col1,#T_7d6cc568_d565_11ea_a51c_784561c206f4row20_col2,#T_7d6cc568_d565_11ea_a51c_784561c206f4row20_col3,#T_7d6cc568_d565_11ea_a51c_784561c206f4row20_col4,#T_7d6cc568_d565_11ea_a51c_784561c206f4row20_col5,#T_7d6cc568_d565_11ea_a51c_784561c206f4row20_col6,#T_7d6cc568_d565_11ea_a51c_784561c206f4row21_col0,#T_7d6cc568_d565_11ea_a51c_784561c206f4row21_col1,#T_7d6cc568_d565_11ea_a51c_784561c206f4row21_col2,#T_7d6cc568_d565_11ea_a51c_784561c206f4row21_col3,#T_7d6cc568_d565_11ea_a51c_784561c206f4row21_col4,#T_7d6cc568_d565_11ea_a51c_784561c206f4row21_col5,#T_7d6cc568_d565_11ea_a51c_784561c206f4row21_col6{\n",
       "            text-align:  left;\n",
       "        }#T_7d6cc568_d565_11ea_a51c_784561c206f4row0_col1,#T_7d6cc568_d565_11ea_a51c_784561c206f4row0_col2,#T_7d6cc568_d565_11ea_a51c_784561c206f4row0_col3,#T_7d6cc568_d565_11ea_a51c_784561c206f4row0_col4,#T_7d6cc568_d565_11ea_a51c_784561c206f4row0_col6,#T_7d6cc568_d565_11ea_a51c_784561c206f4row1_col5{\n",
       "            background-color:  yellow;\n",
       "            text-align:  left;\n",
       "        }#T_7d6cc568_d565_11ea_a51c_784561c206f4row0_col7,#T_7d6cc568_d565_11ea_a51c_784561c206f4row1_col7,#T_7d6cc568_d565_11ea_a51c_784561c206f4row2_col7,#T_7d6cc568_d565_11ea_a51c_784561c206f4row3_col7,#T_7d6cc568_d565_11ea_a51c_784561c206f4row4_col7,#T_7d6cc568_d565_11ea_a51c_784561c206f4row5_col7,#T_7d6cc568_d565_11ea_a51c_784561c206f4row6_col7,#T_7d6cc568_d565_11ea_a51c_784561c206f4row7_col7,#T_7d6cc568_d565_11ea_a51c_784561c206f4row8_col7,#T_7d6cc568_d565_11ea_a51c_784561c206f4row9_col7,#T_7d6cc568_d565_11ea_a51c_784561c206f4row10_col7,#T_7d6cc568_d565_11ea_a51c_784561c206f4row11_col7,#T_7d6cc568_d565_11ea_a51c_784561c206f4row12_col7,#T_7d6cc568_d565_11ea_a51c_784561c206f4row13_col7,#T_7d6cc568_d565_11ea_a51c_784561c206f4row14_col7,#T_7d6cc568_d565_11ea_a51c_784561c206f4row15_col7,#T_7d6cc568_d565_11ea_a51c_784561c206f4row16_col7,#T_7d6cc568_d565_11ea_a51c_784561c206f4row17_col7,#T_7d6cc568_d565_11ea_a51c_784561c206f4row18_col7,#T_7d6cc568_d565_11ea_a51c_784561c206f4row19_col7,#T_7d6cc568_d565_11ea_a51c_784561c206f4row20_col7,#T_7d6cc568_d565_11ea_a51c_784561c206f4row21_col7{\n",
       "            background-color:  lightgrey;\n",
       "            text-align:  left;\n",
       "        }</style><table id=\"T_7d6cc568_d565_11ea_a51c_784561c206f4\" ><thead>    <tr>        <th class=\"blank level0\" ></th>        <th class=\"col_heading level0 col0\" >Model</th>        <th class=\"col_heading level0 col1\" >MAE</th>        <th class=\"col_heading level0 col2\" >MSE</th>        <th class=\"col_heading level0 col3\" >RMSE</th>        <th class=\"col_heading level0 col4\" >R2</th>        <th class=\"col_heading level0 col5\" >RMSLE</th>        <th class=\"col_heading level0 col6\" >MAPE</th>        <th class=\"col_heading level0 col7\" >TT (Sec)</th>    </tr></thead><tbody>\n",
       "                <tr>\n",
       "                        <th id=\"T_7d6cc568_d565_11ea_a51c_784561c206f4level0_row0\" class=\"row_heading level0 row0\" >0</th>\n",
       "                        <td id=\"T_7d6cc568_d565_11ea_a51c_784561c206f4row0_col0\" class=\"data row0 col0\" >CatBoost Regressor</td>\n",
       "                        <td id=\"T_7d6cc568_d565_11ea_a51c_784561c206f4row0_col1\" class=\"data row0 col1\" >2.1232</td>\n",
       "                        <td id=\"T_7d6cc568_d565_11ea_a51c_784561c206f4row0_col2\" class=\"data row0 col2\" >9.2703</td>\n",
       "                        <td id=\"T_7d6cc568_d565_11ea_a51c_784561c206f4row0_col3\" class=\"data row0 col3\" >2.9469</td>\n",
       "                        <td id=\"T_7d6cc568_d565_11ea_a51c_784561c206f4row0_col4\" class=\"data row0 col4\" >0.8791</td>\n",
       "                        <td id=\"T_7d6cc568_d565_11ea_a51c_784561c206f4row0_col5\" class=\"data row0 col5\" >0.1317</td>\n",
       "                        <td id=\"T_7d6cc568_d565_11ea_a51c_784561c206f4row0_col6\" class=\"data row0 col6\" >0.1044</td>\n",
       "                        <td id=\"T_7d6cc568_d565_11ea_a51c_784561c206f4row0_col7\" class=\"data row0 col7\" >3.1042</td>\n",
       "            </tr>\n",
       "            <tr>\n",
       "                        <th id=\"T_7d6cc568_d565_11ea_a51c_784561c206f4level0_row1\" class=\"row_heading level0 row1\" >1</th>\n",
       "                        <td id=\"T_7d6cc568_d565_11ea_a51c_784561c206f4row1_col0\" class=\"data row1 col0\" >Extra Trees Regressor</td>\n",
       "                        <td id=\"T_7d6cc568_d565_11ea_a51c_784561c206f4row1_col1\" class=\"data row1 col1\" >2.1452</td>\n",
       "                        <td id=\"T_7d6cc568_d565_11ea_a51c_784561c206f4row1_col2\" class=\"data row1 col2\" >10.1007</td>\n",
       "                        <td id=\"T_7d6cc568_d565_11ea_a51c_784561c206f4row1_col3\" class=\"data row1 col3\" >3.0158</td>\n",
       "                        <td id=\"T_7d6cc568_d565_11ea_a51c_784561c206f4row1_col4\" class=\"data row1 col4\" >0.8726</td>\n",
       "                        <td id=\"T_7d6cc568_d565_11ea_a51c_784561c206f4row1_col5\" class=\"data row1 col5\" >0.1298</td>\n",
       "                        <td id=\"T_7d6cc568_d565_11ea_a51c_784561c206f4row1_col6\" class=\"data row1 col6\" >0.1048</td>\n",
       "                        <td id=\"T_7d6cc568_d565_11ea_a51c_784561c206f4row1_col7\" class=\"data row1 col7\" >0.2730</td>\n",
       "            </tr>\n",
       "            <tr>\n",
       "                        <th id=\"T_7d6cc568_d565_11ea_a51c_784561c206f4level0_row2\" class=\"row_heading level0 row2\" >2</th>\n",
       "                        <td id=\"T_7d6cc568_d565_11ea_a51c_784561c206f4row2_col0\" class=\"data row2 col0\" >Extreme Gradient Boosting</td>\n",
       "                        <td id=\"T_7d6cc568_d565_11ea_a51c_784561c206f4row2_col1\" class=\"data row2 col1\" >2.3497</td>\n",
       "                        <td id=\"T_7d6cc568_d565_11ea_a51c_784561c206f4row2_col2\" class=\"data row2 col2\" >10.0624</td>\n",
       "                        <td id=\"T_7d6cc568_d565_11ea_a51c_784561c206f4row2_col3\" class=\"data row2 col3\" >3.1283</td>\n",
       "                        <td id=\"T_7d6cc568_d565_11ea_a51c_784561c206f4row2_col4\" class=\"data row2 col4\" >0.8669</td>\n",
       "                        <td id=\"T_7d6cc568_d565_11ea_a51c_784561c206f4row2_col5\" class=\"data row2 col5\" >0.1412</td>\n",
       "                        <td id=\"T_7d6cc568_d565_11ea_a51c_784561c206f4row2_col6\" class=\"data row2 col6\" >0.1165</td>\n",
       "                        <td id=\"T_7d6cc568_d565_11ea_a51c_784561c206f4row2_col7\" class=\"data row2 col7\" >0.1385</td>\n",
       "            </tr>\n",
       "            <tr>\n",
       "                        <th id=\"T_7d6cc568_d565_11ea_a51c_784561c206f4level0_row3\" class=\"row_heading level0 row3\" >3</th>\n",
       "                        <td id=\"T_7d6cc568_d565_11ea_a51c_784561c206f4row3_col0\" class=\"data row3 col0\" >Gradient Boosting Regressor</td>\n",
       "                        <td id=\"T_7d6cc568_d565_11ea_a51c_784561c206f4row3_col1\" class=\"data row3 col1\" >2.2859</td>\n",
       "                        <td id=\"T_7d6cc568_d565_11ea_a51c_784561c206f4row3_col2\" class=\"data row3 col2\" >10.8079</td>\n",
       "                        <td id=\"T_7d6cc568_d565_11ea_a51c_784561c206f4row3_col3\" class=\"data row3 col3\" >3.1813</td>\n",
       "                        <td id=\"T_7d6cc568_d565_11ea_a51c_784561c206f4row3_col4\" class=\"data row3 col4\" >0.8574</td>\n",
       "                        <td id=\"T_7d6cc568_d565_11ea_a51c_784561c206f4row3_col5\" class=\"data row3 col5\" >0.1411</td>\n",
       "                        <td id=\"T_7d6cc568_d565_11ea_a51c_784561c206f4row3_col6\" class=\"data row3 col6\" >0.1134</td>\n",
       "                        <td id=\"T_7d6cc568_d565_11ea_a51c_784561c206f4row3_col7\" class=\"data row3 col7\" >0.1473</td>\n",
       "            </tr>\n",
       "            <tr>\n",
       "                        <th id=\"T_7d6cc568_d565_11ea_a51c_784561c206f4level0_row4\" class=\"row_heading level0 row4\" >4</th>\n",
       "                        <td id=\"T_7d6cc568_d565_11ea_a51c_784561c206f4row4_col0\" class=\"data row4 col0\" >Random Forest</td>\n",
       "                        <td id=\"T_7d6cc568_d565_11ea_a51c_784561c206f4row4_col1\" class=\"data row4 col1\" >2.3914</td>\n",
       "                        <td id=\"T_7d6cc568_d565_11ea_a51c_784561c206f4row4_col2\" class=\"data row4 col2\" >13.3777</td>\n",
       "                        <td id=\"T_7d6cc568_d565_11ea_a51c_784561c206f4row4_col3\" class=\"data row4 col3\" >3.4911</td>\n",
       "                        <td id=\"T_7d6cc568_d565_11ea_a51c_784561c206f4row4_col4\" class=\"data row4 col4\" >0.8295</td>\n",
       "                        <td id=\"T_7d6cc568_d565_11ea_a51c_784561c206f4row4_col5\" class=\"data row4 col5\" >0.1477</td>\n",
       "                        <td id=\"T_7d6cc568_d565_11ea_a51c_784561c206f4row4_col6\" class=\"data row4 col6\" >0.1159</td>\n",
       "                        <td id=\"T_7d6cc568_d565_11ea_a51c_784561c206f4row4_col7\" class=\"data row4 col7\" >0.3629</td>\n",
       "            </tr>\n",
       "            <tr>\n",
       "                        <th id=\"T_7d6cc568_d565_11ea_a51c_784561c206f4level0_row5\" class=\"row_heading level0 row5\" >5</th>\n",
       "                        <td id=\"T_7d6cc568_d565_11ea_a51c_784561c206f4row5_col0\" class=\"data row5 col0\" >Light Gradient Boosting Machine</td>\n",
       "                        <td id=\"T_7d6cc568_d565_11ea_a51c_784561c206f4row5_col1\" class=\"data row5 col1\" >2.4514</td>\n",
       "                        <td id=\"T_7d6cc568_d565_11ea_a51c_784561c206f4row5_col2\" class=\"data row5 col2\" >13.1756</td>\n",
       "                        <td id=\"T_7d6cc568_d565_11ea_a51c_784561c206f4row5_col3\" class=\"data row5 col3\" >3.5145</td>\n",
       "                        <td id=\"T_7d6cc568_d565_11ea_a51c_784561c206f4row5_col4\" class=\"data row5 col4\" >0.8272</td>\n",
       "                        <td id=\"T_7d6cc568_d565_11ea_a51c_784561c206f4row5_col5\" class=\"data row5 col5\" >0.1543</td>\n",
       "                        <td id=\"T_7d6cc568_d565_11ea_a51c_784561c206f4row5_col6\" class=\"data row5 col6\" >0.1210</td>\n",
       "                        <td id=\"T_7d6cc568_d565_11ea_a51c_784561c206f4row5_col7\" class=\"data row5 col7\" >0.0933</td>\n",
       "            </tr>\n",
       "            <tr>\n",
       "                        <th id=\"T_7d6cc568_d565_11ea_a51c_784561c206f4level0_row6\" class=\"row_heading level0 row6\" >6</th>\n",
       "                        <td id=\"T_7d6cc568_d565_11ea_a51c_784561c206f4row6_col0\" class=\"data row6 col0\" >AdaBoost Regressor</td>\n",
       "                        <td id=\"T_7d6cc568_d565_11ea_a51c_784561c206f4row6_col1\" class=\"data row6 col1\" >2.6290</td>\n",
       "                        <td id=\"T_7d6cc568_d565_11ea_a51c_784561c206f4row6_col2\" class=\"data row6 col2\" >14.6151</td>\n",
       "                        <td id=\"T_7d6cc568_d565_11ea_a51c_784561c206f4row6_col3\" class=\"data row6 col3\" >3.6905</td>\n",
       "                        <td id=\"T_7d6cc568_d565_11ea_a51c_784561c206f4row6_col4\" class=\"data row6 col4\" >0.8090</td>\n",
       "                        <td id=\"T_7d6cc568_d565_11ea_a51c_784561c206f4row6_col5\" class=\"data row6 col5\" >0.1645</td>\n",
       "                        <td id=\"T_7d6cc568_d565_11ea_a51c_784561c206f4row6_col6\" class=\"data row6 col6\" >0.1339</td>\n",
       "                        <td id=\"T_7d6cc568_d565_11ea_a51c_784561c206f4row6_col7\" class=\"data row6 col7\" >0.1564</td>\n",
       "            </tr>\n",
       "            <tr>\n",
       "                        <th id=\"T_7d6cc568_d565_11ea_a51c_784561c206f4level0_row7\" class=\"row_heading level0 row7\" >7</th>\n",
       "                        <td id=\"T_7d6cc568_d565_11ea_a51c_784561c206f4row7_col0\" class=\"data row7 col0\" >Decision Tree</td>\n",
       "                        <td id=\"T_7d6cc568_d565_11ea_a51c_784561c206f4row7_col1\" class=\"data row7 col1\" >3.1719</td>\n",
       "                        <td id=\"T_7d6cc568_d565_11ea_a51c_784561c206f4row7_col2\" class=\"data row7 col2\" >24.2363</td>\n",
       "                        <td id=\"T_7d6cc568_d565_11ea_a51c_784561c206f4row7_col3\" class=\"data row7 col3\" >4.7397</td>\n",
       "                        <td id=\"T_7d6cc568_d565_11ea_a51c_784561c206f4row7_col4\" class=\"data row7 col4\" >0.6972</td>\n",
       "                        <td id=\"T_7d6cc568_d565_11ea_a51c_784561c206f4row7_col5\" class=\"data row7 col5\" >0.2052</td>\n",
       "                        <td id=\"T_7d6cc568_d565_11ea_a51c_784561c206f4row7_col6\" class=\"data row7 col6\" >0.1522</td>\n",
       "                        <td id=\"T_7d6cc568_d565_11ea_a51c_784561c206f4row7_col7\" class=\"data row7 col7\" >0.0088</td>\n",
       "            </tr>\n",
       "            <tr>\n",
       "                        <th id=\"T_7d6cc568_d565_11ea_a51c_784561c206f4level0_row8\" class=\"row_heading level0 row8\" >8</th>\n",
       "                        <td id=\"T_7d6cc568_d565_11ea_a51c_784561c206f4row8_col0\" class=\"data row8 col0\" >Linear Regression</td>\n",
       "                        <td id=\"T_7d6cc568_d565_11ea_a51c_784561c206f4row8_col1\" class=\"data row8 col1\" >3.3322</td>\n",
       "                        <td id=\"T_7d6cc568_d565_11ea_a51c_784561c206f4row8_col2\" class=\"data row8 col2\" >24.3618</td>\n",
       "                        <td id=\"T_7d6cc568_d565_11ea_a51c_784561c206f4row8_col3\" class=\"data row8 col3\" >4.7954</td>\n",
       "                        <td id=\"T_7d6cc568_d565_11ea_a51c_784561c206f4row8_col4\" class=\"data row8 col4\" >0.6927</td>\n",
       "                        <td id=\"T_7d6cc568_d565_11ea_a51c_784561c206f4row8_col5\" class=\"data row8 col5\" >0.2408</td>\n",
       "                        <td id=\"T_7d6cc568_d565_11ea_a51c_784561c206f4row8_col6\" class=\"data row8 col6\" >0.1598</td>\n",
       "                        <td id=\"T_7d6cc568_d565_11ea_a51c_784561c206f4row8_col7\" class=\"data row8 col7\" >0.0130</td>\n",
       "            </tr>\n",
       "            <tr>\n",
       "                        <th id=\"T_7d6cc568_d565_11ea_a51c_784561c206f4level0_row9\" class=\"row_heading level0 row9\" >9</th>\n",
       "                        <td id=\"T_7d6cc568_d565_11ea_a51c_784561c206f4row9_col0\" class=\"data row9 col0\" >Ridge Regression</td>\n",
       "                        <td id=\"T_7d6cc568_d565_11ea_a51c_784561c206f4row9_col1\" class=\"data row9 col1\" >3.2930</td>\n",
       "                        <td id=\"T_7d6cc568_d565_11ea_a51c_784561c206f4row9_col2\" class=\"data row9 col2\" >24.5583</td>\n",
       "                        <td id=\"T_7d6cc568_d565_11ea_a51c_784561c206f4row9_col3\" class=\"data row9 col3\" >4.8038</td>\n",
       "                        <td id=\"T_7d6cc568_d565_11ea_a51c_784561c206f4row9_col4\" class=\"data row9 col4\" >0.6906</td>\n",
       "                        <td id=\"T_7d6cc568_d565_11ea_a51c_784561c206f4row9_col5\" class=\"data row9 col5\" >0.2339</td>\n",
       "                        <td id=\"T_7d6cc568_d565_11ea_a51c_784561c206f4row9_col6\" class=\"data row9 col6\" >0.1584</td>\n",
       "                        <td id=\"T_7d6cc568_d565_11ea_a51c_784561c206f4row9_col7\" class=\"data row9 col7\" >0.0083</td>\n",
       "            </tr>\n",
       "            <tr>\n",
       "                        <th id=\"T_7d6cc568_d565_11ea_a51c_784561c206f4level0_row10\" class=\"row_heading level0 row10\" >10</th>\n",
       "                        <td id=\"T_7d6cc568_d565_11ea_a51c_784561c206f4row10_col0\" class=\"data row10 col0\" >Bayesian Ridge</td>\n",
       "                        <td id=\"T_7d6cc568_d565_11ea_a51c_784561c206f4row10_col1\" class=\"data row10 col1\" >3.3308</td>\n",
       "                        <td id=\"T_7d6cc568_d565_11ea_a51c_784561c206f4row10_col2\" class=\"data row10 col2\" >25.3034</td>\n",
       "                        <td id=\"T_7d6cc568_d565_11ea_a51c_784561c206f4row10_col3\" class=\"data row10 col3\" >4.8812</td>\n",
       "                        <td id=\"T_7d6cc568_d565_11ea_a51c_784561c206f4row10_col4\" class=\"data row10 col4\" >0.6807</td>\n",
       "                        <td id=\"T_7d6cc568_d565_11ea_a51c_784561c206f4row10_col5\" class=\"data row10 col5\" >0.2340</td>\n",
       "                        <td id=\"T_7d6cc568_d565_11ea_a51c_784561c206f4row10_col6\" class=\"data row10 col6\" >0.1602</td>\n",
       "                        <td id=\"T_7d6cc568_d565_11ea_a51c_784561c206f4row10_col7\" class=\"data row10 col7\" >0.0068</td>\n",
       "            </tr>\n",
       "            <tr>\n",
       "                        <th id=\"T_7d6cc568_d565_11ea_a51c_784561c206f4level0_row11\" class=\"row_heading level0 row11\" >11</th>\n",
       "                        <td id=\"T_7d6cc568_d565_11ea_a51c_784561c206f4row11_col0\" class=\"data row11 col0\" >TheilSen Regressor</td>\n",
       "                        <td id=\"T_7d6cc568_d565_11ea_a51c_784561c206f4row11_col1\" class=\"data row11 col1\" >3.2132</td>\n",
       "                        <td id=\"T_7d6cc568_d565_11ea_a51c_784561c206f4row11_col2\" class=\"data row11 col2\" >25.8679</td>\n",
       "                        <td id=\"T_7d6cc568_d565_11ea_a51c_784561c206f4row11_col3\" class=\"data row11 col3\" >4.8884</td>\n",
       "                        <td id=\"T_7d6cc568_d565_11ea_a51c_784561c206f4row11_col4\" class=\"data row11 col4\" >0.6770</td>\n",
       "                        <td id=\"T_7d6cc568_d565_11ea_a51c_784561c206f4row11_col5\" class=\"data row11 col5\" >0.2394</td>\n",
       "                        <td id=\"T_7d6cc568_d565_11ea_a51c_784561c206f4row11_col6\" class=\"data row11 col6\" >0.1485</td>\n",
       "                        <td id=\"T_7d6cc568_d565_11ea_a51c_784561c206f4row11_col7\" class=\"data row11 col7\" >1.7781</td>\n",
       "            </tr>\n",
       "            <tr>\n",
       "                        <th id=\"T_7d6cc568_d565_11ea_a51c_784561c206f4level0_row12\" class=\"row_heading level0 row12\" >12</th>\n",
       "                        <td id=\"T_7d6cc568_d565_11ea_a51c_784561c206f4row12_col0\" class=\"data row12 col0\" >Random Sample Consensus</td>\n",
       "                        <td id=\"T_7d6cc568_d565_11ea_a51c_784561c206f4row12_col1\" class=\"data row12 col1\" >3.1839</td>\n",
       "                        <td id=\"T_7d6cc568_d565_11ea_a51c_784561c206f4row12_col2\" class=\"data row12 col2\" >26.9207</td>\n",
       "                        <td id=\"T_7d6cc568_d565_11ea_a51c_784561c206f4row12_col3\" class=\"data row12 col3\" >4.9572</td>\n",
       "                        <td id=\"T_7d6cc568_d565_11ea_a51c_784561c206f4row12_col4\" class=\"data row12 col4\" >0.6636</td>\n",
       "                        <td id=\"T_7d6cc568_d565_11ea_a51c_784561c206f4row12_col5\" class=\"data row12 col5\" >0.2564</td>\n",
       "                        <td id=\"T_7d6cc568_d565_11ea_a51c_784561c206f4row12_col6\" class=\"data row12 col6\" >0.1473</td>\n",
       "                        <td id=\"T_7d6cc568_d565_11ea_a51c_784561c206f4row12_col7\" class=\"data row12 col7\" >0.1340</td>\n",
       "            </tr>\n",
       "            <tr>\n",
       "                        <th id=\"T_7d6cc568_d565_11ea_a51c_784561c206f4level0_row13\" class=\"row_heading level0 row13\" >13</th>\n",
       "                        <td id=\"T_7d6cc568_d565_11ea_a51c_784561c206f4row13_col0\" class=\"data row13 col0\" >Least Angle Regression</td>\n",
       "                        <td id=\"T_7d6cc568_d565_11ea_a51c_784561c206f4row13_col1\" class=\"data row13 col1\" >3.5896</td>\n",
       "                        <td id=\"T_7d6cc568_d565_11ea_a51c_784561c206f4row13_col2\" class=\"data row13 col2\" >28.3172</td>\n",
       "                        <td id=\"T_7d6cc568_d565_11ea_a51c_784561c206f4row13_col3\" class=\"data row13 col3\" >5.1479</td>\n",
       "                        <td id=\"T_7d6cc568_d565_11ea_a51c_784561c206f4row13_col4\" class=\"data row13 col4\" >0.6509</td>\n",
       "                        <td id=\"T_7d6cc568_d565_11ea_a51c_784561c206f4row13_col5\" class=\"data row13 col5\" >0.2643</td>\n",
       "                        <td id=\"T_7d6cc568_d565_11ea_a51c_784561c206f4row13_col6\" class=\"data row13 col6\" >0.1725</td>\n",
       "                        <td id=\"T_7d6cc568_d565_11ea_a51c_784561c206f4row13_col7\" class=\"data row13 col7\" >0.0323</td>\n",
       "            </tr>\n",
       "            <tr>\n",
       "                        <th id=\"T_7d6cc568_d565_11ea_a51c_784561c206f4level0_row14\" class=\"row_heading level0 row14\" >14</th>\n",
       "                        <td id=\"T_7d6cc568_d565_11ea_a51c_784561c206f4row14_col0\" class=\"data row14 col0\" >Elastic Net</td>\n",
       "                        <td id=\"T_7d6cc568_d565_11ea_a51c_784561c206f4row14_col1\" class=\"data row14 col1\" >3.7277</td>\n",
       "                        <td id=\"T_7d6cc568_d565_11ea_a51c_784561c206f4row14_col2\" class=\"data row14 col2\" >28.9467</td>\n",
       "                        <td id=\"T_7d6cc568_d565_11ea_a51c_784561c206f4row14_col3\" class=\"data row14 col3\" >5.2937</td>\n",
       "                        <td id=\"T_7d6cc568_d565_11ea_a51c_784561c206f4row14_col4\" class=\"data row14 col4\" >0.6322</td>\n",
       "                        <td id=\"T_7d6cc568_d565_11ea_a51c_784561c206f4row14_col5\" class=\"data row14 col5\" >0.2455</td>\n",
       "                        <td id=\"T_7d6cc568_d565_11ea_a51c_784561c206f4row14_col6\" class=\"data row14 col6\" >0.1742</td>\n",
       "                        <td id=\"T_7d6cc568_d565_11ea_a51c_784561c206f4row14_col7\" class=\"data row14 col7\" >0.0077</td>\n",
       "            </tr>\n",
       "            <tr>\n",
       "                        <th id=\"T_7d6cc568_d565_11ea_a51c_784561c206f4level0_row15\" class=\"row_heading level0 row15\" >15</th>\n",
       "                        <td id=\"T_7d6cc568_d565_11ea_a51c_784561c206f4row15_col0\" class=\"data row15 col0\" >Huber Regressor</td>\n",
       "                        <td id=\"T_7d6cc568_d565_11ea_a51c_784561c206f4row15_col1\" class=\"data row15 col1\" >3.5440</td>\n",
       "                        <td id=\"T_7d6cc568_d565_11ea_a51c_784561c206f4row15_col2\" class=\"data row15 col2\" >28.8535</td>\n",
       "                        <td id=\"T_7d6cc568_d565_11ea_a51c_784561c206f4row15_col3\" class=\"data row15 col3\" >5.2416</td>\n",
       "                        <td id=\"T_7d6cc568_d565_11ea_a51c_784561c206f4row15_col4\" class=\"data row15 col4\" >0.6291</td>\n",
       "                        <td id=\"T_7d6cc568_d565_11ea_a51c_784561c206f4row15_col5\" class=\"data row15 col5\" >0.2561</td>\n",
       "                        <td id=\"T_7d6cc568_d565_11ea_a51c_784561c206f4row15_col6\" class=\"data row15 col6\" >0.1689</td>\n",
       "                        <td id=\"T_7d6cc568_d565_11ea_a51c_784561c206f4row15_col7\" class=\"data row15 col7\" >0.0466</td>\n",
       "            </tr>\n",
       "            <tr>\n",
       "                        <th id=\"T_7d6cc568_d565_11ea_a51c_784561c206f4level0_row16\" class=\"row_heading level0 row16\" >16</th>\n",
       "                        <td id=\"T_7d6cc568_d565_11ea_a51c_784561c206f4row16_col0\" class=\"data row16 col0\" >Lasso Regression</td>\n",
       "                        <td id=\"T_7d6cc568_d565_11ea_a51c_784561c206f4row16_col1\" class=\"data row16 col1\" >3.8067</td>\n",
       "                        <td id=\"T_7d6cc568_d565_11ea_a51c_784561c206f4row16_col2\" class=\"data row16 col2\" >30.2231</td>\n",
       "                        <td id=\"T_7d6cc568_d565_11ea_a51c_784561c206f4row16_col3\" class=\"data row16 col3\" >5.4111</td>\n",
       "                        <td id=\"T_7d6cc568_d565_11ea_a51c_784561c206f4row16_col4\" class=\"data row16 col4\" >0.6168</td>\n",
       "                        <td id=\"T_7d6cc568_d565_11ea_a51c_784561c206f4row16_col5\" class=\"data row16 col5\" >0.2463</td>\n",
       "                        <td id=\"T_7d6cc568_d565_11ea_a51c_784561c206f4row16_col6\" class=\"data row16 col6\" >0.1771</td>\n",
       "                        <td id=\"T_7d6cc568_d565_11ea_a51c_784561c206f4row16_col7\" class=\"data row16 col7\" >0.0209</td>\n",
       "            </tr>\n",
       "            <tr>\n",
       "                        <th id=\"T_7d6cc568_d565_11ea_a51c_784561c206f4level0_row17\" class=\"row_heading level0 row17\" >17</th>\n",
       "                        <td id=\"T_7d6cc568_d565_11ea_a51c_784561c206f4row17_col0\" class=\"data row17 col0\" >Orthogonal Matching Pursuit</td>\n",
       "                        <td id=\"T_7d6cc568_d565_11ea_a51c_784561c206f4row17_col1\" class=\"data row17 col1\" >3.9617</td>\n",
       "                        <td id=\"T_7d6cc568_d565_11ea_a51c_784561c206f4row17_col2\" class=\"data row17 col2\" >31.3898</td>\n",
       "                        <td id=\"T_7d6cc568_d565_11ea_a51c_784561c206f4row17_col3\" class=\"data row17 col3\" >5.5217</td>\n",
       "                        <td id=\"T_7d6cc568_d565_11ea_a51c_784561c206f4row17_col4\" class=\"data row17 col4\" >0.5987</td>\n",
       "                        <td id=\"T_7d6cc568_d565_11ea_a51c_784561c206f4row17_col5\" class=\"data row17 col5\" >0.2954</td>\n",
       "                        <td id=\"T_7d6cc568_d565_11ea_a51c_784561c206f4row17_col6\" class=\"data row17 col6\" >0.1980</td>\n",
       "                        <td id=\"T_7d6cc568_d565_11ea_a51c_784561c206f4row17_col7\" class=\"data row17 col7\" >0.0112</td>\n",
       "            </tr>\n",
       "            <tr>\n",
       "                        <th id=\"T_7d6cc568_d565_11ea_a51c_784561c206f4level0_row18\" class=\"row_heading level0 row18\" >18</th>\n",
       "                        <td id=\"T_7d6cc568_d565_11ea_a51c_784561c206f4row18_col0\" class=\"data row18 col0\" >K Neighbors Regressor</td>\n",
       "                        <td id=\"T_7d6cc568_d565_11ea_a51c_784561c206f4row18_col1\" class=\"data row18 col1\" >4.1151</td>\n",
       "                        <td id=\"T_7d6cc568_d565_11ea_a51c_784561c206f4row18_col2\" class=\"data row18 col2\" >38.2833</td>\n",
       "                        <td id=\"T_7d6cc568_d565_11ea_a51c_784561c206f4row18_col3\" class=\"data row18 col3\" >6.0718</td>\n",
       "                        <td id=\"T_7d6cc568_d565_11ea_a51c_784561c206f4row18_col4\" class=\"data row18 col4\" >0.5082</td>\n",
       "                        <td id=\"T_7d6cc568_d565_11ea_a51c_784561c206f4row18_col5\" class=\"data row18 col5\" >0.2349</td>\n",
       "                        <td id=\"T_7d6cc568_d565_11ea_a51c_784561c206f4row18_col6\" class=\"data row18 col6\" >0.1901</td>\n",
       "                        <td id=\"T_7d6cc568_d565_11ea_a51c_784561c206f4row18_col7\" class=\"data row18 col7\" >0.0059</td>\n",
       "            </tr>\n",
       "            <tr>\n",
       "                        <th id=\"T_7d6cc568_d565_11ea_a51c_784561c206f4level0_row19\" class=\"row_heading level0 row19\" >19</th>\n",
       "                        <td id=\"T_7d6cc568_d565_11ea_a51c_784561c206f4row19_col0\" class=\"data row19 col0\" >Support Vector Machine</td>\n",
       "                        <td id=\"T_7d6cc568_d565_11ea_a51c_784561c206f4row19_col1\" class=\"data row19 col1\" >5.1952</td>\n",
       "                        <td id=\"T_7d6cc568_d565_11ea_a51c_784561c206f4row19_col2\" class=\"data row19 col2\" >64.8008</td>\n",
       "                        <td id=\"T_7d6cc568_d565_11ea_a51c_784561c206f4row19_col3\" class=\"data row19 col3\" >7.9400</td>\n",
       "                        <td id=\"T_7d6cc568_d565_11ea_a51c_784561c206f4row19_col4\" class=\"data row19 col4\" >0.1787</td>\n",
       "                        <td id=\"T_7d6cc568_d565_11ea_a51c_784561c206f4row19_col5\" class=\"data row19 col5\" >0.3054</td>\n",
       "                        <td id=\"T_7d6cc568_d565_11ea_a51c_784561c206f4row19_col6\" class=\"data row19 col6\" >0.2333</td>\n",
       "                        <td id=\"T_7d6cc568_d565_11ea_a51c_784561c206f4row19_col7\" class=\"data row19 col7\" >0.0212</td>\n",
       "            </tr>\n",
       "            <tr>\n",
       "                        <th id=\"T_7d6cc568_d565_11ea_a51c_784561c206f4level0_row20\" class=\"row_heading level0 row20\" >20</th>\n",
       "                        <td id=\"T_7d6cc568_d565_11ea_a51c_784561c206f4row20_col0\" class=\"data row20 col0\" >Lasso Least Angle Regression</td>\n",
       "                        <td id=\"T_7d6cc568_d565_11ea_a51c_784561c206f4row20_col1\" class=\"data row20 col1\" >6.3724</td>\n",
       "                        <td id=\"T_7d6cc568_d565_11ea_a51c_784561c206f4row20_col2\" class=\"data row20 col2\" >78.9065</td>\n",
       "                        <td id=\"T_7d6cc568_d565_11ea_a51c_784561c206f4row20_col3\" class=\"data row20 col3\" >8.8248</td>\n",
       "                        <td id=\"T_7d6cc568_d565_11ea_a51c_784561c206f4row20_col4\" class=\"data row20 col4\" >-0.0157</td>\n",
       "                        <td id=\"T_7d6cc568_d565_11ea_a51c_784561c206f4row20_col5\" class=\"data row20 col5\" >0.3767</td>\n",
       "                        <td id=\"T_7d6cc568_d565_11ea_a51c_784561c206f4row20_col6\" class=\"data row20 col6\" >0.3432</td>\n",
       "                        <td id=\"T_7d6cc568_d565_11ea_a51c_784561c206f4row20_col7\" class=\"data row20 col7\" >0.0067</td>\n",
       "            </tr>\n",
       "            <tr>\n",
       "                        <th id=\"T_7d6cc568_d565_11ea_a51c_784561c206f4level0_row21\" class=\"row_heading level0 row21\" >21</th>\n",
       "                        <td id=\"T_7d6cc568_d565_11ea_a51c_784561c206f4row21_col0\" class=\"data row21 col0\" >Passive Aggressive Regressor</td>\n",
       "                        <td id=\"T_7d6cc568_d565_11ea_a51c_784561c206f4row21_col1\" class=\"data row21 col1\" >15.7414</td>\n",
       "                        <td id=\"T_7d6cc568_d565_11ea_a51c_784561c206f4row21_col2\" class=\"data row21 col2\" >393.5219</td>\n",
       "                        <td id=\"T_7d6cc568_d565_11ea_a51c_784561c206f4row21_col3\" class=\"data row21 col3\" >17.8449</td>\n",
       "                        <td id=\"T_7d6cc568_d565_11ea_a51c_784561c206f4row21_col4\" class=\"data row21 col4\" >-3.9942</td>\n",
       "                        <td id=\"T_7d6cc568_d565_11ea_a51c_784561c206f4row21_col5\" class=\"data row21 col5\" >0.6298</td>\n",
       "                        <td id=\"T_7d6cc568_d565_11ea_a51c_784561c206f4row21_col6\" class=\"data row21 col6\" >0.9087</td>\n",
       "                        <td id=\"T_7d6cc568_d565_11ea_a51c_784561c206f4row21_col7\" class=\"data row21 col7\" >0.0115</td>\n",
       "            </tr>\n",
       "    </tbody></table>"
      ],
      "text/plain": [
       "<pandas.io.formats.style.Styler at 0x17945bbb348>"
      ]
     },
     "metadata": {},
     "output_type": "display_data"
    },
    {
     "data": {
      "text/plain": [
       "<catboost.core.CatBoostRegressor at 0x17945b004c8>"
      ]
     },
     "execution_count": 6,
     "metadata": {},
     "output_type": "execute_result"
    }
   ],
   "source": [
    "compare_models()"
   ]
  },
  {
   "cell_type": "code",
   "execution_count": 7,
   "metadata": {},
   "outputs": [
    {
     "data": {
      "text/html": [
       "<style  type=\"text/css\" >\n",
       "#T_f13ab0a8_d565_11ea_8908_784561c206f4row10_col0,#T_f13ab0a8_d565_11ea_8908_784561c206f4row10_col1,#T_f13ab0a8_d565_11ea_8908_784561c206f4row10_col2,#T_f13ab0a8_d565_11ea_8908_784561c206f4row10_col3,#T_f13ab0a8_d565_11ea_8908_784561c206f4row10_col4,#T_f13ab0a8_d565_11ea_8908_784561c206f4row10_col5{\n",
       "            background:  yellow;\n",
       "        }</style><table id=\"T_f13ab0a8_d565_11ea_8908_784561c206f4\" ><thead>    <tr>        <th class=\"blank level0\" ></th>        <th class=\"col_heading level0 col0\" >MAE</th>        <th class=\"col_heading level0 col1\" >MSE</th>        <th class=\"col_heading level0 col2\" >RMSE</th>        <th class=\"col_heading level0 col3\" >R2</th>        <th class=\"col_heading level0 col4\" >RMSLE</th>        <th class=\"col_heading level0 col5\" >MAPE</th>    </tr></thead><tbody>\n",
       "                <tr>\n",
       "                        <th id=\"T_f13ab0a8_d565_11ea_8908_784561c206f4level0_row0\" class=\"row_heading level0 row0\" >0</th>\n",
       "                        <td id=\"T_f13ab0a8_d565_11ea_8908_784561c206f4row0_col0\" class=\"data row0 col0\" >2.0810</td>\n",
       "                        <td id=\"T_f13ab0a8_d565_11ea_8908_784561c206f4row0_col1\" class=\"data row0 col1\" >9.1732</td>\n",
       "                        <td id=\"T_f13ab0a8_d565_11ea_8908_784561c206f4row0_col2\" class=\"data row0 col2\" >3.0287</td>\n",
       "                        <td id=\"T_f13ab0a8_d565_11ea_8908_784561c206f4row0_col3\" class=\"data row0 col3\" >0.8629</td>\n",
       "                        <td id=\"T_f13ab0a8_d565_11ea_8908_784561c206f4row0_col4\" class=\"data row0 col4\" >0.1528</td>\n",
       "                        <td id=\"T_f13ab0a8_d565_11ea_8908_784561c206f4row0_col5\" class=\"data row0 col5\" >0.1206</td>\n",
       "            </tr>\n",
       "            <tr>\n",
       "                        <th id=\"T_f13ab0a8_d565_11ea_8908_784561c206f4level0_row1\" class=\"row_heading level0 row1\" >1</th>\n",
       "                        <td id=\"T_f13ab0a8_d565_11ea_8908_784561c206f4row1_col0\" class=\"data row1 col0\" >3.1034</td>\n",
       "                        <td id=\"T_f13ab0a8_d565_11ea_8908_784561c206f4row1_col1\" class=\"data row1 col1\" >25.4504</td>\n",
       "                        <td id=\"T_f13ab0a8_d565_11ea_8908_784561c206f4row1_col2\" class=\"data row1 col2\" >5.0448</td>\n",
       "                        <td id=\"T_f13ab0a8_d565_11ea_8908_784561c206f4row1_col3\" class=\"data row1 col3\" >0.7599</td>\n",
       "                        <td id=\"T_f13ab0a8_d565_11ea_8908_784561c206f4row1_col4\" class=\"data row1 col4\" >0.1778</td>\n",
       "                        <td id=\"T_f13ab0a8_d565_11ea_8908_784561c206f4row1_col5\" class=\"data row1 col5\" >0.1385</td>\n",
       "            </tr>\n",
       "            <tr>\n",
       "                        <th id=\"T_f13ab0a8_d565_11ea_8908_784561c206f4level0_row2\" class=\"row_heading level0 row2\" >2</th>\n",
       "                        <td id=\"T_f13ab0a8_d565_11ea_8908_784561c206f4row2_col0\" class=\"data row2 col0\" >2.1890</td>\n",
       "                        <td id=\"T_f13ab0a8_d565_11ea_8908_784561c206f4row2_col1\" class=\"data row2 col1\" >8.6669</td>\n",
       "                        <td id=\"T_f13ab0a8_d565_11ea_8908_784561c206f4row2_col2\" class=\"data row2 col2\" >2.9440</td>\n",
       "                        <td id=\"T_f13ab0a8_d565_11ea_8908_784561c206f4row2_col3\" class=\"data row2 col3\" >0.8116</td>\n",
       "                        <td id=\"T_f13ab0a8_d565_11ea_8908_784561c206f4row2_col4\" class=\"data row2 col4\" >0.1308</td>\n",
       "                        <td id=\"T_f13ab0a8_d565_11ea_8908_784561c206f4row2_col5\" class=\"data row2 col5\" >0.1073</td>\n",
       "            </tr>\n",
       "            <tr>\n",
       "                        <th id=\"T_f13ab0a8_d565_11ea_8908_784561c206f4level0_row3\" class=\"row_heading level0 row3\" >3</th>\n",
       "                        <td id=\"T_f13ab0a8_d565_11ea_8908_784561c206f4row3_col0\" class=\"data row3 col0\" >1.9415</td>\n",
       "                        <td id=\"T_f13ab0a8_d565_11ea_8908_784561c206f4row3_col1\" class=\"data row3 col1\" >5.6652</td>\n",
       "                        <td id=\"T_f13ab0a8_d565_11ea_8908_784561c206f4row3_col2\" class=\"data row3 col2\" >2.3802</td>\n",
       "                        <td id=\"T_f13ab0a8_d565_11ea_8908_784561c206f4row3_col3\" class=\"data row3 col3\" >0.9383</td>\n",
       "                        <td id=\"T_f13ab0a8_d565_11ea_8908_784561c206f4row3_col4\" class=\"data row3 col4\" >0.1071</td>\n",
       "                        <td id=\"T_f13ab0a8_d565_11ea_8908_784561c206f4row3_col5\" class=\"data row3 col5\" >0.0888</td>\n",
       "            </tr>\n",
       "            <tr>\n",
       "                        <th id=\"T_f13ab0a8_d565_11ea_8908_784561c206f4level0_row4\" class=\"row_heading level0 row4\" >4</th>\n",
       "                        <td id=\"T_f13ab0a8_d565_11ea_8908_784561c206f4row4_col0\" class=\"data row4 col0\" >1.5478</td>\n",
       "                        <td id=\"T_f13ab0a8_d565_11ea_8908_784561c206f4row4_col1\" class=\"data row4 col1\" >4.3105</td>\n",
       "                        <td id=\"T_f13ab0a8_d565_11ea_8908_784561c206f4row4_col2\" class=\"data row4 col2\" >2.0762</td>\n",
       "                        <td id=\"T_f13ab0a8_d565_11ea_8908_784561c206f4row4_col3\" class=\"data row4 col3\" >0.9431</td>\n",
       "                        <td id=\"T_f13ab0a8_d565_11ea_8908_784561c206f4row4_col4\" class=\"data row4 col4\" >0.0830</td>\n",
       "                        <td id=\"T_f13ab0a8_d565_11ea_8908_784561c206f4row4_col5\" class=\"data row4 col5\" >0.0661</td>\n",
       "            </tr>\n",
       "            <tr>\n",
       "                        <th id=\"T_f13ab0a8_d565_11ea_8908_784561c206f4level0_row5\" class=\"row_heading level0 row5\" >5</th>\n",
       "                        <td id=\"T_f13ab0a8_d565_11ea_8908_784561c206f4row5_col0\" class=\"data row5 col0\" >1.8929</td>\n",
       "                        <td id=\"T_f13ab0a8_d565_11ea_8908_784561c206f4row5_col1\" class=\"data row5 col1\" >6.0239</td>\n",
       "                        <td id=\"T_f13ab0a8_d565_11ea_8908_784561c206f4row5_col2\" class=\"data row5 col2\" >2.4544</td>\n",
       "                        <td id=\"T_f13ab0a8_d565_11ea_8908_784561c206f4row5_col3\" class=\"data row5 col3\" >0.9378</td>\n",
       "                        <td id=\"T_f13ab0a8_d565_11ea_8908_784561c206f4row5_col4\" class=\"data row5 col4\" >0.1176</td>\n",
       "                        <td id=\"T_f13ab0a8_d565_11ea_8908_784561c206f4row5_col5\" class=\"data row5 col5\" >0.0969</td>\n",
       "            </tr>\n",
       "            <tr>\n",
       "                        <th id=\"T_f13ab0a8_d565_11ea_8908_784561c206f4level0_row6\" class=\"row_heading level0 row6\" >6</th>\n",
       "                        <td id=\"T_f13ab0a8_d565_11ea_8908_784561c206f4row6_col0\" class=\"data row6 col0\" >2.1588</td>\n",
       "                        <td id=\"T_f13ab0a8_d565_11ea_8908_784561c206f4row6_col1\" class=\"data row6 col1\" >7.8112</td>\n",
       "                        <td id=\"T_f13ab0a8_d565_11ea_8908_784561c206f4row6_col2\" class=\"data row6 col2\" >2.7949</td>\n",
       "                        <td id=\"T_f13ab0a8_d565_11ea_8908_784561c206f4row6_col3\" class=\"data row6 col3\" >0.8974</td>\n",
       "                        <td id=\"T_f13ab0a8_d565_11ea_8908_784561c206f4row6_col4\" class=\"data row6 col4\" >0.1347</td>\n",
       "                        <td id=\"T_f13ab0a8_d565_11ea_8908_784561c206f4row6_col5\" class=\"data row6 col5\" >0.1059</td>\n",
       "            </tr>\n",
       "            <tr>\n",
       "                        <th id=\"T_f13ab0a8_d565_11ea_8908_784561c206f4level0_row7\" class=\"row_heading level0 row7\" >7</th>\n",
       "                        <td id=\"T_f13ab0a8_d565_11ea_8908_784561c206f4row7_col0\" class=\"data row7 col0\" >2.0009</td>\n",
       "                        <td id=\"T_f13ab0a8_d565_11ea_8908_784561c206f4row7_col1\" class=\"data row7 col1\" >7.0796</td>\n",
       "                        <td id=\"T_f13ab0a8_d565_11ea_8908_784561c206f4row7_col2\" class=\"data row7 col2\" >2.6607</td>\n",
       "                        <td id=\"T_f13ab0a8_d565_11ea_8908_784561c206f4row7_col3\" class=\"data row7 col3\" >0.8924</td>\n",
       "                        <td id=\"T_f13ab0a8_d565_11ea_8908_784561c206f4row7_col4\" class=\"data row7 col4\" >0.1224</td>\n",
       "                        <td id=\"T_f13ab0a8_d565_11ea_8908_784561c206f4row7_col5\" class=\"data row7 col5\" >0.1007</td>\n",
       "            </tr>\n",
       "            <tr>\n",
       "                        <th id=\"T_f13ab0a8_d565_11ea_8908_784561c206f4level0_row8\" class=\"row_heading level0 row8\" >8</th>\n",
       "                        <td id=\"T_f13ab0a8_d565_11ea_8908_784561c206f4row8_col0\" class=\"data row8 col0\" >2.3542</td>\n",
       "                        <td id=\"T_f13ab0a8_d565_11ea_8908_784561c206f4row8_col1\" class=\"data row8 col1\" >9.5799</td>\n",
       "                        <td id=\"T_f13ab0a8_d565_11ea_8908_784561c206f4row8_col2\" class=\"data row8 col2\" >3.0951</td>\n",
       "                        <td id=\"T_f13ab0a8_d565_11ea_8908_784561c206f4row8_col3\" class=\"data row8 col3\" >0.8961</td>\n",
       "                        <td id=\"T_f13ab0a8_d565_11ea_8908_784561c206f4row8_col4\" class=\"data row8 col4\" >0.1628</td>\n",
       "                        <td id=\"T_f13ab0a8_d565_11ea_8908_784561c206f4row8_col5\" class=\"data row8 col5\" >0.1214</td>\n",
       "            </tr>\n",
       "            <tr>\n",
       "                        <th id=\"T_f13ab0a8_d565_11ea_8908_784561c206f4level0_row9\" class=\"row_heading level0 row9\" >9</th>\n",
       "                        <td id=\"T_f13ab0a8_d565_11ea_8908_784561c206f4row9_col0\" class=\"data row9 col0\" >1.9626</td>\n",
       "                        <td id=\"T_f13ab0a8_d565_11ea_8908_784561c206f4row9_col1\" class=\"data row9 col1\" >8.9423</td>\n",
       "                        <td id=\"T_f13ab0a8_d565_11ea_8908_784561c206f4row9_col2\" class=\"data row9 col2\" >2.9904</td>\n",
       "                        <td id=\"T_f13ab0a8_d565_11ea_8908_784561c206f4row9_col3\" class=\"data row9 col3\" >0.8522</td>\n",
       "                        <td id=\"T_f13ab0a8_d565_11ea_8908_784561c206f4row9_col4\" class=\"data row9 col4\" >0.1281</td>\n",
       "                        <td id=\"T_f13ab0a8_d565_11ea_8908_784561c206f4row9_col5\" class=\"data row9 col5\" >0.0979</td>\n",
       "            </tr>\n",
       "            <tr>\n",
       "                        <th id=\"T_f13ab0a8_d565_11ea_8908_784561c206f4level0_row10\" class=\"row_heading level0 row10\" >Mean</th>\n",
       "                        <td id=\"T_f13ab0a8_d565_11ea_8908_784561c206f4row10_col0\" class=\"data row10 col0\" >2.1232</td>\n",
       "                        <td id=\"T_f13ab0a8_d565_11ea_8908_784561c206f4row10_col1\" class=\"data row10 col1\" >9.2703</td>\n",
       "                        <td id=\"T_f13ab0a8_d565_11ea_8908_784561c206f4row10_col2\" class=\"data row10 col2\" >2.9469</td>\n",
       "                        <td id=\"T_f13ab0a8_d565_11ea_8908_784561c206f4row10_col3\" class=\"data row10 col3\" >0.8791</td>\n",
       "                        <td id=\"T_f13ab0a8_d565_11ea_8908_784561c206f4row10_col4\" class=\"data row10 col4\" >0.1317</td>\n",
       "                        <td id=\"T_f13ab0a8_d565_11ea_8908_784561c206f4row10_col5\" class=\"data row10 col5\" >0.1044</td>\n",
       "            </tr>\n",
       "            <tr>\n",
       "                        <th id=\"T_f13ab0a8_d565_11ea_8908_784561c206f4level0_row11\" class=\"row_heading level0 row11\" >SD</th>\n",
       "                        <td id=\"T_f13ab0a8_d565_11ea_8908_784561c206f4row11_col0\" class=\"data row11 col0\" >0.3846</td>\n",
       "                        <td id=\"T_f13ab0a8_d565_11ea_8908_784561c206f4row11_col1\" class=\"data row11 col1\" >5.6342</td>\n",
       "                        <td id=\"T_f13ab0a8_d565_11ea_8908_784561c206f4row11_col2\" class=\"data row11 col2\" >0.7654</td>\n",
       "                        <td id=\"T_f13ab0a8_d565_11ea_8908_784561c206f4row11_col3\" class=\"data row11 col3\" >0.0562</td>\n",
       "                        <td id=\"T_f13ab0a8_d565_11ea_8908_784561c206f4row11_col4\" class=\"data row11 col4\" >0.0261</td>\n",
       "                        <td id=\"T_f13ab0a8_d565_11ea_8908_784561c206f4row11_col5\" class=\"data row11 col5\" >0.0188</td>\n",
       "            </tr>\n",
       "    </tbody></table>"
      ],
      "text/plain": [
       "<pandas.io.formats.style.Styler at 0x17945b01648>"
      ]
     },
     "metadata": {},
     "output_type": "display_data"
    }
   ],
   "source": [
    "reg_models=create_model('catboost')"
   ]
  },
  {
   "cell_type": "code",
   "execution_count": 10,
   "metadata": {},
   "outputs": [
    {
     "data": {
      "text/html": [
       "<div>\n",
       "<style scoped>\n",
       "    .dataframe tbody tr th:only-of-type {\n",
       "        vertical-align: middle;\n",
       "    }\n",
       "\n",
       "    .dataframe tbody tr th {\n",
       "        vertical-align: top;\n",
       "    }\n",
       "\n",
       "    .dataframe thead th {\n",
       "        text-align: right;\n",
       "    }\n",
       "</style>\n",
       "<table border=\"1\" class=\"dataframe\">\n",
       "  <thead>\n",
       "    <tr style=\"text-align: right;\">\n",
       "      <th></th>\n",
       "      <th>Age</th>\n",
       "      <th>Income</th>\n",
       "      <th>SpendingScore</th>\n",
       "      <th>Savings</th>\n",
       "    </tr>\n",
       "  </thead>\n",
       "  <tbody>\n",
       "    <tr>\n",
       "      <th>0</th>\n",
       "      <td>58</td>\n",
       "      <td>77769</td>\n",
       "      <td>0.791329</td>\n",
       "      <td>6559.829923</td>\n",
       "    </tr>\n",
       "    <tr>\n",
       "      <th>1</th>\n",
       "      <td>59</td>\n",
       "      <td>81799</td>\n",
       "      <td>0.791082</td>\n",
       "      <td>5417.661426</td>\n",
       "    </tr>\n",
       "    <tr>\n",
       "      <th>2</th>\n",
       "      <td>62</td>\n",
       "      <td>74751</td>\n",
       "      <td>0.702657</td>\n",
       "      <td>9258.992965</td>\n",
       "    </tr>\n",
       "    <tr>\n",
       "      <th>3</th>\n",
       "      <td>59</td>\n",
       "      <td>74373</td>\n",
       "      <td>0.765680</td>\n",
       "      <td>7346.334504</td>\n",
       "    </tr>\n",
       "    <tr>\n",
       "      <th>4</th>\n",
       "      <td>87</td>\n",
       "      <td>17760</td>\n",
       "      <td>0.348778</td>\n",
       "      <td>16869.507130</td>\n",
       "    </tr>\n",
       "  </tbody>\n",
       "</table>\n",
       "</div>"
      ],
      "text/plain": [
       "   Age  Income  SpendingScore       Savings\n",
       "0   58   77769       0.791329   6559.829923\n",
       "1   59   81799       0.791082   5417.661426\n",
       "2   62   74751       0.702657   9258.992965\n",
       "3   59   74373       0.765680   7346.334504\n",
       "4   87   17760       0.348778  16869.507130"
      ]
     },
     "metadata": {},
     "output_type": "display_data"
    }
   ],
   "source": [
    "jewellery=get_data('jewellery')"
   ]
  },
  {
   "cell_type": "code",
   "execution_count": 11,
   "metadata": {},
   "outputs": [
    {
     "name": "stdout",
     "output_type": "stream",
     "text": [
      "Setup Succesfully Completed!\n"
     ]
    },
    {
     "data": {
      "text/html": [
       "<style  type=\"text/css\" >\n",
       "</style><table id=\"T_46fb8f48_d568_11ea_8ae3_784561c206f4\" ><thead>    <tr>        <th class=\"blank level0\" ></th>        <th class=\"col_heading level0 col0\" >Description</th>        <th class=\"col_heading level0 col1\" >Value</th>    </tr></thead><tbody>\n",
       "                <tr>\n",
       "                        <th id=\"T_46fb8f48_d568_11ea_8ae3_784561c206f4level0_row0\" class=\"row_heading level0 row0\" >0</th>\n",
       "                        <td id=\"T_46fb8f48_d568_11ea_8ae3_784561c206f4row0_col0\" class=\"data row0 col0\" >session_id </td>\n",
       "                        <td id=\"T_46fb8f48_d568_11ea_8ae3_784561c206f4row0_col1\" class=\"data row0 col1\" >3169</td>\n",
       "            </tr>\n",
       "            <tr>\n",
       "                        <th id=\"T_46fb8f48_d568_11ea_8ae3_784561c206f4level0_row1\" class=\"row_heading level0 row1\" >1</th>\n",
       "                        <td id=\"T_46fb8f48_d568_11ea_8ae3_784561c206f4row1_col0\" class=\"data row1 col0\" >Original Data </td>\n",
       "                        <td id=\"T_46fb8f48_d568_11ea_8ae3_784561c206f4row1_col1\" class=\"data row1 col1\" >(505, 4)</td>\n",
       "            </tr>\n",
       "            <tr>\n",
       "                        <th id=\"T_46fb8f48_d568_11ea_8ae3_784561c206f4level0_row2\" class=\"row_heading level0 row2\" >2</th>\n",
       "                        <td id=\"T_46fb8f48_d568_11ea_8ae3_784561c206f4row2_col0\" class=\"data row2 col0\" >Missing Values </td>\n",
       "                        <td id=\"T_46fb8f48_d568_11ea_8ae3_784561c206f4row2_col1\" class=\"data row2 col1\" >False</td>\n",
       "            </tr>\n",
       "            <tr>\n",
       "                        <th id=\"T_46fb8f48_d568_11ea_8ae3_784561c206f4level0_row3\" class=\"row_heading level0 row3\" >3</th>\n",
       "                        <td id=\"T_46fb8f48_d568_11ea_8ae3_784561c206f4row3_col0\" class=\"data row3 col0\" >Numeric Features </td>\n",
       "                        <td id=\"T_46fb8f48_d568_11ea_8ae3_784561c206f4row3_col1\" class=\"data row3 col1\" >4</td>\n",
       "            </tr>\n",
       "            <tr>\n",
       "                        <th id=\"T_46fb8f48_d568_11ea_8ae3_784561c206f4level0_row4\" class=\"row_heading level0 row4\" >4</th>\n",
       "                        <td id=\"T_46fb8f48_d568_11ea_8ae3_784561c206f4row4_col0\" class=\"data row4 col0\" >Categorical Features </td>\n",
       "                        <td id=\"T_46fb8f48_d568_11ea_8ae3_784561c206f4row4_col1\" class=\"data row4 col1\" >0</td>\n",
       "            </tr>\n",
       "            <tr>\n",
       "                        <th id=\"T_46fb8f48_d568_11ea_8ae3_784561c206f4level0_row5\" class=\"row_heading level0 row5\" >5</th>\n",
       "                        <td id=\"T_46fb8f48_d568_11ea_8ae3_784561c206f4row5_col0\" class=\"data row5 col0\" >Ordinal Features </td>\n",
       "                        <td id=\"T_46fb8f48_d568_11ea_8ae3_784561c206f4row5_col1\" class=\"data row5 col1\" >False</td>\n",
       "            </tr>\n",
       "            <tr>\n",
       "                        <th id=\"T_46fb8f48_d568_11ea_8ae3_784561c206f4level0_row6\" class=\"row_heading level0 row6\" >6</th>\n",
       "                        <td id=\"T_46fb8f48_d568_11ea_8ae3_784561c206f4row6_col0\" class=\"data row6 col0\" >High Cardinality Features </td>\n",
       "                        <td id=\"T_46fb8f48_d568_11ea_8ae3_784561c206f4row6_col1\" class=\"data row6 col1\" >False</td>\n",
       "            </tr>\n",
       "            <tr>\n",
       "                        <th id=\"T_46fb8f48_d568_11ea_8ae3_784561c206f4level0_row7\" class=\"row_heading level0 row7\" >7</th>\n",
       "                        <td id=\"T_46fb8f48_d568_11ea_8ae3_784561c206f4row7_col0\" class=\"data row7 col0\" >Transformed Data </td>\n",
       "                        <td id=\"T_46fb8f48_d568_11ea_8ae3_784561c206f4row7_col1\" class=\"data row7 col1\" >(505, 4)</td>\n",
       "            </tr>\n",
       "            <tr>\n",
       "                        <th id=\"T_46fb8f48_d568_11ea_8ae3_784561c206f4level0_row8\" class=\"row_heading level0 row8\" >8</th>\n",
       "                        <td id=\"T_46fb8f48_d568_11ea_8ae3_784561c206f4row8_col0\" class=\"data row8 col0\" >Numeric Imputer </td>\n",
       "                        <td id=\"T_46fb8f48_d568_11ea_8ae3_784561c206f4row8_col1\" class=\"data row8 col1\" >mean</td>\n",
       "            </tr>\n",
       "            <tr>\n",
       "                        <th id=\"T_46fb8f48_d568_11ea_8ae3_784561c206f4level0_row9\" class=\"row_heading level0 row9\" >9</th>\n",
       "                        <td id=\"T_46fb8f48_d568_11ea_8ae3_784561c206f4row9_col0\" class=\"data row9 col0\" >Categorical Imputer </td>\n",
       "                        <td id=\"T_46fb8f48_d568_11ea_8ae3_784561c206f4row9_col1\" class=\"data row9 col1\" >constant</td>\n",
       "            </tr>\n",
       "            <tr>\n",
       "                        <th id=\"T_46fb8f48_d568_11ea_8ae3_784561c206f4level0_row10\" class=\"row_heading level0 row10\" >10</th>\n",
       "                        <td id=\"T_46fb8f48_d568_11ea_8ae3_784561c206f4row10_col0\" class=\"data row10 col0\" >Normalize </td>\n",
       "                        <td id=\"T_46fb8f48_d568_11ea_8ae3_784561c206f4row10_col1\" class=\"data row10 col1\" >False</td>\n",
       "            </tr>\n",
       "            <tr>\n",
       "                        <th id=\"T_46fb8f48_d568_11ea_8ae3_784561c206f4level0_row11\" class=\"row_heading level0 row11\" >11</th>\n",
       "                        <td id=\"T_46fb8f48_d568_11ea_8ae3_784561c206f4row11_col0\" class=\"data row11 col0\" >Normalize Method </td>\n",
       "                        <td id=\"T_46fb8f48_d568_11ea_8ae3_784561c206f4row11_col1\" class=\"data row11 col1\" >None</td>\n",
       "            </tr>\n",
       "            <tr>\n",
       "                        <th id=\"T_46fb8f48_d568_11ea_8ae3_784561c206f4level0_row12\" class=\"row_heading level0 row12\" >12</th>\n",
       "                        <td id=\"T_46fb8f48_d568_11ea_8ae3_784561c206f4row12_col0\" class=\"data row12 col0\" >Transformation </td>\n",
       "                        <td id=\"T_46fb8f48_d568_11ea_8ae3_784561c206f4row12_col1\" class=\"data row12 col1\" >False</td>\n",
       "            </tr>\n",
       "            <tr>\n",
       "                        <th id=\"T_46fb8f48_d568_11ea_8ae3_784561c206f4level0_row13\" class=\"row_heading level0 row13\" >13</th>\n",
       "                        <td id=\"T_46fb8f48_d568_11ea_8ae3_784561c206f4row13_col0\" class=\"data row13 col0\" >Transformation Method </td>\n",
       "                        <td id=\"T_46fb8f48_d568_11ea_8ae3_784561c206f4row13_col1\" class=\"data row13 col1\" >None</td>\n",
       "            </tr>\n",
       "            <tr>\n",
       "                        <th id=\"T_46fb8f48_d568_11ea_8ae3_784561c206f4level0_row14\" class=\"row_heading level0 row14\" >14</th>\n",
       "                        <td id=\"T_46fb8f48_d568_11ea_8ae3_784561c206f4row14_col0\" class=\"data row14 col0\" >PCA </td>\n",
       "                        <td id=\"T_46fb8f48_d568_11ea_8ae3_784561c206f4row14_col1\" class=\"data row14 col1\" >False</td>\n",
       "            </tr>\n",
       "            <tr>\n",
       "                        <th id=\"T_46fb8f48_d568_11ea_8ae3_784561c206f4level0_row15\" class=\"row_heading level0 row15\" >15</th>\n",
       "                        <td id=\"T_46fb8f48_d568_11ea_8ae3_784561c206f4row15_col0\" class=\"data row15 col0\" >PCA Method </td>\n",
       "                        <td id=\"T_46fb8f48_d568_11ea_8ae3_784561c206f4row15_col1\" class=\"data row15 col1\" >None</td>\n",
       "            </tr>\n",
       "            <tr>\n",
       "                        <th id=\"T_46fb8f48_d568_11ea_8ae3_784561c206f4level0_row16\" class=\"row_heading level0 row16\" >16</th>\n",
       "                        <td id=\"T_46fb8f48_d568_11ea_8ae3_784561c206f4row16_col0\" class=\"data row16 col0\" >PCA components </td>\n",
       "                        <td id=\"T_46fb8f48_d568_11ea_8ae3_784561c206f4row16_col1\" class=\"data row16 col1\" >None</td>\n",
       "            </tr>\n",
       "            <tr>\n",
       "                        <th id=\"T_46fb8f48_d568_11ea_8ae3_784561c206f4level0_row17\" class=\"row_heading level0 row17\" >17</th>\n",
       "                        <td id=\"T_46fb8f48_d568_11ea_8ae3_784561c206f4row17_col0\" class=\"data row17 col0\" >Ignore Low Variance </td>\n",
       "                        <td id=\"T_46fb8f48_d568_11ea_8ae3_784561c206f4row17_col1\" class=\"data row17 col1\" >False</td>\n",
       "            </tr>\n",
       "            <tr>\n",
       "                        <th id=\"T_46fb8f48_d568_11ea_8ae3_784561c206f4level0_row18\" class=\"row_heading level0 row18\" >18</th>\n",
       "                        <td id=\"T_46fb8f48_d568_11ea_8ae3_784561c206f4row18_col0\" class=\"data row18 col0\" >Combine Rare Levels </td>\n",
       "                        <td id=\"T_46fb8f48_d568_11ea_8ae3_784561c206f4row18_col1\" class=\"data row18 col1\" >False</td>\n",
       "            </tr>\n",
       "            <tr>\n",
       "                        <th id=\"T_46fb8f48_d568_11ea_8ae3_784561c206f4level0_row19\" class=\"row_heading level0 row19\" >19</th>\n",
       "                        <td id=\"T_46fb8f48_d568_11ea_8ae3_784561c206f4row19_col0\" class=\"data row19 col0\" >Rare Level Threshold </td>\n",
       "                        <td id=\"T_46fb8f48_d568_11ea_8ae3_784561c206f4row19_col1\" class=\"data row19 col1\" >None</td>\n",
       "            </tr>\n",
       "            <tr>\n",
       "                        <th id=\"T_46fb8f48_d568_11ea_8ae3_784561c206f4level0_row20\" class=\"row_heading level0 row20\" >20</th>\n",
       "                        <td id=\"T_46fb8f48_d568_11ea_8ae3_784561c206f4row20_col0\" class=\"data row20 col0\" >Numeric Binning </td>\n",
       "                        <td id=\"T_46fb8f48_d568_11ea_8ae3_784561c206f4row20_col1\" class=\"data row20 col1\" >False</td>\n",
       "            </tr>\n",
       "            <tr>\n",
       "                        <th id=\"T_46fb8f48_d568_11ea_8ae3_784561c206f4level0_row21\" class=\"row_heading level0 row21\" >21</th>\n",
       "                        <td id=\"T_46fb8f48_d568_11ea_8ae3_784561c206f4row21_col0\" class=\"data row21 col0\" >Remove Multicollinearity </td>\n",
       "                        <td id=\"T_46fb8f48_d568_11ea_8ae3_784561c206f4row21_col1\" class=\"data row21 col1\" >False</td>\n",
       "            </tr>\n",
       "            <tr>\n",
       "                        <th id=\"T_46fb8f48_d568_11ea_8ae3_784561c206f4level0_row22\" class=\"row_heading level0 row22\" >22</th>\n",
       "                        <td id=\"T_46fb8f48_d568_11ea_8ae3_784561c206f4row22_col0\" class=\"data row22 col0\" >Multicollinearity Threshold </td>\n",
       "                        <td id=\"T_46fb8f48_d568_11ea_8ae3_784561c206f4row22_col1\" class=\"data row22 col1\" >None</td>\n",
       "            </tr>\n",
       "            <tr>\n",
       "                        <th id=\"T_46fb8f48_d568_11ea_8ae3_784561c206f4level0_row23\" class=\"row_heading level0 row23\" >23</th>\n",
       "                        <td id=\"T_46fb8f48_d568_11ea_8ae3_784561c206f4row23_col0\" class=\"data row23 col0\" >Group Features </td>\n",
       "                        <td id=\"T_46fb8f48_d568_11ea_8ae3_784561c206f4row23_col1\" class=\"data row23 col1\" >False</td>\n",
       "            </tr>\n",
       "    </tbody></table>"
      ],
      "text/plain": [
       "<pandas.io.formats.style.Styler at 0x17945c65b88>"
      ]
     },
     "metadata": {},
     "output_type": "display_data"
    }
   ],
   "source": [
    "from pycaret.clustering import *\n",
    "clust_algo=setup(jewellery)"
   ]
  },
  {
   "cell_type": "code",
   "execution_count": 24,
   "metadata": {},
   "outputs": [
    {
     "data": {
      "text/html": [
       "<div>\n",
       "<style scoped>\n",
       "    .dataframe tbody tr th:only-of-type {\n",
       "        vertical-align: middle;\n",
       "    }\n",
       "\n",
       "    .dataframe tbody tr th {\n",
       "        vertical-align: top;\n",
       "    }\n",
       "\n",
       "    .dataframe thead th {\n",
       "        text-align: right;\n",
       "    }\n",
       "</style>\n",
       "<table border=\"1\" class=\"dataframe\">\n",
       "  <thead>\n",
       "    <tr style=\"text-align: right;\">\n",
       "      <th></th>\n",
       "      <th>Metric</th>\n",
       "    </tr>\n",
       "  </thead>\n",
       "  <tbody>\n",
       "    <tr>\n",
       "      <th>Silhouette</th>\n",
       "      <td>0.7207</td>\n",
       "    </tr>\n",
       "    <tr>\n",
       "      <th>Calinski-Harabasz</th>\n",
       "      <td>5011.8115</td>\n",
       "    </tr>\n",
       "    <tr>\n",
       "      <th>Davies-Bouldin</th>\n",
       "      <td>0.4114</td>\n",
       "    </tr>\n",
       "  </tbody>\n",
       "</table>\n",
       "</div>"
      ],
      "text/plain": [
       "                      Metric\n",
       "Silhouette            0.7207\n",
       "Calinski-Harabasz  5011.8115\n",
       "Davies-Bouldin        0.4114"
      ]
     },
     "metadata": {},
     "output_type": "display_data"
    }
   ],
   "source": [
    "kmeans=create_model('kmeans')"
   ]
  },
  {
   "cell_type": "code",
   "execution_count": 25,
   "metadata": {},
   "outputs": [
    {
     "data": {
      "text/plain": [
       "KMeans(algorithm='auto', copy_x=True, init='k-means++', max_iter=300,\n",
       "       n_clusters=4, n_init=10, n_jobs=-1, precompute_distances='deprecated',\n",
       "       random_state=3169, tol=0.0001, verbose=0)"
      ]
     },
     "execution_count": 25,
     "metadata": {},
     "output_type": "execute_result"
    }
   ],
   "source": [
    "kmeans"
   ]
  },
  {
   "cell_type": "code",
   "execution_count": 26,
   "metadata": {},
   "outputs": [],
   "source": [
    "### Assign Labels to the dataframe\n",
    "kmeans_df=assign_model(heir)"
   ]
  },
  {
   "cell_type": "code",
   "execution_count": 27,
   "metadata": {},
   "outputs": [
    {
     "data": {
      "text/html": [
       "<div>\n",
       "<style scoped>\n",
       "    .dataframe tbody tr th:only-of-type {\n",
       "        vertical-align: middle;\n",
       "    }\n",
       "\n",
       "    .dataframe tbody tr th {\n",
       "        vertical-align: top;\n",
       "    }\n",
       "\n",
       "    .dataframe thead th {\n",
       "        text-align: right;\n",
       "    }\n",
       "</style>\n",
       "<table border=\"1\" class=\"dataframe\">\n",
       "  <thead>\n",
       "    <tr style=\"text-align: right;\">\n",
       "      <th></th>\n",
       "      <th>Age</th>\n",
       "      <th>Income</th>\n",
       "      <th>SpendingScore</th>\n",
       "      <th>Savings</th>\n",
       "      <th>Cluster</th>\n",
       "    </tr>\n",
       "  </thead>\n",
       "  <tbody>\n",
       "    <tr>\n",
       "      <th>0</th>\n",
       "      <td>58</td>\n",
       "      <td>77769</td>\n",
       "      <td>0.791329</td>\n",
       "      <td>6559.829923</td>\n",
       "      <td>Cluster 2</td>\n",
       "    </tr>\n",
       "    <tr>\n",
       "      <th>1</th>\n",
       "      <td>59</td>\n",
       "      <td>81799</td>\n",
       "      <td>0.791082</td>\n",
       "      <td>5417.661426</td>\n",
       "      <td>Cluster 2</td>\n",
       "    </tr>\n",
       "    <tr>\n",
       "      <th>2</th>\n",
       "      <td>62</td>\n",
       "      <td>74751</td>\n",
       "      <td>0.702657</td>\n",
       "      <td>9258.992965</td>\n",
       "      <td>Cluster 2</td>\n",
       "    </tr>\n",
       "    <tr>\n",
       "      <th>3</th>\n",
       "      <td>59</td>\n",
       "      <td>74373</td>\n",
       "      <td>0.765680</td>\n",
       "      <td>7346.334504</td>\n",
       "      <td>Cluster 2</td>\n",
       "    </tr>\n",
       "    <tr>\n",
       "      <th>4</th>\n",
       "      <td>87</td>\n",
       "      <td>17760</td>\n",
       "      <td>0.348778</td>\n",
       "      <td>16869.507130</td>\n",
       "      <td>Cluster 1</td>\n",
       "    </tr>\n",
       "    <tr>\n",
       "      <th>...</th>\n",
       "      <td>...</td>\n",
       "      <td>...</td>\n",
       "      <td>...</td>\n",
       "      <td>...</td>\n",
       "      <td>...</td>\n",
       "    </tr>\n",
       "    <tr>\n",
       "      <th>500</th>\n",
       "      <td>28</td>\n",
       "      <td>101206</td>\n",
       "      <td>0.387441</td>\n",
       "      <td>14936.775389</td>\n",
       "      <td>Cluster 3</td>\n",
       "    </tr>\n",
       "    <tr>\n",
       "      <th>501</th>\n",
       "      <td>93</td>\n",
       "      <td>19934</td>\n",
       "      <td>0.203140</td>\n",
       "      <td>17969.693769</td>\n",
       "      <td>Cluster 1</td>\n",
       "    </tr>\n",
       "    <tr>\n",
       "      <th>502</th>\n",
       "      <td>90</td>\n",
       "      <td>35297</td>\n",
       "      <td>0.355149</td>\n",
       "      <td>16091.401954</td>\n",
       "      <td>Cluster 1</td>\n",
       "    </tr>\n",
       "    <tr>\n",
       "      <th>503</th>\n",
       "      <td>91</td>\n",
       "      <td>20681</td>\n",
       "      <td>0.354679</td>\n",
       "      <td>18401.088445</td>\n",
       "      <td>Cluster 1</td>\n",
       "    </tr>\n",
       "    <tr>\n",
       "      <th>504</th>\n",
       "      <td>89</td>\n",
       "      <td>30267</td>\n",
       "      <td>0.289310</td>\n",
       "      <td>14386.351880</td>\n",
       "      <td>Cluster 1</td>\n",
       "    </tr>\n",
       "  </tbody>\n",
       "</table>\n",
       "<p>505 rows × 5 columns</p>\n",
       "</div>"
      ],
      "text/plain": [
       "     Age  Income  SpendingScore       Savings    Cluster\n",
       "0     58   77769       0.791329   6559.829923  Cluster 2\n",
       "1     59   81799       0.791082   5417.661426  Cluster 2\n",
       "2     62   74751       0.702657   9258.992965  Cluster 2\n",
       "3     59   74373       0.765680   7346.334504  Cluster 2\n",
       "4     87   17760       0.348778  16869.507130  Cluster 1\n",
       "..   ...     ...            ...           ...        ...\n",
       "500   28  101206       0.387441  14936.775389  Cluster 3\n",
       "501   93   19934       0.203140  17969.693769  Cluster 1\n",
       "502   90   35297       0.355149  16091.401954  Cluster 1\n",
       "503   91   20681       0.354679  18401.088445  Cluster 1\n",
       "504   89   30267       0.289310  14386.351880  Cluster 1\n",
       "\n",
       "[505 rows x 5 columns]"
      ]
     },
     "execution_count": 27,
     "metadata": {},
     "output_type": "execute_result"
    }
   ],
   "source": [
    "kmeans_df"
   ]
  },
  {
   "cell_type": "code",
   "execution_count": 29,
   "metadata": {},
   "outputs": [
    {
     "data": {
      "text/html": [
       "        <script type=\"text/javascript\">\n",
       "        window.PlotlyConfig = {MathJaxConfig: 'local'};\n",
       "        if (window.MathJax) {MathJax.Hub.Config({SVG: {font: \"STIX-Web\"}});}\n",
       "        if (typeof require !== 'undefined') {\n",
       "        require.undef(\"plotly\");\n",
       "        requirejs.config({\n",
       "            paths: {\n",
       "                'plotly': ['https://cdn.plot.ly/plotly-latest.min']\n",
       "            }\n",
       "        });\n",
       "        require(['plotly'], function(Plotly) {\n",
       "            window._Plotly = Plotly;\n",
       "        });\n",
       "        }\n",
       "        </script>\n",
       "        "
      ]
     },
     "metadata": {},
     "output_type": "display_data"
    },
    {
     "data": {
      "application/vnd.plotly.v1+json": {
       "config": {
        "plotlyServerURL": "https://plot.ly"
       },
       "data": [
        {
         "customdata": [
          [
           26
          ],
          [
           17
          ],
          [
           20
          ],
          [
           24
          ],
          [
           24
          ],
          [
           17
          ],
          [
           29
          ],
          [
           27
          ],
          [
           93
          ],
          [
           17
          ],
          [
           24
          ],
          [
           86
          ],
          [
           28
          ],
          [
           23
          ],
          [
           28
          ],
          [
           18
          ],
          [
           23
          ],
          [
           29
          ],
          [
           23
          ],
          [
           32
          ],
          [
           28
          ],
          [
           24
          ],
          [
           25
          ],
          [
           91
          ],
          [
           28
          ],
          [
           87
          ],
          [
           82
          ],
          [
           24
          ],
          [
           20
          ],
          [
           82
          ],
          [
           25
          ],
          [
           22
          ],
          [
           28
          ],
          [
           27
          ],
          [
           21
          ],
          [
           26
          ],
          [
           21
          ],
          [
           27
          ],
          [
           31
          ],
          [
           23
          ],
          [
           24
          ],
          [
           77
          ],
          [
           86
          ],
          [
           34
          ],
          [
           88
          ],
          [
           25
          ],
          [
           26
          ],
          [
           18
          ],
          [
           83
          ],
          [
           29
          ],
          [
           26
          ],
          [
           28
          ],
          [
           26
          ],
          [
           90
          ],
          [
           17
          ],
          [
           30
          ],
          [
           22
          ],
          [
           89
          ],
          [
           83
          ],
          [
           84
          ],
          [
           22
          ],
          [
           88
          ],
          [
           83
          ],
          [
           90
          ],
          [
           25
          ],
          [
           24
          ],
          [
           20
          ],
          [
           85
          ],
          [
           25
          ],
          [
           29
          ],
          [
           25
          ],
          [
           92
          ]
         ],
         "hovertemplate": "Cluster=Cluster 0<br>PCA1=%{x}<br>PCA2=%{y}<br>Feature=%{customdata[0]}<extra></extra>",
         "legendgroup": "Cluster 0",
         "marker": {
          "color": "#636efa",
          "opacity": 0.5,
          "symbol": "circle"
         },
         "mode": "markers",
         "name": "Cluster 0",
         "orientation": "v",
         "showlegend": true,
         "textposition": "top center",
         "type": "scatter",
         "x": [
          51532.470058404535,
          61085.161815426945,
          47415.38916240535,
          45280.29645748765,
          53976.79000263132,
          59803.045579193036,
          47210.61128412964,
          47518.881318567954,
          50874.59373315192,
          48697.32854440997,
          59239.853528398184,
          52679.13742245066,
          52465.03358665994,
          51395.224355999526,
          48029.23598296094,
          48551.897791192656,
          54778.919909691474,
          43600.21618030979,
          63317.06653244295,
          41328.252663310006,
          48281.964764021934,
          61617.25602185726,
          55783.428858014944,
          43084.43130106844,
          46000.80248469957,
          41859.154369975666,
          50433.85138453342,
          52263.4941087445,
          54230.31142047664,
          45920.303846007664,
          45728.40114434414,
          45302.57090416746,
          41933.87634909212,
          46271.74999066815,
          54542.56026091132,
          50397.08389773138,
          48602.571111840225,
          49923.23240258634,
          47836.448391826874,
          45049.71303774849,
          55795.997914964,
          52844.21454083219,
          48577.24594456376,
          44074.744322679515,
          47964.55226138699,
          62912.45709780572,
          52086.38065892726,
          55587.3517307336,
          42157.805428701045,
          66750.62108457659,
          56651.455483747515,
          53924.597039558794,
          47842.88367906654,
          48410.00929047237,
          59798.17482849975,
          47549.76254622712,
          57857.28905692235,
          43861.74709102558,
          43629.012739237616,
          46993.64108790844,
          58984.55027496729,
          44952.902035389,
          41580.27174463828,
          42045.79570257146,
          55809.60825993983,
          59196.59308633914,
          53899.234059979615,
          42414.139844094,
          53422.55248570127,
          56449.678138281466,
          55168.451545061915,
          47182.068581555875
         ],
         "xaxis": "x",
         "y": [
          6006.733833662535,
          4243.721728508767,
          4709.38880763183,
          4437.356566167743,
          5488.38998458211,
          8450.307562492613,
          6674.234677495921,
          4941.999362973273,
          -5178.052813440077,
          5282.497809754311,
          4745.1445891248095,
          -4749.0570257153695,
          3371.5330650131,
          5657.24149498082,
          5422.323757682566,
          4668.214697412176,
          4629.7913652811,
          -5657.478831520007,
          4946.177510120512,
          -4823.645899335598,
          8499.966944599812,
          6726.313750520617,
          4732.08771470771,
          -4660.855622444514,
          3884.452851319086,
          -4543.326267067202,
          -6854.206134077963,
          5916.358054129834,
          3238.4287703236873,
          -4953.921129423366,
          3658.306501252223,
          3778.18142130961,
          4717.9972052376115,
          4207.414796612185,
          4193.882999372309,
          2890.5509685647053,
          6249.537360930087,
          6048.724079227711,
          6059.983323374552,
          4590.87258345611,
          4252.897540706998,
          -5677.667475551916,
          -6305.307759672735,
          -6307.669140625979,
          -4397.186114919684,
          5261.355213266392,
          3388.427034681377,
          3427.135195258814,
          -5954.454601851149,
          2693.008186621752,
          4271.292185091138,
          5765.842845736469,
          4758.188729714919,
          -5693.665441157454,
          4315.751792559067,
          3437.8964823947817,
          5717.501137167645,
          -6877.035883382074,
          -6254.84094120913,
          -4647.129088588655,
          3350.711617933648,
          -4985.514801220402,
          -5615.560772408646,
          -3106.1034758683622,
          3879.149733262659,
          3903.9749268153723,
          3176.7468854090926,
          -5432.281819509649,
          3894.235479127751,
          5101.398697367523,
          4016.9816222016175,
          -4557.716601791883
         ],
         "yaxis": "y"
        },
        {
         "customdata": [
          [
           88
          ],
          [
           84
          ],
          [
           91
          ],
          [
           86
          ],
          [
           91
          ],
          [
           86
          ],
          [
           94
          ],
          [
           85
          ],
          [
           94
          ],
          [
           88
          ],
          [
           85
          ],
          [
           83
          ],
          [
           86
          ],
          [
           91
          ],
          [
           90
          ],
          [
           88
          ],
          [
           84
          ],
          [
           92
          ],
          [
           91
          ],
          [
           94
          ],
          [
           83
          ],
          [
           91
          ],
          [
           83
          ],
          [
           89
          ],
          [
           88
          ],
          [
           87
          ],
          [
           88
          ],
          [
           89
          ],
          [
           85
          ],
          [
           91
          ],
          [
           85
          ],
          [
           94
          ],
          [
           83
          ],
          [
           94
          ],
          [
           84
          ],
          [
           86
          ],
          [
           85
          ],
          [
           87
          ],
          [
           88
          ],
          [
           89
          ],
          [
           87
          ],
          [
           86
          ],
          [
           88
          ],
          [
           91
          ],
          [
           85
          ],
          [
           88
          ],
          [
           90
          ],
          [
           87
          ],
          [
           91
          ],
          [
           85
          ],
          [
           92
          ],
          [
           89
          ],
          [
           89
          ],
          [
           95
          ],
          [
           87
          ],
          [
           87
          ],
          [
           82
          ],
          [
           93
          ],
          [
           82
          ],
          [
           91
          ],
          [
           82
          ],
          [
           89
          ],
          [
           84
          ],
          [
           87
          ],
          [
           92
          ],
          [
           90
          ],
          [
           91
          ],
          [
           81
          ],
          [
           93
          ],
          [
           88
          ],
          [
           84
          ],
          [
           85
          ],
          [
           87
          ],
          [
           89
          ],
          [
           89
          ],
          [
           86
          ],
          [
           84
          ],
          [
           91
          ],
          [
           91
          ],
          [
           83
          ],
          [
           87
          ],
          [
           90
          ],
          [
           83
          ],
          [
           83
          ],
          [
           83
          ],
          [
           87
          ],
          [
           92
          ],
          [
           91
          ],
          [
           79
          ],
          [
           94
          ],
          [
           83
          ],
          [
           91
          ],
          [
           85
          ],
          [
           87
          ],
          [
           87
          ],
          [
           88
          ],
          [
           86
          ],
          [
           90
          ],
          [
           84
          ],
          [
           86
          ],
          [
           90
          ],
          [
           93
          ],
          [
           87
          ],
          [
           91
          ],
          [
           87
          ],
          [
           83
          ],
          [
           84
          ],
          [
           87
          ],
          [
           92
          ],
          [
           87
          ],
          [
           82
          ],
          [
           84
          ],
          [
           97
          ],
          [
           91
          ],
          [
           92
          ],
          [
           90
          ],
          [
           91
          ],
          [
           90
          ],
          [
           88
          ],
          [
           84
          ],
          [
           84
          ],
          [
           92
          ],
          [
           88
          ],
          [
           90
          ],
          [
           84
          ],
          [
           87
          ],
          [
           82
          ],
          [
           89
          ],
          [
           88
          ],
          [
           88
          ],
          [
           88
          ],
          [
           91
          ],
          [
           86
          ],
          [
           89
          ],
          [
           89
          ],
          [
           90
          ],
          [
           89
          ],
          [
           92
          ],
          [
           85
          ],
          [
           94
          ],
          [
           90
          ],
          [
           85
          ],
          [
           88
          ],
          [
           84
          ],
          [
           79
          ],
          [
           88
          ],
          [
           87
          ]
         ],
         "hovertemplate": "Cluster=Cluster 1<br>PCA1=%{x}<br>PCA2=%{y}<br>Feature=%{customdata[0]}<extra></extra>",
         "legendgroup": "Cluster 1",
         "marker": {
          "color": "#EF553B",
          "opacity": 0.5,
          "symbol": "circle"
         },
         "mode": "markers",
         "name": "Cluster 1",
         "orientation": "v",
         "showlegend": true,
         "textposition": "top center",
         "type": "scatter",
         "x": [
          -58306.893741211345,
          -53484.99044797623,
          -50504.82314273774,
          -56854.24491468414,
          -45489.120024218646,
          -46897.28720484187,
          -36822.88272990108,
          -47271.41327624214,
          -47975.62989430371,
          -47129.84416342063,
          -49427.52413702614,
          -48890.16204283167,
          -39916.590611526924,
          -49274.44239615933,
          -45508.35388587768,
          -43012.769783491414,
          -48329.37521986347,
          -42805.174693662295,
          -47000.17170879293,
          -54957.490989172366,
          -57495.82751822284,
          -48496.84792497307,
          -45148.062146087934,
          -50446.687258505604,
          -57750.75774612394,
          -50055.787564293576,
          -53103.847912897334,
          -44680.893509319256,
          -44945.69901444302,
          -46108.56441807313,
          -40907.25147798811,
          -48448.18982139342,
          -47148.04950665263,
          -56820.08755360428,
          -37730.7693406082,
          -28705.212826769817,
          -47927.756153353286,
          -49952.563864247575,
          -49206.07297923623,
          -56491.72616160146,
          -45504.92821664387,
          -43811.472620393906,
          -56178.673270051804,
          -63634.72200273959,
          -54413.158553524765,
          -40724.15688509666,
          -53514.36608306826,
          -63656.34758998017,
          -39063.28667619092,
          -46522.9194197512,
          -39882.02333138304,
          -42432.64509966228,
          -49610.67501015972,
          -48754.55322293147,
          -44821.271955370954,
          -28723.991919566022,
          -51459.51350546346,
          -55300.4383561165,
          -42172.091423728154,
          -58771.33010043621,
          -43231.477908798806,
          -55368.98427568013,
          -48469.7582255558,
          -51191.18311026797,
          -53329.088908637954,
          -42253.872877958245,
          -55116.836018168404,
          -41272.89533986181,
          -58127.50387027004,
          -42594.243001932984,
          -48254.006229924926,
          -46206.76070917289,
          -57176.86780610607,
          -48762.36466827121,
          -45316.581406095574,
          -39708.6469896635,
          -57516.273183636455,
          -51304.42079121022,
          -48867.33422412476,
          -47072.83270827882,
          -52350.136881607694,
          -42485.198930508406,
          -42546.30928703386,
          -52508.30353343576,
          -45053.501151340184,
          -52745.271995073854,
          -53120.54070874584,
          -49855.36023906119,
          -37510.58801132118,
          -51858.95285225977,
          -41183.65207165713,
          -38870.67264138035,
          -53905.3308087067,
          -49083.98904448348,
          -49618.56425158391,
          -42334.047671506356,
          -48031.600338698365,
          -46621.675189920876,
          -55003.114735362964,
          -52219.78891026326,
          -40392.52353813578,
          -55837.8962125591,
          -57945.29400939381,
          -44891.726940178174,
          -33223.787927586905,
          -41229.085326467924,
          -48086.47161506785,
          -45889.16124528396,
          -39730.75492373199,
          -44207.36919669007,
          -42152.50281937877,
          -39255.473865513486,
          -48338.70466261934,
          -52957.61629178099,
          -56895.33602609467,
          -38257.012522678706,
          -47591.225111220025,
          -52877.38164603339,
          -57888.9869379862,
          -45243.33599570983,
          -51590.97205811304,
          -40276.44813108957,
          -44316.390976136536,
          -50029.04867348444,
          -33685.82303783502,
          -59885.183450800905,
          -51335.69636219806,
          -51006.625967171814,
          -41654.28537091674,
          -46888.40589877379,
          -47339.947334108285,
          -46752.171891149104,
          -60035.35573518636,
          -53680.720585277915,
          -47490.053373637085,
          -42382.69883203622,
          -41047.376366850316,
          -42194.79873495243,
          -41090.43271162367,
          -47366.64939309714,
          -51240.79467490212,
          -47211.30921897942,
          -49640.51633393592,
          -46294.69652581511,
          -43219.57063079799,
          -48459.5788531647,
          -45592.662714596474
         ],
         "xaxis": "x",
         "y": [
          -1498.3070625904,
          -2964.8711615389416,
          -2541.10407440242,
          -1039.8869670204474,
          -857.2365574199105,
          -1500.5997535503448,
          -3004.1359250357314,
          -1422.2632521531445,
          -2697.4806496368715,
          -2166.9455265130237,
          -3282.496783689516,
          -3117.0435724351228,
          -5860.40697091343,
          -1819.1411133435656,
          -1716.0957515179937,
          -2388.397515567186,
          -2106.956548531855,
          -2383.923586492434,
          -3258.592731249428,
          -1273.034090967153,
          -874.593832039621,
          -1255.0231217175187,
          -918.4435413744558,
          -1789.8310613735046,
          -1546.7860227984625,
          -458.7329379734676,
          -1838.6646455566586,
          -3320.2381091067414,
          -2663.436303414358,
          -4704.900718140077,
          -2247.723098069758,
          -424.4944516024695,
          -948.1700320034121,
          -2626.49476012304,
          -3447.5228656993518,
          -2125.516573296832,
          1139.0677249894104,
          -1016.3628176053351,
          646.5438723752062,
          -1529.9495201383813,
          -1656.425055816304,
          -3844.0506429942825,
          -1450.7318688866605,
          -958.5365645110738,
          -1055.996893175367,
          -3403.354998094878,
          -3511.6505427575585,
          -672.1303645870969,
          -2178.951260878266,
          -2395.1506203279087,
          -3145.838811669631,
          -2804.3175987818167,
          -2494.346015854768,
          -3476.7575329414058,
          -809.2478504066122,
          -1283.2493416842194,
          -1443.631221061166,
          -2379.445392952534,
          -3482.950924420313,
          -1946.4256348815316,
          -2464.3665067293464,
          -990.6075970316521,
          -975.0110199269351,
          -2999.048136853005,
          -3704.115203066882,
          -2813.408865756102,
          -3386.6313874278353,
          -2039.0519450914771,
          -3329.424155750389,
          -4573.13594967613,
          -3586.3929123393605,
          -3972.437291114197,
          -500.3822260290334,
          -1902.3037525718107,
          72.34189620852658,
          -2812.6408322745256,
          -2662.2379174130565,
          -1341.6421504993355,
          -3330.0950893142617,
          -3652.1430220775046,
          -1271.836696800181,
          -1573.1293339464673,
          -2323.9550250667403,
          -2003.379558614892,
          -3267.853088065967,
          -3270.2500120301256,
          -2373.9068521136146,
          -2551.6409458672997,
          -2385.930673599971,
          -1998.3145148841254,
          -2299.1775764582503,
          -4966.63298363163,
          776.7213551828829,
          -2706.954245859541,
          -1200.4987085747,
          -946.4427010468263,
          -2520.8796709258972,
          -1061.3928297006273,
          -1806.371634963474,
          -361.8228772290576,
          -1918.0706539765354,
          -2913.151326193391,
          -1690.2235244245387,
          -1059.5099705589153,
          -4327.5998004040275,
          -559.8887343311548,
          -3267.6645334787427,
          -3656.8600405231205,
          -3215.3117531036187,
          -1788.5950192551377,
          -3595.426499455153,
          -2456.0624695072042,
          -296.94791022013527,
          -512.168161665234,
          -219.8356734403194,
          -3209.705699855121,
          -2876.016821854161,
          -1034.0462861180672,
          -2297.4104284560135,
          -2386.7446703879677,
          -1709.680992265401,
          -3159.403065288739,
          -1681.1078093986148,
          -2907.798180135491,
          -2359.9810608524367,
          968.1821841701776,
          -2253.324954790312,
          1229.6342021038015,
          -1284.2763352326,
          -1747.2845158743742,
          -2756.2104567652145,
          -4260.667936777423,
          -2067.7852022028555,
          -1523.1531827794754,
          -1025.6556377131571,
          -1026.2178281219415,
          163.0086019424071,
          -2831.244972649776,
          -2507.4680378488574,
          -2226.5238835946834,
          -337.58311029945656,
          -497.02873214681324,
          -2403.4526565005262,
          -3445.1407626668747,
          -982.6374045457409,
          -623.024823397233,
          -1858.741542867274
         ],
         "yaxis": "y"
        },
        {
         "customdata": [
          [
           58
          ],
          [
           59
          ],
          [
           61
          ],
          [
           58
          ],
          [
           61
          ],
          [
           55
          ],
          [
           56
          ],
          [
           57
          ],
          [
           56
          ],
          [
           58
          ],
          [
           65
          ],
          [
           67
          ],
          [
           58
          ],
          [
           61
          ],
          [
           59
          ],
          [
           66
          ],
          [
           59
          ],
          [
           59
          ],
          [
           60
          ],
          [
           60
          ],
          [
           67
          ],
          [
           56
          ],
          [
           62
          ],
          [
           65
          ],
          [
           59
          ],
          [
           58
          ],
          [
           61
          ],
          [
           63
          ],
          [
           67
          ],
          [
           65
          ],
          [
           64
          ],
          [
           60
          ],
          [
           61
          ],
          [
           59
          ],
          [
           63
          ],
          [
           61
          ],
          [
           57
          ],
          [
           57
          ],
          [
           59
          ],
          [
           59
          ],
          [
           56
          ],
          [
           61
          ],
          [
           68
          ],
          [
           59
          ],
          [
           60
          ],
          [
           62
          ],
          [
           62
          ],
          [
           59
          ],
          [
           59
          ],
          [
           59
          ],
          [
           63
          ],
          [
           58
          ],
          [
           55
          ],
          [
           61
          ],
          [
           51
          ],
          [
           58
          ],
          [
           56
          ],
          [
           58
          ],
          [
           63
          ],
          [
           62
          ],
          [
           66
          ],
          [
           57
          ],
          [
           66
          ],
          [
           63
          ],
          [
           64
          ],
          [
           62
          ],
          [
           62
          ],
          [
           60
          ],
          [
           65
          ],
          [
           60
          ],
          [
           59
          ],
          [
           56
          ],
          [
           58
          ],
          [
           62
          ],
          [
           56
          ],
          [
           59
          ],
          [
           58
          ],
          [
           63
          ],
          [
           64
          ],
          [
           62
          ],
          [
           60
          ],
          [
           62
          ],
          [
           58
          ],
          [
           56
          ],
          [
           62
          ],
          [
           64
          ],
          [
           66
          ],
          [
           59
          ],
          [
           62
          ],
          [
           65
          ],
          [
           61
          ],
          [
           62
          ],
          [
           60
          ],
          [
           63
          ],
          [
           59
          ],
          [
           62
          ],
          [
           59
          ],
          [
           54
          ],
          [
           61
          ],
          [
           55
          ],
          [
           53
          ],
          [
           55
          ],
          [
           61
          ],
          [
           59
          ],
          [
           59
          ],
          [
           56
          ],
          [
           61
          ],
          [
           61
          ],
          [
           60
          ],
          [
           57
          ],
          [
           61
          ],
          [
           56
          ],
          [
           58
          ],
          [
           64
          ],
          [
           59
          ],
          [
           58
          ],
          [
           59
          ],
          [
           58
          ],
          [
           57
          ],
          [
           55
          ],
          [
           62
          ],
          [
           64
          ],
          [
           61
          ],
          [
           53
          ],
          [
           55
          ],
          [
           58
          ],
          [
           59
          ],
          [
           57
          ],
          [
           53
          ],
          [
           64
          ],
          [
           61
          ],
          [
           60
          ],
          [
           58
          ],
          [
           68
          ],
          [
           59
          ],
          [
           64
          ],
          [
           63
          ],
          [
           63
          ],
          [
           66
          ],
          [
           62
          ],
          [
           59
          ],
          [
           57
          ],
          [
           61
          ],
          [
           58
          ],
          [
           67
          ],
          [
           64
          ],
          [
           55
          ],
          [
           56
          ],
          [
           58
          ],
          [
           55
          ],
          [
           57
          ],
          [
           57
          ],
          [
           58
          ],
          [
           60
          ],
          [
           56
          ],
          [
           61
          ]
         ],
         "hovertemplate": "Cluster=Cluster 2<br>PCA1=%{x}<br>PCA2=%{y}<br>Feature=%{customdata[0]}<extra></extra>",
         "legendgroup": "Cluster 2",
         "marker": {
          "color": "#00cc96",
          "opacity": 0.5,
          "symbol": "circle"
         },
         "mode": "markers",
         "name": "Cluster 2",
         "orientation": "v",
         "showlegend": true,
         "textposition": "top center",
         "type": "scatter",
         "x": [
          -6075.723945911879,
          -7981.746810683444,
          -6214.354917756385,
          4968.764645874573,
          -3222.028497117645,
          1547.9124395594215,
          375.6120252474097,
          4615.604589783893,
          -1755.3663563989946,
          834.6063416853494,
          -4114.6658125026615,
          5679.935032255568,
          -4883.720561797815,
          -967.1345292294839,
          -1709.006711698437,
          1855.0479869186875,
          -7793.454352086536,
          -18832.323089995112,
          -9176.939917160456,
          -5149.414552966318,
          3574.8676282851384,
          3735.222300120544,
          -7431.169946592952,
          -4794.730185972461,
          -1864.59405906145,
          2868.6753358918095,
          -9270.98324611398,
          7034.566991846884,
          -6586.375015596342,
          -811.2733012583001,
          -12402.614006035745,
          -805.5182840466957,
          -7827.504392605754,
          -7225.656651496562,
          -7793.211508914164,
          3607.6218475354494,
          -3147.9716901024067,
          -10371.48705707173,
          -2220.6354506100656,
          5619.1255387636265,
          5122.2825622989185,
          -9600.0095257169,
          -6270.130057704636,
          2663.814142724261,
          -11770.096221904701,
          -1424.2968527852531,
          -5898.7444796811515,
          -5787.584457334294,
          -6051.798027149646,
          7017.407229806951,
          -4661.643199436445,
          3333.037008198895,
          -10419.650727093289,
          -3197.7706749317103,
          -3127.746475407196,
          -4588.845682887333,
          -9823.29297141867,
          2555.784235160104,
          5567.478117111809,
          -1710.0091006297773,
          -2630.7941352081784,
          1381.2925438038924,
          -10238.83792874304,
          -2329.6167597527674,
          -3536.6248996188647,
          -11570.013629472303,
          -12594.17524212854,
          -3881.2792235448314,
          -9447.566957019662,
          -4595.725467462929,
          277.3194547180348,
          9121.208329826182,
          499.4966180961339,
          -4176.722631704311,
          -6529.597912750266,
          -7423.928769536239,
          3385.8220491313214,
          -5414.849621380298,
          11039.026942031718,
          -5806.077052611824,
          -10072.875118803548,
          3175.7301008876834,
          -5327.512619806893,
          -6874.447300583787,
          -6945.490220855905,
          1198.2155272857246,
          7325.2561894927,
          -7249.028129796937,
          4864.683651413,
          -9153.992100917843,
          -5628.983771409211,
          -8175.944783841659,
          4848.442764387983,
          10499.407295945592,
          6644.59761279823,
          -611.8920766835429,
          -879.6961231840211,
          1270.5926186365064,
          -3354.4093954920495,
          -3652.0516272195264,
          1535.3200349238548,
          3442.067865401047,
          1691.146999005504,
          -9514.742122293774,
          -5495.930030665692,
          -11393.264281389052,
          -1006.7942808926992,
          -11385.807297750891,
          -5228.7735481431,
          106.44730782999314,
          -2009.7086141751715,
          11129.424149229615,
          -4333.353171495323,
          13091.374153516692,
          -860.4354477953776,
          1797.8692846207541,
          -2601.8696283459494,
          -4972.922141129974,
          4241.775895153046,
          -4197.995995572512,
          -5414.451723823099,
          -14757.626854505615,
          -6112.701966838943,
          -13124.391604038421,
          -847.3002227743453,
          -907.6690876091216,
          -3902.650760127413,
          -1148.592713836321,
          -284.9346161317569,
          1223.3332842063587,
          -4025.5345868615004,
          -9955.59900050198,
          5073.487356522346,
          2456.1149429108914,
          -5713.304475031726,
          -10817.514881421745,
          -18377.080919160904,
          -182.8750970628954,
          -3578.6411667637317,
          -12401.01261442264,
          384.4886537787808,
          -9604.976101231408,
          -4335.121223668245,
          -4856.16027761909,
          -15876.014194933876,
          3594.042421690836,
          -1254.7961050822876,
          -7927.27939399957,
          2392.951400013227,
          871.05614486404,
          1380.909585482257,
          -5506.504775277312,
          8122.0803804155485,
          -7740.904879089726,
          -15159.901916245688,
          -1867.5011952055115
         ],
         "xaxis": "x",
         "y": [
          3500.596454313256,
          3467.565974911422,
          8154.200533863813,
          3943.1170736339145,
          4129.18118941636,
          3973.906997486515,
          5049.606296947779,
          5713.442041909507,
          4273.205301847639,
          5141.101367432594,
          3078.896438494594,
          4711.285967238695,
          4688.370746949261,
          4638.724240674153,
          3684.6952959403616,
          5468.743274286699,
          5788.853893383753,
          6823.253328040571,
          7146.662858252783,
          5556.666139133823,
          6638.189488143049,
          4370.46782882272,
          6342.036901878029,
          5174.470545977297,
          5267.352553209781,
          5223.64233039036,
          5996.549152653398,
          3374.287134293428,
          4795.659622307601,
          4771.515153180696,
          4277.420432790432,
          4348.095679784141,
          5701.697575023517,
          4564.61762185532,
          6334.243251982051,
          4852.444518767342,
          5506.9966229138645,
          6211.274488459204,
          4177.140129281852,
          4314.803908984971,
          3424.0736039052913,
          4923.281603355225,
          5401.821696967172,
          3399.1203547303253,
          5001.420783196854,
          7267.328542397008,
          5205.840154213882,
          5711.628393266973,
          6221.683453940023,
          5588.800602998208,
          4875.412034392045,
          4012.215493342318,
          5982.858221439136,
          5127.949261280459,
          5318.28199362223,
          4468.268102563846,
          6862.247572080612,
          5164.690387393589,
          6399.6794579285815,
          5692.091704359404,
          5512.809888472103,
          5207.221097509014,
          7423.3153685464395,
          6502.207882775596,
          5070.41309843633,
          6393.58492746024,
          5058.59350766587,
          3532.750801645639,
          6026.370137728775,
          4575.315245883317,
          5152.077722121318,
          4076.1888638585006,
          4450.572465085803,
          5121.948177991023,
          5174.060016070754,
          5595.425208078432,
          4513.159427781261,
          4509.378948047734,
          4384.687289531573,
          5686.132349951811,
          7033.832306225477,
          4727.079813055352,
          5507.674538617936,
          3266.470183264382,
          5240.283697626608,
          6031.597780098122,
          5245.750156657967,
          5030.101509904849,
          4834.953991865889,
          6237.455006749801,
          3413.4609900340356,
          5599.274828311297,
          6716.389270082333,
          4092.5868105824984,
          6074.108821940046,
          2642.8564628733125,
          4574.029852480236,
          4918.861099714738,
          4039.0497082186107,
          4298.147934215802,
          6617.143404468861,
          3293.925709825788,
          4305.605513370141,
          5484.062210130754,
          5033.927181148626,
          4760.726683836125,
          6827.7367522808745,
          5239.8344862521335,
          4906.821369117012,
          5019.545071865863,
          4571.311601888517,
          2451.395645635494,
          6791.1217279871325,
          3878.074005604355,
          1366.2175061913913,
          3616.906622264864,
          5720.063910631851,
          5053.97439448231,
          4854.37361153801,
          4646.4230382320975,
          6401.4968503785585,
          5008.01210377861,
          7150.265686204215,
          5122.298575466137,
          5435.293808150469,
          4662.5718013621645,
          5499.33933272177,
          6154.518606181519,
          4064.008336080812,
          5666.367954752704,
          5644.552199614273,
          4085.312250446125,
          5244.43680934892,
          5539.9782542761295,
          6098.407171499212,
          6677.482101590941,
          5086.374324713108,
          4411.324353776286,
          4687.331305792249,
          6731.622371228145,
          6845.141814371284,
          5517.456998799795,
          2658.297518890415,
          6861.841710581512,
          7337.462584330773,
          5244.223767536207,
          6380.915494292795,
          5673.527728610808,
          5992.684094109712,
          5689.000453091914,
          5567.112673818736,
          6298.4301788677385,
          4731.012058760933,
          5133.639471687392,
          5573.243592768733,
          2685.6626854367973
         ],
         "yaxis": "y"
        },
        {
         "customdata": [
          [
           37
          ],
          [
           30
          ],
          [
           30
          ],
          [
           36
          ],
          [
           31
          ],
          [
           31
          ],
          [
           33
          ],
          [
           85
          ],
          [
           30
          ],
          [
           37
          ],
          [
           36
          ],
          [
           84
          ],
          [
           34
          ],
          [
           36
          ],
          [
           30
          ],
          [
           22
          ],
          [
           34
          ],
          [
           35
          ],
          [
           34
          ],
          [
           37
          ],
          [
           35
          ],
          [
           29
          ],
          [
           28
          ],
          [
           38
          ],
          [
           88
          ],
          [
           31
          ],
          [
           31
          ],
          [
           30
          ],
          [
           29
          ],
          [
           33
          ],
          [
           32
          ],
          [
           30
          ],
          [
           31
          ],
          [
           37
          ],
          [
           39
          ],
          [
           31
          ],
          [
           33
          ],
          [
           33
          ],
          [
           36
          ],
          [
           31
          ],
          [
           33
          ],
          [
           31
          ],
          [
           31
          ],
          [
           37
          ],
          [
           36
          ],
          [
           30
          ],
          [
           37
          ],
          [
           25
          ],
          [
           35
          ],
          [
           33
          ],
          [
           34
          ],
          [
           28
          ],
          [
           31
          ],
          [
           33
          ],
          [
           28
          ],
          [
           35
          ],
          [
           31
          ],
          [
           31
          ],
          [
           30
          ],
          [
           33
          ],
          [
           28
          ],
          [
           31
          ],
          [
           40
          ],
          [
           30
          ],
          [
           29
          ],
          [
           34
          ],
          [
           39
          ],
          [
           30
          ],
          [
           86
          ],
          [
           35
          ],
          [
           59
          ],
          [
           29
          ],
          [
           28
          ],
          [
           38
          ],
          [
           31
          ],
          [
           84
          ],
          [
           29
          ],
          [
           32
          ],
          [
           28
          ],
          [
           36
          ],
          [
           32
          ],
          [
           84
          ],
          [
           29
          ],
          [
           42
          ],
          [
           32
          ],
          [
           29
          ],
          [
           29
          ],
          [
           34
          ],
          [
           25
          ],
          [
           29
          ],
          [
           33
          ],
          [
           35
          ],
          [
           33
          ],
          [
           36
          ],
          [
           37
          ],
          [
           36
          ],
          [
           35
          ],
          [
           29
          ],
          [
           38
          ],
          [
           33
          ],
          [
           33
          ],
          [
           31
          ],
          [
           38
          ],
          [
           32
          ],
          [
           36
          ],
          [
           34
          ],
          [
           27
          ],
          [
           37
          ],
          [
           35
          ],
          [
           39
          ],
          [
           35
          ],
          [
           31
          ],
          [
           30
          ],
          [
           31
          ],
          [
           37
          ],
          [
           24
          ],
          [
           34
          ],
          [
           31
          ],
          [
           32
          ],
          [
           37
          ],
          [
           26
          ],
          [
           34
          ],
          [
           33
          ],
          [
           33
          ],
          [
           35
          ],
          [
           34
          ],
          [
           28
          ],
          [
           44
          ],
          [
           36
          ],
          [
           43
          ]
         ],
         "hovertemplate": "Cluster=Cluster 3<br>PCA1=%{x}<br>PCA2=%{y}<br>Feature=%{customdata[0]}<extra></extra>",
         "legendgroup": "Cluster 3",
         "marker": {
          "color": "#ab63fa",
          "opacity": 0.5,
          "symbol": "circle"
         },
         "mode": "markers",
         "name": "Cluster 3",
         "orientation": "v",
         "showlegend": true,
         "textposition": "top center",
         "type": "scatter",
         "x": [
          30949.636901997947,
          31614.4425654191,
          24294.808478346335,
          23967.00608797563,
          32345.708428700596,
          32322.90855312248,
          22258.608668569905,
          35579.205815806374,
          26298.14841024672,
          22105.03459107826,
          20592.34661300777,
          38543.625122928745,
          26507.042872359914,
          28639.385002450505,
          22224.556143435286,
          33345.156271231186,
          23196.213306438236,
          28912.89513619995,
          28627.259856400316,
          21900.78530003276,
          41298.631292835074,
          30268.7054812633,
          25474.402763797283,
          18943.372817813026,
          38847.16976776085,
          39135.376223130086,
          30148.682673916093,
          31911.001239366327,
          15764.491431415816,
          25328.069962281672,
          32572.7502723662,
          25376.69326607315,
          37228.734745200694,
          32912.89206331586,
          24706.128352845164,
          35758.27543553671,
          31361.085267799146,
          31045.220255678792,
          24491.388898644735,
          32416.939873895557,
          30584.12461511325,
          25732.344972190567,
          25363.91922672042,
          32289.540207166658,
          22350.769816321572,
          32797.64366935494,
          31202.412682476086,
          25765.790042328346,
          30806.7763419528,
          30046.489080926065,
          22393.417730180125,
          19017.1694649175,
          32307.936729140954,
          40849.48059769065,
          24827.978780545967,
          34360.48180735059,
          35187.91053468467,
          40419.57669510418,
          20486.14069594545,
          32561.025360063308,
          23858.59824002342,
          23748.67781545405,
          23032.680124651273,
          32149.921292682884,
          26228.37628643619,
          35572.71538685358,
          23470.847033328024,
          30614.16577855356,
          39941.237375096156,
          30155.334159636997,
          15177.319714667692,
          40673.85964432747,
          36260.399857073884,
          37939.71700891237,
          26983.046364278198,
          34834.90179466003,
          35036.715855487215,
          26023.566351406156,
          33379.4205846891,
          29861.546669621468,
          30836.978307627447,
          39513.27355543246,
          27412.69140542123,
          31253.468530449438,
          19785.994393274676,
          35711.07999432946,
          23392.94204685059,
          14006.000965365387,
          30950.101839682397,
          26312.37296892753,
          36008.72535912233,
          37194.90227907421,
          38869.64945267171,
          32210.979768642414,
          31960.75451420727,
          33203.84256888804,
          26578.153196266194,
          36813.76713420397,
          28960.63496494678,
          23896.368807904088,
          19295.267686809562,
          28681.54988758576,
          39399.40138181152,
          34753.14848573082,
          34060.87750047384,
          23022.218263126648,
          31016.952770667867,
          34830.86603735359,
          32691.869561685737,
          24819.360949497757,
          26003.522431925623,
          29210.556946439694,
          33217.9266109481,
          31330.34398452478,
          32853.062283695275,
          34815.25492053806,
          27758.387575808218,
          29240.509748648106,
          26343.678673902465,
          35023.2162708003,
          21973.30795044383,
          31502.360342968233,
          16918.676201100123,
          24613.75198032612,
          31317.29806455372,
          27456.913266673113,
          22236.169474372273,
          38938.118138714366,
          26071.981181359253,
          25938.050496756256
         ],
         "xaxis": "x",
         "y": [
          -4397.197322284793,
          -3948.413153701506,
          -3156.1748677381497,
          -5918.696393593376,
          -2201.720436215354,
          -3681.290385681802,
          -5195.925409188553,
          -6195.256515402731,
          -5023.038755192272,
          -4346.187741550607,
          -4611.587648361571,
          -7198.0637530044405,
          -5484.674656121097,
          -3130.9505393461013,
          -5737.01421639917,
          -6080.299826048203,
          -5613.714946473869,
          -5224.554435670843,
          -3324.8164217780154,
          -5234.914435436245,
          -6422.0650063113535,
          -4917.675594824386,
          -4541.1617119158645,
          -6099.92651167516,
          -8209.63930809388,
          -4339.707016425755,
          -3727.641222685245,
          -2672.9112969661505,
          -2149.1522120766203,
          -4507.81885275907,
          -6711.0058147720265,
          -3922.329207394541,
          -4575.537648425252,
          -4588.6646842443115,
          -6304.286871577942,
          -4122.472097486012,
          -4837.589604607753,
          -4354.880673536975,
          -3378.544090547867,
          -3316.87378451985,
          -5198.651743783721,
          -4846.280009746117,
          -6518.877743618622,
          -3634.3413606407394,
          -5405.19238007051,
          -5654.546848389319,
          -4006.8807824041237,
          -4647.515091833698,
          -5560.204679600002,
          -2733.1094851712633,
          -5150.746928288211,
          -4587.056600403996,
          -3401.081521768777,
          -5591.4308623525085,
          -5088.608312301609,
          -5038.816440742177,
          -4164.858385743973,
          -6642.233640263947,
          -4804.2037003568,
          -5658.529147335396,
          -4857.997302514553,
          -4085.387888540778,
          -5461.179044520953,
          -5508.945169399094,
          -4266.4841646878,
          -4807.665202226776,
          -4720.248925408387,
          -4762.4349126193365,
          -5237.495032301007,
          -6491.845916302066,
          4253.6702688112655,
          -5771.827716588529,
          -3890.344796261254,
          -4683.440281859751,
          -2897.4181107781183,
          -5079.5409307317495,
          -6415.699536226249,
          -7172.334785619933,
          -4139.053044046938,
          -4210.491742797324,
          -4248.410998779928,
          -4805.682520520943,
          -5970.659605817778,
          -4792.8201724446635,
          -4699.391527469763,
          -4543.481105344734,
          -5117.92636990629,
          -1775.6050399833498,
          -6274.399407676458,
          -4286.405360287332,
          -6111.705171395259,
          -4030.48607623575,
          -4117.836047019012,
          -5806.362366658897,
          -7950.137679904539,
          -6552.893169384944,
          -4542.181472406768,
          -4615.462129870629,
          -5439.90238179201,
          -4653.57255088404,
          -3266.650100279912,
          -4194.112454577068,
          -5202.090344164469,
          -4008.5890127539005,
          -5075.678351149006,
          -4439.122859420631,
          -4865.004407317279,
          -5377.229021116214,
          -6066.457122934575,
          -6443.1165674782005,
          -3786.133642471529,
          -6286.356908964103,
          -4387.404636496325,
          -5635.163544619185,
          -5910.595724540103,
          -5108.281670571712,
          -3524.6018820414924,
          -5240.709879901139,
          -3863.0068749343054,
          -4416.577273256117,
          -5227.972306159949,
          -5081.205331963823,
          -2877.194607876876,
          -3288.464289351833,
          -6141.763263553495,
          -4868.312164441827,
          -4400.04233100077,
          -4443.169815276387,
          -4687.764619495447,
          -4054.252841897084
         ],
         "yaxis": "y"
        }
       ],
       "layout": {
        "height": 600,
        "legend": {
         "title": {
          "text": "Cluster"
         },
         "tracegroupgap": 0
        },
        "margin": {
         "t": 60
        },
        "plot_bgcolor": "rgb(240,240,240)",
        "template": {
         "data": {
          "bar": [
           {
            "error_x": {
             "color": "#2a3f5f"
            },
            "error_y": {
             "color": "#2a3f5f"
            },
            "marker": {
             "line": {
              "color": "#E5ECF6",
              "width": 0.5
             }
            },
            "type": "bar"
           }
          ],
          "barpolar": [
           {
            "marker": {
             "line": {
              "color": "#E5ECF6",
              "width": 0.5
             }
            },
            "type": "barpolar"
           }
          ],
          "carpet": [
           {
            "aaxis": {
             "endlinecolor": "#2a3f5f",
             "gridcolor": "white",
             "linecolor": "white",
             "minorgridcolor": "white",
             "startlinecolor": "#2a3f5f"
            },
            "baxis": {
             "endlinecolor": "#2a3f5f",
             "gridcolor": "white",
             "linecolor": "white",
             "minorgridcolor": "white",
             "startlinecolor": "#2a3f5f"
            },
            "type": "carpet"
           }
          ],
          "choropleth": [
           {
            "colorbar": {
             "outlinewidth": 0,
             "ticks": ""
            },
            "type": "choropleth"
           }
          ],
          "contour": [
           {
            "colorbar": {
             "outlinewidth": 0,
             "ticks": ""
            },
            "colorscale": [
             [
              0,
              "#0d0887"
             ],
             [
              0.1111111111111111,
              "#46039f"
             ],
             [
              0.2222222222222222,
              "#7201a8"
             ],
             [
              0.3333333333333333,
              "#9c179e"
             ],
             [
              0.4444444444444444,
              "#bd3786"
             ],
             [
              0.5555555555555556,
              "#d8576b"
             ],
             [
              0.6666666666666666,
              "#ed7953"
             ],
             [
              0.7777777777777778,
              "#fb9f3a"
             ],
             [
              0.8888888888888888,
              "#fdca26"
             ],
             [
              1,
              "#f0f921"
             ]
            ],
            "type": "contour"
           }
          ],
          "contourcarpet": [
           {
            "colorbar": {
             "outlinewidth": 0,
             "ticks": ""
            },
            "type": "contourcarpet"
           }
          ],
          "heatmap": [
           {
            "colorbar": {
             "outlinewidth": 0,
             "ticks": ""
            },
            "colorscale": [
             [
              0,
              "#0d0887"
             ],
             [
              0.1111111111111111,
              "#46039f"
             ],
             [
              0.2222222222222222,
              "#7201a8"
             ],
             [
              0.3333333333333333,
              "#9c179e"
             ],
             [
              0.4444444444444444,
              "#bd3786"
             ],
             [
              0.5555555555555556,
              "#d8576b"
             ],
             [
              0.6666666666666666,
              "#ed7953"
             ],
             [
              0.7777777777777778,
              "#fb9f3a"
             ],
             [
              0.8888888888888888,
              "#fdca26"
             ],
             [
              1,
              "#f0f921"
             ]
            ],
            "type": "heatmap"
           }
          ],
          "heatmapgl": [
           {
            "colorbar": {
             "outlinewidth": 0,
             "ticks": ""
            },
            "colorscale": [
             [
              0,
              "#0d0887"
             ],
             [
              0.1111111111111111,
              "#46039f"
             ],
             [
              0.2222222222222222,
              "#7201a8"
             ],
             [
              0.3333333333333333,
              "#9c179e"
             ],
             [
              0.4444444444444444,
              "#bd3786"
             ],
             [
              0.5555555555555556,
              "#d8576b"
             ],
             [
              0.6666666666666666,
              "#ed7953"
             ],
             [
              0.7777777777777778,
              "#fb9f3a"
             ],
             [
              0.8888888888888888,
              "#fdca26"
             ],
             [
              1,
              "#f0f921"
             ]
            ],
            "type": "heatmapgl"
           }
          ],
          "histogram": [
           {
            "marker": {
             "colorbar": {
              "outlinewidth": 0,
              "ticks": ""
             }
            },
            "type": "histogram"
           }
          ],
          "histogram2d": [
           {
            "colorbar": {
             "outlinewidth": 0,
             "ticks": ""
            },
            "colorscale": [
             [
              0,
              "#0d0887"
             ],
             [
              0.1111111111111111,
              "#46039f"
             ],
             [
              0.2222222222222222,
              "#7201a8"
             ],
             [
              0.3333333333333333,
              "#9c179e"
             ],
             [
              0.4444444444444444,
              "#bd3786"
             ],
             [
              0.5555555555555556,
              "#d8576b"
             ],
             [
              0.6666666666666666,
              "#ed7953"
             ],
             [
              0.7777777777777778,
              "#fb9f3a"
             ],
             [
              0.8888888888888888,
              "#fdca26"
             ],
             [
              1,
              "#f0f921"
             ]
            ],
            "type": "histogram2d"
           }
          ],
          "histogram2dcontour": [
           {
            "colorbar": {
             "outlinewidth": 0,
             "ticks": ""
            },
            "colorscale": [
             [
              0,
              "#0d0887"
             ],
             [
              0.1111111111111111,
              "#46039f"
             ],
             [
              0.2222222222222222,
              "#7201a8"
             ],
             [
              0.3333333333333333,
              "#9c179e"
             ],
             [
              0.4444444444444444,
              "#bd3786"
             ],
             [
              0.5555555555555556,
              "#d8576b"
             ],
             [
              0.6666666666666666,
              "#ed7953"
             ],
             [
              0.7777777777777778,
              "#fb9f3a"
             ],
             [
              0.8888888888888888,
              "#fdca26"
             ],
             [
              1,
              "#f0f921"
             ]
            ],
            "type": "histogram2dcontour"
           }
          ],
          "mesh3d": [
           {
            "colorbar": {
             "outlinewidth": 0,
             "ticks": ""
            },
            "type": "mesh3d"
           }
          ],
          "parcoords": [
           {
            "line": {
             "colorbar": {
              "outlinewidth": 0,
              "ticks": ""
             }
            },
            "type": "parcoords"
           }
          ],
          "pie": [
           {
            "automargin": true,
            "type": "pie"
           }
          ],
          "scatter": [
           {
            "marker": {
             "colorbar": {
              "outlinewidth": 0,
              "ticks": ""
             }
            },
            "type": "scatter"
           }
          ],
          "scatter3d": [
           {
            "line": {
             "colorbar": {
              "outlinewidth": 0,
              "ticks": ""
             }
            },
            "marker": {
             "colorbar": {
              "outlinewidth": 0,
              "ticks": ""
             }
            },
            "type": "scatter3d"
           }
          ],
          "scattercarpet": [
           {
            "marker": {
             "colorbar": {
              "outlinewidth": 0,
              "ticks": ""
             }
            },
            "type": "scattercarpet"
           }
          ],
          "scattergeo": [
           {
            "marker": {
             "colorbar": {
              "outlinewidth": 0,
              "ticks": ""
             }
            },
            "type": "scattergeo"
           }
          ],
          "scattergl": [
           {
            "marker": {
             "colorbar": {
              "outlinewidth": 0,
              "ticks": ""
             }
            },
            "type": "scattergl"
           }
          ],
          "scattermapbox": [
           {
            "marker": {
             "colorbar": {
              "outlinewidth": 0,
              "ticks": ""
             }
            },
            "type": "scattermapbox"
           }
          ],
          "scatterpolar": [
           {
            "marker": {
             "colorbar": {
              "outlinewidth": 0,
              "ticks": ""
             }
            },
            "type": "scatterpolar"
           }
          ],
          "scatterpolargl": [
           {
            "marker": {
             "colorbar": {
              "outlinewidth": 0,
              "ticks": ""
             }
            },
            "type": "scatterpolargl"
           }
          ],
          "scatterternary": [
           {
            "marker": {
             "colorbar": {
              "outlinewidth": 0,
              "ticks": ""
             }
            },
            "type": "scatterternary"
           }
          ],
          "surface": [
           {
            "colorbar": {
             "outlinewidth": 0,
             "ticks": ""
            },
            "colorscale": [
             [
              0,
              "#0d0887"
             ],
             [
              0.1111111111111111,
              "#46039f"
             ],
             [
              0.2222222222222222,
              "#7201a8"
             ],
             [
              0.3333333333333333,
              "#9c179e"
             ],
             [
              0.4444444444444444,
              "#bd3786"
             ],
             [
              0.5555555555555556,
              "#d8576b"
             ],
             [
              0.6666666666666666,
              "#ed7953"
             ],
             [
              0.7777777777777778,
              "#fb9f3a"
             ],
             [
              0.8888888888888888,
              "#fdca26"
             ],
             [
              1,
              "#f0f921"
             ]
            ],
            "type": "surface"
           }
          ],
          "table": [
           {
            "cells": {
             "fill": {
              "color": "#EBF0F8"
             },
             "line": {
              "color": "white"
             }
            },
            "header": {
             "fill": {
              "color": "#C8D4E3"
             },
             "line": {
              "color": "white"
             }
            },
            "type": "table"
           }
          ]
         },
         "layout": {
          "annotationdefaults": {
           "arrowcolor": "#2a3f5f",
           "arrowhead": 0,
           "arrowwidth": 1
          },
          "coloraxis": {
           "colorbar": {
            "outlinewidth": 0,
            "ticks": ""
           }
          },
          "colorscale": {
           "diverging": [
            [
             0,
             "#8e0152"
            ],
            [
             0.1,
             "#c51b7d"
            ],
            [
             0.2,
             "#de77ae"
            ],
            [
             0.3,
             "#f1b6da"
            ],
            [
             0.4,
             "#fde0ef"
            ],
            [
             0.5,
             "#f7f7f7"
            ],
            [
             0.6,
             "#e6f5d0"
            ],
            [
             0.7,
             "#b8e186"
            ],
            [
             0.8,
             "#7fbc41"
            ],
            [
             0.9,
             "#4d9221"
            ],
            [
             1,
             "#276419"
            ]
           ],
           "sequential": [
            [
             0,
             "#0d0887"
            ],
            [
             0.1111111111111111,
             "#46039f"
            ],
            [
             0.2222222222222222,
             "#7201a8"
            ],
            [
             0.3333333333333333,
             "#9c179e"
            ],
            [
             0.4444444444444444,
             "#bd3786"
            ],
            [
             0.5555555555555556,
             "#d8576b"
            ],
            [
             0.6666666666666666,
             "#ed7953"
            ],
            [
             0.7777777777777778,
             "#fb9f3a"
            ],
            [
             0.8888888888888888,
             "#fdca26"
            ],
            [
             1,
             "#f0f921"
            ]
           ],
           "sequentialminus": [
            [
             0,
             "#0d0887"
            ],
            [
             0.1111111111111111,
             "#46039f"
            ],
            [
             0.2222222222222222,
             "#7201a8"
            ],
            [
             0.3333333333333333,
             "#9c179e"
            ],
            [
             0.4444444444444444,
             "#bd3786"
            ],
            [
             0.5555555555555556,
             "#d8576b"
            ],
            [
             0.6666666666666666,
             "#ed7953"
            ],
            [
             0.7777777777777778,
             "#fb9f3a"
            ],
            [
             0.8888888888888888,
             "#fdca26"
            ],
            [
             1,
             "#f0f921"
            ]
           ]
          },
          "colorway": [
           "#636efa",
           "#EF553B",
           "#00cc96",
           "#ab63fa",
           "#FFA15A",
           "#19d3f3",
           "#FF6692",
           "#B6E880",
           "#FF97FF",
           "#FECB52"
          ],
          "font": {
           "color": "#2a3f5f"
          },
          "geo": {
           "bgcolor": "white",
           "lakecolor": "white",
           "landcolor": "#E5ECF6",
           "showlakes": true,
           "showland": true,
           "subunitcolor": "white"
          },
          "hoverlabel": {
           "align": "left"
          },
          "hovermode": "closest",
          "mapbox": {
           "style": "light"
          },
          "paper_bgcolor": "white",
          "plot_bgcolor": "#E5ECF6",
          "polar": {
           "angularaxis": {
            "gridcolor": "white",
            "linecolor": "white",
            "ticks": ""
           },
           "bgcolor": "#E5ECF6",
           "radialaxis": {
            "gridcolor": "white",
            "linecolor": "white",
            "ticks": ""
           }
          },
          "scene": {
           "xaxis": {
            "backgroundcolor": "#E5ECF6",
            "gridcolor": "white",
            "gridwidth": 2,
            "linecolor": "white",
            "showbackground": true,
            "ticks": "",
            "zerolinecolor": "white"
           },
           "yaxis": {
            "backgroundcolor": "#E5ECF6",
            "gridcolor": "white",
            "gridwidth": 2,
            "linecolor": "white",
            "showbackground": true,
            "ticks": "",
            "zerolinecolor": "white"
           },
           "zaxis": {
            "backgroundcolor": "#E5ECF6",
            "gridcolor": "white",
            "gridwidth": 2,
            "linecolor": "white",
            "showbackground": true,
            "ticks": "",
            "zerolinecolor": "white"
           }
          },
          "shapedefaults": {
           "line": {
            "color": "#2a3f5f"
           }
          },
          "ternary": {
           "aaxis": {
            "gridcolor": "white",
            "linecolor": "white",
            "ticks": ""
           },
           "baxis": {
            "gridcolor": "white",
            "linecolor": "white",
            "ticks": ""
           },
           "bgcolor": "#E5ECF6",
           "caxis": {
            "gridcolor": "white",
            "linecolor": "white",
            "ticks": ""
           }
          },
          "title": {
           "x": 0.05
          },
          "xaxis": {
           "automargin": true,
           "gridcolor": "white",
           "linecolor": "white",
           "ticks": "",
           "title": {
            "standoff": 15
           },
           "zerolinecolor": "white",
           "zerolinewidth": 2
          },
          "yaxis": {
           "automargin": true,
           "gridcolor": "white",
           "linecolor": "white",
           "ticks": "",
           "title": {
            "standoff": 15
           },
           "zerolinecolor": "white",
           "zerolinewidth": 2
          }
         }
        },
        "title": {
         "text": "2D Cluster PCA Plot"
        },
        "xaxis": {
         "anchor": "y",
         "domain": [
          0,
          1
         ],
         "title": {
          "text": "PCA1"
         }
        },
        "yaxis": {
         "anchor": "x",
         "domain": [
          0,
          1
         ],
         "title": {
          "text": "PCA2"
         }
        }
       }
      },
      "text/html": [
       "<div>\n",
       "        \n",
       "        \n",
       "            <div id=\"27fcb4a1-e353-4ccf-a421-197745ffebab\" class=\"plotly-graph-div\" style=\"height:600px; width:100%;\"></div>\n",
       "            <script type=\"text/javascript\">\n",
       "                require([\"plotly\"], function(Plotly) {\n",
       "                    window.PLOTLYENV=window.PLOTLYENV || {};\n",
       "                    \n",
       "                if (document.getElementById(\"27fcb4a1-e353-4ccf-a421-197745ffebab\")) {\n",
       "                    Plotly.newPlot(\n",
       "                        '27fcb4a1-e353-4ccf-a421-197745ffebab',\n",
       "                        [{\"customdata\": [[26], [17], [20], [24], [24], [17], [29], [27], [93], [17], [24], [86], [28], [23], [28], [18], [23], [29], [23], [32], [28], [24], [25], [91], [28], [87], [82], [24], [20], [82], [25], [22], [28], [27], [21], [26], [21], [27], [31], [23], [24], [77], [86], [34], [88], [25], [26], [18], [83], [29], [26], [28], [26], [90], [17], [30], [22], [89], [83], [84], [22], [88], [83], [90], [25], [24], [20], [85], [25], [29], [25], [92]], \"hovertemplate\": \"Cluster=Cluster 0<br>PCA1=%{x}<br>PCA2=%{y}<br>Feature=%{customdata[0]}<extra></extra>\", \"legendgroup\": \"Cluster 0\", \"marker\": {\"color\": \"#636efa\", \"opacity\": 0.5, \"symbol\": \"circle\"}, \"mode\": \"markers\", \"name\": \"Cluster 0\", \"orientation\": \"v\", \"showlegend\": true, \"textposition\": \"top center\", \"type\": \"scatter\", \"x\": [51532.470058404535, 61085.161815426945, 47415.38916240535, 45280.29645748765, 53976.79000263132, 59803.045579193036, 47210.61128412964, 47518.881318567954, 50874.59373315192, 48697.32854440997, 59239.853528398184, 52679.13742245066, 52465.03358665994, 51395.224355999526, 48029.23598296094, 48551.897791192656, 54778.919909691474, 43600.21618030979, 63317.06653244295, 41328.252663310006, 48281.964764021934, 61617.25602185726, 55783.428858014944, 43084.43130106844, 46000.80248469957, 41859.154369975666, 50433.85138453342, 52263.4941087445, 54230.31142047664, 45920.303846007664, 45728.40114434414, 45302.57090416746, 41933.87634909212, 46271.74999066815, 54542.56026091132, 50397.08389773138, 48602.571111840225, 49923.23240258634, 47836.448391826874, 45049.71303774849, 55795.997914964, 52844.21454083219, 48577.24594456376, 44074.744322679515, 47964.55226138699, 62912.45709780572, 52086.38065892726, 55587.3517307336, 42157.805428701045, 66750.62108457659, 56651.455483747515, 53924.597039558794, 47842.88367906654, 48410.00929047237, 59798.17482849975, 47549.76254622712, 57857.28905692235, 43861.74709102558, 43629.012739237616, 46993.64108790844, 58984.55027496729, 44952.902035389, 41580.27174463828, 42045.79570257146, 55809.60825993983, 59196.59308633914, 53899.234059979615, 42414.139844094, 53422.55248570127, 56449.678138281466, 55168.451545061915, 47182.068581555875], \"xaxis\": \"x\", \"y\": [6006.733833662535, 4243.721728508767, 4709.38880763183, 4437.356566167743, 5488.38998458211, 8450.307562492613, 6674.234677495921, 4941.999362973273, -5178.052813440077, 5282.497809754311, 4745.1445891248095, -4749.0570257153695, 3371.5330650131, 5657.24149498082, 5422.323757682566, 4668.214697412176, 4629.7913652811, -5657.478831520007, 4946.177510120512, -4823.645899335598, 8499.966944599812, 6726.313750520617, 4732.08771470771, -4660.855622444514, 3884.452851319086, -4543.326267067202, -6854.206134077963, 5916.358054129834, 3238.4287703236873, -4953.921129423366, 3658.306501252223, 3778.18142130961, 4717.9972052376115, 4207.414796612185, 4193.882999372309, 2890.5509685647053, 6249.537360930087, 6048.724079227711, 6059.983323374552, 4590.87258345611, 4252.897540706998, -5677.667475551916, -6305.307759672735, -6307.669140625979, -4397.186114919684, 5261.355213266392, 3388.427034681377, 3427.135195258814, -5954.454601851149, 2693.008186621752, 4271.292185091138, 5765.842845736469, 4758.188729714919, -5693.665441157454, 4315.751792559067, 3437.8964823947817, 5717.501137167645, -6877.035883382074, -6254.84094120913, -4647.129088588655, 3350.711617933648, -4985.514801220402, -5615.560772408646, -3106.1034758683622, 3879.149733262659, 3903.9749268153723, 3176.7468854090926, -5432.281819509649, 3894.235479127751, 5101.398697367523, 4016.9816222016175, -4557.716601791883], \"yaxis\": \"y\"}, {\"customdata\": [[88], [84], [91], [86], [91], [86], [94], [85], [94], [88], [85], [83], [86], [91], [90], [88], [84], [92], [91], [94], [83], [91], [83], [89], [88], [87], [88], [89], [85], [91], [85], [94], [83], [94], [84], [86], [85], [87], [88], [89], [87], [86], [88], [91], [85], [88], [90], [87], [91], [85], [92], [89], [89], [95], [87], [87], [82], [93], [82], [91], [82], [89], [84], [87], [92], [90], [91], [81], [93], [88], [84], [85], [87], [89], [89], [86], [84], [91], [91], [83], [87], [90], [83], [83], [83], [87], [92], [91], [79], [94], [83], [91], [85], [87], [87], [88], [86], [90], [84], [86], [90], [93], [87], [91], [87], [83], [84], [87], [92], [87], [82], [84], [97], [91], [92], [90], [91], [90], [88], [84], [84], [92], [88], [90], [84], [87], [82], [89], [88], [88], [88], [91], [86], [89], [89], [90], [89], [92], [85], [94], [90], [85], [88], [84], [79], [88], [87]], \"hovertemplate\": \"Cluster=Cluster 1<br>PCA1=%{x}<br>PCA2=%{y}<br>Feature=%{customdata[0]}<extra></extra>\", \"legendgroup\": \"Cluster 1\", \"marker\": {\"color\": \"#EF553B\", \"opacity\": 0.5, \"symbol\": \"circle\"}, \"mode\": \"markers\", \"name\": \"Cluster 1\", \"orientation\": \"v\", \"showlegend\": true, \"textposition\": \"top center\", \"type\": \"scatter\", \"x\": [-58306.893741211345, -53484.99044797623, -50504.82314273774, -56854.24491468414, -45489.120024218646, -46897.28720484187, -36822.88272990108, -47271.41327624214, -47975.62989430371, -47129.84416342063, -49427.52413702614, -48890.16204283167, -39916.590611526924, -49274.44239615933, -45508.35388587768, -43012.769783491414, -48329.37521986347, -42805.174693662295, -47000.17170879293, -54957.490989172366, -57495.82751822284, -48496.84792497307, -45148.062146087934, -50446.687258505604, -57750.75774612394, -50055.787564293576, -53103.847912897334, -44680.893509319256, -44945.69901444302, -46108.56441807313, -40907.25147798811, -48448.18982139342, -47148.04950665263, -56820.08755360428, -37730.7693406082, -28705.212826769817, -47927.756153353286, -49952.563864247575, -49206.07297923623, -56491.72616160146, -45504.92821664387, -43811.472620393906, -56178.673270051804, -63634.72200273959, -54413.158553524765, -40724.15688509666, -53514.36608306826, -63656.34758998017, -39063.28667619092, -46522.9194197512, -39882.02333138304, -42432.64509966228, -49610.67501015972, -48754.55322293147, -44821.271955370954, -28723.991919566022, -51459.51350546346, -55300.4383561165, -42172.091423728154, -58771.33010043621, -43231.477908798806, -55368.98427568013, -48469.7582255558, -51191.18311026797, -53329.088908637954, -42253.872877958245, -55116.836018168404, -41272.89533986181, -58127.50387027004, -42594.243001932984, -48254.006229924926, -46206.76070917289, -57176.86780610607, -48762.36466827121, -45316.581406095574, -39708.6469896635, -57516.273183636455, -51304.42079121022, -48867.33422412476, -47072.83270827882, -52350.136881607694, -42485.198930508406, -42546.30928703386, -52508.30353343576, -45053.501151340184, -52745.271995073854, -53120.54070874584, -49855.36023906119, -37510.58801132118, -51858.95285225977, -41183.65207165713, -38870.67264138035, -53905.3308087067, -49083.98904448348, -49618.56425158391, -42334.047671506356, -48031.600338698365, -46621.675189920876, -55003.114735362964, -52219.78891026326, -40392.52353813578, -55837.8962125591, -57945.29400939381, -44891.726940178174, -33223.787927586905, -41229.085326467924, -48086.47161506785, -45889.16124528396, -39730.75492373199, -44207.36919669007, -42152.50281937877, -39255.473865513486, -48338.70466261934, -52957.61629178099, -56895.33602609467, -38257.012522678706, -47591.225111220025, -52877.38164603339, -57888.9869379862, -45243.33599570983, -51590.97205811304, -40276.44813108957, -44316.390976136536, -50029.04867348444, -33685.82303783502, -59885.183450800905, -51335.69636219806, -51006.625967171814, -41654.28537091674, -46888.40589877379, -47339.947334108285, -46752.171891149104, -60035.35573518636, -53680.720585277915, -47490.053373637085, -42382.69883203622, -41047.376366850316, -42194.79873495243, -41090.43271162367, -47366.64939309714, -51240.79467490212, -47211.30921897942, -49640.51633393592, -46294.69652581511, -43219.57063079799, -48459.5788531647, -45592.662714596474], \"xaxis\": \"x\", \"y\": [-1498.3070625904, -2964.8711615389416, -2541.10407440242, -1039.8869670204474, -857.2365574199105, -1500.5997535503448, -3004.1359250357314, -1422.2632521531445, -2697.4806496368715, -2166.9455265130237, -3282.496783689516, -3117.0435724351228, -5860.40697091343, -1819.1411133435656, -1716.0957515179937, -2388.397515567186, -2106.956548531855, -2383.923586492434, -3258.592731249428, -1273.034090967153, -874.593832039621, -1255.0231217175187, -918.4435413744558, -1789.8310613735046, -1546.7860227984625, -458.7329379734676, -1838.6646455566586, -3320.2381091067414, -2663.436303414358, -4704.900718140077, -2247.723098069758, -424.4944516024695, -948.1700320034121, -2626.49476012304, -3447.5228656993518, -2125.516573296832, 1139.0677249894104, -1016.3628176053351, 646.5438723752062, -1529.9495201383813, -1656.425055816304, -3844.0506429942825, -1450.7318688866605, -958.5365645110738, -1055.996893175367, -3403.354998094878, -3511.6505427575585, -672.1303645870969, -2178.951260878266, -2395.1506203279087, -3145.838811669631, -2804.3175987818167, -2494.346015854768, -3476.7575329414058, -809.2478504066122, -1283.2493416842194, -1443.631221061166, -2379.445392952534, -3482.950924420313, -1946.4256348815316, -2464.3665067293464, -990.6075970316521, -975.0110199269351, -2999.048136853005, -3704.115203066882, -2813.408865756102, -3386.6313874278353, -2039.0519450914771, -3329.424155750389, -4573.13594967613, -3586.3929123393605, -3972.437291114197, -500.3822260290334, -1902.3037525718107, 72.34189620852658, -2812.6408322745256, -2662.2379174130565, -1341.6421504993355, -3330.0950893142617, -3652.1430220775046, -1271.836696800181, -1573.1293339464673, -2323.9550250667403, -2003.379558614892, -3267.853088065967, -3270.2500120301256, -2373.9068521136146, -2551.6409458672997, -2385.930673599971, -1998.3145148841254, -2299.1775764582503, -4966.63298363163, 776.7213551828829, -2706.954245859541, -1200.4987085747, -946.4427010468263, -2520.8796709258972, -1061.3928297006273, -1806.371634963474, -361.8228772290576, -1918.0706539765354, -2913.151326193391, -1690.2235244245387, -1059.5099705589153, -4327.5998004040275, -559.8887343311548, -3267.6645334787427, -3656.8600405231205, -3215.3117531036187, -1788.5950192551377, -3595.426499455153, -2456.0624695072042, -296.94791022013527, -512.168161665234, -219.8356734403194, -3209.705699855121, -2876.016821854161, -1034.0462861180672, -2297.4104284560135, -2386.7446703879677, -1709.680992265401, -3159.403065288739, -1681.1078093986148, -2907.798180135491, -2359.9810608524367, 968.1821841701776, -2253.324954790312, 1229.6342021038015, -1284.2763352326, -1747.2845158743742, -2756.2104567652145, -4260.667936777423, -2067.7852022028555, -1523.1531827794754, -1025.6556377131571, -1026.2178281219415, 163.0086019424071, -2831.244972649776, -2507.4680378488574, -2226.5238835946834, -337.58311029945656, -497.02873214681324, -2403.4526565005262, -3445.1407626668747, -982.6374045457409, -623.024823397233, -1858.741542867274], \"yaxis\": \"y\"}, {\"customdata\": [[58], [59], [61], [58], [61], [55], [56], [57], [56], [58], [65], [67], [58], [61], [59], [66], [59], [59], [60], [60], [67], [56], [62], [65], [59], [58], [61], [63], [67], [65], [64], [60], [61], [59], [63], [61], [57], [57], [59], [59], [56], [61], [68], [59], [60], [62], [62], [59], [59], [59], [63], [58], [55], [61], [51], [58], [56], [58], [63], [62], [66], [57], [66], [63], [64], [62], [62], [60], [65], [60], [59], [56], [58], [62], [56], [59], [58], [63], [64], [62], [60], [62], [58], [56], [62], [64], [66], [59], [62], [65], [61], [62], [60], [63], [59], [62], [59], [54], [61], [55], [53], [55], [61], [59], [59], [56], [61], [61], [60], [57], [61], [56], [58], [64], [59], [58], [59], [58], [57], [55], [62], [64], [61], [53], [55], [58], [59], [57], [53], [64], [61], [60], [58], [68], [59], [64], [63], [63], [66], [62], [59], [57], [61], [58], [67], [64], [55], [56], [58], [55], [57], [57], [58], [60], [56], [61]], \"hovertemplate\": \"Cluster=Cluster 2<br>PCA1=%{x}<br>PCA2=%{y}<br>Feature=%{customdata[0]}<extra></extra>\", \"legendgroup\": \"Cluster 2\", \"marker\": {\"color\": \"#00cc96\", \"opacity\": 0.5, \"symbol\": \"circle\"}, \"mode\": \"markers\", \"name\": \"Cluster 2\", \"orientation\": \"v\", \"showlegend\": true, \"textposition\": \"top center\", \"type\": \"scatter\", \"x\": [-6075.723945911879, -7981.746810683444, -6214.354917756385, 4968.764645874573, -3222.028497117645, 1547.9124395594215, 375.6120252474097, 4615.604589783893, -1755.3663563989946, 834.6063416853494, -4114.6658125026615, 5679.935032255568, -4883.720561797815, -967.1345292294839, -1709.006711698437, 1855.0479869186875, -7793.454352086536, -18832.323089995112, -9176.939917160456, -5149.414552966318, 3574.8676282851384, 3735.222300120544, -7431.169946592952, -4794.730185972461, -1864.59405906145, 2868.6753358918095, -9270.98324611398, 7034.566991846884, -6586.375015596342, -811.2733012583001, -12402.614006035745, -805.5182840466957, -7827.504392605754, -7225.656651496562, -7793.211508914164, 3607.6218475354494, -3147.9716901024067, -10371.48705707173, -2220.6354506100656, 5619.1255387636265, 5122.2825622989185, -9600.0095257169, -6270.130057704636, 2663.814142724261, -11770.096221904701, -1424.2968527852531, -5898.7444796811515, -5787.584457334294, -6051.798027149646, 7017.407229806951, -4661.643199436445, 3333.037008198895, -10419.650727093289, -3197.7706749317103, -3127.746475407196, -4588.845682887333, -9823.29297141867, 2555.784235160104, 5567.478117111809, -1710.0091006297773, -2630.7941352081784, 1381.2925438038924, -10238.83792874304, -2329.6167597527674, -3536.6248996188647, -11570.013629472303, -12594.17524212854, -3881.2792235448314, -9447.566957019662, -4595.725467462929, 277.3194547180348, 9121.208329826182, 499.4966180961339, -4176.722631704311, -6529.597912750266, -7423.928769536239, 3385.8220491313214, -5414.849621380298, 11039.026942031718, -5806.077052611824, -10072.875118803548, 3175.7301008876834, -5327.512619806893, -6874.447300583787, -6945.490220855905, 1198.2155272857246, 7325.2561894927, -7249.028129796937, 4864.683651413, -9153.992100917843, -5628.983771409211, -8175.944783841659, 4848.442764387983, 10499.407295945592, 6644.59761279823, -611.8920766835429, -879.6961231840211, 1270.5926186365064, -3354.4093954920495, -3652.0516272195264, 1535.3200349238548, 3442.067865401047, 1691.146999005504, -9514.742122293774, -5495.930030665692, -11393.264281389052, -1006.7942808926992, -11385.807297750891, -5228.7735481431, 106.44730782999314, -2009.7086141751715, 11129.424149229615, -4333.353171495323, 13091.374153516692, -860.4354477953776, 1797.8692846207541, -2601.8696283459494, -4972.922141129974, 4241.775895153046, -4197.995995572512, -5414.451723823099, -14757.626854505615, -6112.701966838943, -13124.391604038421, -847.3002227743453, -907.6690876091216, -3902.650760127413, -1148.592713836321, -284.9346161317569, 1223.3332842063587, -4025.5345868615004, -9955.59900050198, 5073.487356522346, 2456.1149429108914, -5713.304475031726, -10817.514881421745, -18377.080919160904, -182.8750970628954, -3578.6411667637317, -12401.01261442264, 384.4886537787808, -9604.976101231408, -4335.121223668245, -4856.16027761909, -15876.014194933876, 3594.042421690836, -1254.7961050822876, -7927.27939399957, 2392.951400013227, 871.05614486404, 1380.909585482257, -5506.504775277312, 8122.0803804155485, -7740.904879089726, -15159.901916245688, -1867.5011952055115], \"xaxis\": \"x\", \"y\": [3500.596454313256, 3467.565974911422, 8154.200533863813, 3943.1170736339145, 4129.18118941636, 3973.906997486515, 5049.606296947779, 5713.442041909507, 4273.205301847639, 5141.101367432594, 3078.896438494594, 4711.285967238695, 4688.370746949261, 4638.724240674153, 3684.6952959403616, 5468.743274286699, 5788.853893383753, 6823.253328040571, 7146.662858252783, 5556.666139133823, 6638.189488143049, 4370.46782882272, 6342.036901878029, 5174.470545977297, 5267.352553209781, 5223.64233039036, 5996.549152653398, 3374.287134293428, 4795.659622307601, 4771.515153180696, 4277.420432790432, 4348.095679784141, 5701.697575023517, 4564.61762185532, 6334.243251982051, 4852.444518767342, 5506.9966229138645, 6211.274488459204, 4177.140129281852, 4314.803908984971, 3424.0736039052913, 4923.281603355225, 5401.821696967172, 3399.1203547303253, 5001.420783196854, 7267.328542397008, 5205.840154213882, 5711.628393266973, 6221.683453940023, 5588.800602998208, 4875.412034392045, 4012.215493342318, 5982.858221439136, 5127.949261280459, 5318.28199362223, 4468.268102563846, 6862.247572080612, 5164.690387393589, 6399.6794579285815, 5692.091704359404, 5512.809888472103, 5207.221097509014, 7423.3153685464395, 6502.207882775596, 5070.41309843633, 6393.58492746024, 5058.59350766587, 3532.750801645639, 6026.370137728775, 4575.315245883317, 5152.077722121318, 4076.1888638585006, 4450.572465085803, 5121.948177991023, 5174.060016070754, 5595.425208078432, 4513.159427781261, 4509.378948047734, 4384.687289531573, 5686.132349951811, 7033.832306225477, 4727.079813055352, 5507.674538617936, 3266.470183264382, 5240.283697626608, 6031.597780098122, 5245.750156657967, 5030.101509904849, 4834.953991865889, 6237.455006749801, 3413.4609900340356, 5599.274828311297, 6716.389270082333, 4092.5868105824984, 6074.108821940046, 2642.8564628733125, 4574.029852480236, 4918.861099714738, 4039.0497082186107, 4298.147934215802, 6617.143404468861, 3293.925709825788, 4305.605513370141, 5484.062210130754, 5033.927181148626, 4760.726683836125, 6827.7367522808745, 5239.8344862521335, 4906.821369117012, 5019.545071865863, 4571.311601888517, 2451.395645635494, 6791.1217279871325, 3878.074005604355, 1366.2175061913913, 3616.906622264864, 5720.063910631851, 5053.97439448231, 4854.37361153801, 4646.4230382320975, 6401.4968503785585, 5008.01210377861, 7150.265686204215, 5122.298575466137, 5435.293808150469, 4662.5718013621645, 5499.33933272177, 6154.518606181519, 4064.008336080812, 5666.367954752704, 5644.552199614273, 4085.312250446125, 5244.43680934892, 5539.9782542761295, 6098.407171499212, 6677.482101590941, 5086.374324713108, 4411.324353776286, 4687.331305792249, 6731.622371228145, 6845.141814371284, 5517.456998799795, 2658.297518890415, 6861.841710581512, 7337.462584330773, 5244.223767536207, 6380.915494292795, 5673.527728610808, 5992.684094109712, 5689.000453091914, 5567.112673818736, 6298.4301788677385, 4731.012058760933, 5133.639471687392, 5573.243592768733, 2685.6626854367973], \"yaxis\": \"y\"}, {\"customdata\": [[37], [30], [30], [36], [31], [31], [33], [85], [30], [37], [36], [84], [34], [36], [30], [22], [34], [35], [34], [37], [35], [29], [28], [38], [88], [31], [31], [30], [29], [33], [32], [30], [31], [37], [39], [31], [33], [33], [36], [31], [33], [31], [31], [37], [36], [30], [37], [25], [35], [33], [34], [28], [31], [33], [28], [35], [31], [31], [30], [33], [28], [31], [40], [30], [29], [34], [39], [30], [86], [35], [59], [29], [28], [38], [31], [84], [29], [32], [28], [36], [32], [84], [29], [42], [32], [29], [29], [34], [25], [29], [33], [35], [33], [36], [37], [36], [35], [29], [38], [33], [33], [31], [38], [32], [36], [34], [27], [37], [35], [39], [35], [31], [30], [31], [37], [24], [34], [31], [32], [37], [26], [34], [33], [33], [35], [34], [28], [44], [36], [43]], \"hovertemplate\": \"Cluster=Cluster 3<br>PCA1=%{x}<br>PCA2=%{y}<br>Feature=%{customdata[0]}<extra></extra>\", \"legendgroup\": \"Cluster 3\", \"marker\": {\"color\": \"#ab63fa\", \"opacity\": 0.5, \"symbol\": \"circle\"}, \"mode\": \"markers\", \"name\": \"Cluster 3\", \"orientation\": \"v\", \"showlegend\": true, \"textposition\": \"top center\", \"type\": \"scatter\", \"x\": [30949.636901997947, 31614.4425654191, 24294.808478346335, 23967.00608797563, 32345.708428700596, 32322.90855312248, 22258.608668569905, 35579.205815806374, 26298.14841024672, 22105.03459107826, 20592.34661300777, 38543.625122928745, 26507.042872359914, 28639.385002450505, 22224.556143435286, 33345.156271231186, 23196.213306438236, 28912.89513619995, 28627.259856400316, 21900.78530003276, 41298.631292835074, 30268.7054812633, 25474.402763797283, 18943.372817813026, 38847.16976776085, 39135.376223130086, 30148.682673916093, 31911.001239366327, 15764.491431415816, 25328.069962281672, 32572.7502723662, 25376.69326607315, 37228.734745200694, 32912.89206331586, 24706.128352845164, 35758.27543553671, 31361.085267799146, 31045.220255678792, 24491.388898644735, 32416.939873895557, 30584.12461511325, 25732.344972190567, 25363.91922672042, 32289.540207166658, 22350.769816321572, 32797.64366935494, 31202.412682476086, 25765.790042328346, 30806.7763419528, 30046.489080926065, 22393.417730180125, 19017.1694649175, 32307.936729140954, 40849.48059769065, 24827.978780545967, 34360.48180735059, 35187.91053468467, 40419.57669510418, 20486.14069594545, 32561.025360063308, 23858.59824002342, 23748.67781545405, 23032.680124651273, 32149.921292682884, 26228.37628643619, 35572.71538685358, 23470.847033328024, 30614.16577855356, 39941.237375096156, 30155.334159636997, 15177.319714667692, 40673.85964432747, 36260.399857073884, 37939.71700891237, 26983.046364278198, 34834.90179466003, 35036.715855487215, 26023.566351406156, 33379.4205846891, 29861.546669621468, 30836.978307627447, 39513.27355543246, 27412.69140542123, 31253.468530449438, 19785.994393274676, 35711.07999432946, 23392.94204685059, 14006.000965365387, 30950.101839682397, 26312.37296892753, 36008.72535912233, 37194.90227907421, 38869.64945267171, 32210.979768642414, 31960.75451420727, 33203.84256888804, 26578.153196266194, 36813.76713420397, 28960.63496494678, 23896.368807904088, 19295.267686809562, 28681.54988758576, 39399.40138181152, 34753.14848573082, 34060.87750047384, 23022.218263126648, 31016.952770667867, 34830.86603735359, 32691.869561685737, 24819.360949497757, 26003.522431925623, 29210.556946439694, 33217.9266109481, 31330.34398452478, 32853.062283695275, 34815.25492053806, 27758.387575808218, 29240.509748648106, 26343.678673902465, 35023.2162708003, 21973.30795044383, 31502.360342968233, 16918.676201100123, 24613.75198032612, 31317.29806455372, 27456.913266673113, 22236.169474372273, 38938.118138714366, 26071.981181359253, 25938.050496756256], \"xaxis\": \"x\", \"y\": [-4397.197322284793, -3948.413153701506, -3156.1748677381497, -5918.696393593376, -2201.720436215354, -3681.290385681802, -5195.925409188553, -6195.256515402731, -5023.038755192272, -4346.187741550607, -4611.587648361571, -7198.0637530044405, -5484.674656121097, -3130.9505393461013, -5737.01421639917, -6080.299826048203, -5613.714946473869, -5224.554435670843, -3324.8164217780154, -5234.914435436245, -6422.0650063113535, -4917.675594824386, -4541.1617119158645, -6099.92651167516, -8209.63930809388, -4339.707016425755, -3727.641222685245, -2672.9112969661505, -2149.1522120766203, -4507.81885275907, -6711.0058147720265, -3922.329207394541, -4575.537648425252, -4588.6646842443115, -6304.286871577942, -4122.472097486012, -4837.589604607753, -4354.880673536975, -3378.544090547867, -3316.87378451985, -5198.651743783721, -4846.280009746117, -6518.877743618622, -3634.3413606407394, -5405.19238007051, -5654.546848389319, -4006.8807824041237, -4647.515091833698, -5560.204679600002, -2733.1094851712633, -5150.746928288211, -4587.056600403996, -3401.081521768777, -5591.4308623525085, -5088.608312301609, -5038.816440742177, -4164.858385743973, -6642.233640263947, -4804.2037003568, -5658.529147335396, -4857.997302514553, -4085.387888540778, -5461.179044520953, -5508.945169399094, -4266.4841646878, -4807.665202226776, -4720.248925408387, -4762.4349126193365, -5237.495032301007, -6491.845916302066, 4253.6702688112655, -5771.827716588529, -3890.344796261254, -4683.440281859751, -2897.4181107781183, -5079.5409307317495, -6415.699536226249, -7172.334785619933, -4139.053044046938, -4210.491742797324, -4248.410998779928, -4805.682520520943, -5970.659605817778, -4792.8201724446635, -4699.391527469763, -4543.481105344734, -5117.92636990629, -1775.6050399833498, -6274.399407676458, -4286.405360287332, -6111.705171395259, -4030.48607623575, -4117.836047019012, -5806.362366658897, -7950.137679904539, -6552.893169384944, -4542.181472406768, -4615.462129870629, -5439.90238179201, -4653.57255088404, -3266.650100279912, -4194.112454577068, -5202.090344164469, -4008.5890127539005, -5075.678351149006, -4439.122859420631, -4865.004407317279, -5377.229021116214, -6066.457122934575, -6443.1165674782005, -3786.133642471529, -6286.356908964103, -4387.404636496325, -5635.163544619185, -5910.595724540103, -5108.281670571712, -3524.6018820414924, -5240.709879901139, -3863.0068749343054, -4416.577273256117, -5227.972306159949, -5081.205331963823, -2877.194607876876, -3288.464289351833, -6141.763263553495, -4868.312164441827, -4400.04233100077, -4443.169815276387, -4687.764619495447, -4054.252841897084], \"yaxis\": \"y\"}],\n",
       "                        {\"height\": 600, \"legend\": {\"title\": {\"text\": \"Cluster\"}, \"tracegroupgap\": 0}, \"margin\": {\"t\": 60}, \"plot_bgcolor\": \"rgb(240,240,240)\", \"template\": {\"data\": {\"bar\": [{\"error_x\": {\"color\": \"#2a3f5f\"}, \"error_y\": {\"color\": \"#2a3f5f\"}, \"marker\": {\"line\": {\"color\": \"#E5ECF6\", \"width\": 0.5}}, \"type\": \"bar\"}], \"barpolar\": [{\"marker\": {\"line\": {\"color\": \"#E5ECF6\", \"width\": 0.5}}, \"type\": \"barpolar\"}], \"carpet\": [{\"aaxis\": {\"endlinecolor\": \"#2a3f5f\", \"gridcolor\": \"white\", \"linecolor\": \"white\", \"minorgridcolor\": \"white\", \"startlinecolor\": \"#2a3f5f\"}, \"baxis\": {\"endlinecolor\": \"#2a3f5f\", \"gridcolor\": \"white\", \"linecolor\": \"white\", \"minorgridcolor\": \"white\", \"startlinecolor\": \"#2a3f5f\"}, \"type\": \"carpet\"}], \"choropleth\": [{\"colorbar\": {\"outlinewidth\": 0, \"ticks\": \"\"}, \"type\": \"choropleth\"}], \"contour\": [{\"colorbar\": {\"outlinewidth\": 0, \"ticks\": \"\"}, \"colorscale\": [[0.0, \"#0d0887\"], [0.1111111111111111, \"#46039f\"], [0.2222222222222222, \"#7201a8\"], [0.3333333333333333, \"#9c179e\"], [0.4444444444444444, \"#bd3786\"], [0.5555555555555556, \"#d8576b\"], [0.6666666666666666, \"#ed7953\"], [0.7777777777777778, \"#fb9f3a\"], [0.8888888888888888, \"#fdca26\"], [1.0, \"#f0f921\"]], \"type\": \"contour\"}], \"contourcarpet\": [{\"colorbar\": {\"outlinewidth\": 0, \"ticks\": \"\"}, \"type\": \"contourcarpet\"}], \"heatmap\": [{\"colorbar\": {\"outlinewidth\": 0, \"ticks\": \"\"}, \"colorscale\": [[0.0, \"#0d0887\"], [0.1111111111111111, \"#46039f\"], [0.2222222222222222, \"#7201a8\"], [0.3333333333333333, \"#9c179e\"], [0.4444444444444444, \"#bd3786\"], [0.5555555555555556, \"#d8576b\"], [0.6666666666666666, \"#ed7953\"], [0.7777777777777778, \"#fb9f3a\"], [0.8888888888888888, \"#fdca26\"], [1.0, \"#f0f921\"]], \"type\": \"heatmap\"}], \"heatmapgl\": [{\"colorbar\": {\"outlinewidth\": 0, \"ticks\": \"\"}, \"colorscale\": [[0.0, \"#0d0887\"], [0.1111111111111111, \"#46039f\"], [0.2222222222222222, \"#7201a8\"], [0.3333333333333333, \"#9c179e\"], [0.4444444444444444, \"#bd3786\"], [0.5555555555555556, \"#d8576b\"], [0.6666666666666666, \"#ed7953\"], [0.7777777777777778, \"#fb9f3a\"], [0.8888888888888888, \"#fdca26\"], [1.0, \"#f0f921\"]], \"type\": \"heatmapgl\"}], \"histogram\": [{\"marker\": {\"colorbar\": {\"outlinewidth\": 0, \"ticks\": \"\"}}, \"type\": \"histogram\"}], \"histogram2d\": [{\"colorbar\": {\"outlinewidth\": 0, \"ticks\": \"\"}, \"colorscale\": [[0.0, \"#0d0887\"], [0.1111111111111111, \"#46039f\"], [0.2222222222222222, \"#7201a8\"], [0.3333333333333333, \"#9c179e\"], [0.4444444444444444, \"#bd3786\"], [0.5555555555555556, \"#d8576b\"], [0.6666666666666666, \"#ed7953\"], [0.7777777777777778, \"#fb9f3a\"], [0.8888888888888888, \"#fdca26\"], [1.0, \"#f0f921\"]], \"type\": \"histogram2d\"}], \"histogram2dcontour\": [{\"colorbar\": {\"outlinewidth\": 0, \"ticks\": \"\"}, \"colorscale\": [[0.0, \"#0d0887\"], [0.1111111111111111, \"#46039f\"], [0.2222222222222222, \"#7201a8\"], [0.3333333333333333, \"#9c179e\"], [0.4444444444444444, \"#bd3786\"], [0.5555555555555556, \"#d8576b\"], [0.6666666666666666, \"#ed7953\"], [0.7777777777777778, \"#fb9f3a\"], [0.8888888888888888, \"#fdca26\"], [1.0, \"#f0f921\"]], \"type\": \"histogram2dcontour\"}], \"mesh3d\": [{\"colorbar\": {\"outlinewidth\": 0, \"ticks\": \"\"}, \"type\": \"mesh3d\"}], \"parcoords\": [{\"line\": {\"colorbar\": {\"outlinewidth\": 0, \"ticks\": \"\"}}, \"type\": \"parcoords\"}], \"pie\": [{\"automargin\": true, \"type\": \"pie\"}], \"scatter\": [{\"marker\": {\"colorbar\": {\"outlinewidth\": 0, \"ticks\": \"\"}}, \"type\": \"scatter\"}], \"scatter3d\": [{\"line\": {\"colorbar\": {\"outlinewidth\": 0, \"ticks\": \"\"}}, \"marker\": {\"colorbar\": {\"outlinewidth\": 0, \"ticks\": \"\"}}, \"type\": \"scatter3d\"}], \"scattercarpet\": [{\"marker\": {\"colorbar\": {\"outlinewidth\": 0, \"ticks\": \"\"}}, \"type\": \"scattercarpet\"}], \"scattergeo\": [{\"marker\": {\"colorbar\": {\"outlinewidth\": 0, \"ticks\": \"\"}}, \"type\": \"scattergeo\"}], \"scattergl\": [{\"marker\": {\"colorbar\": {\"outlinewidth\": 0, \"ticks\": \"\"}}, \"type\": \"scattergl\"}], \"scattermapbox\": [{\"marker\": {\"colorbar\": {\"outlinewidth\": 0, \"ticks\": \"\"}}, \"type\": \"scattermapbox\"}], \"scatterpolar\": [{\"marker\": {\"colorbar\": {\"outlinewidth\": 0, \"ticks\": \"\"}}, \"type\": \"scatterpolar\"}], \"scatterpolargl\": [{\"marker\": {\"colorbar\": {\"outlinewidth\": 0, \"ticks\": \"\"}}, \"type\": \"scatterpolargl\"}], \"scatterternary\": [{\"marker\": {\"colorbar\": {\"outlinewidth\": 0, \"ticks\": \"\"}}, \"type\": \"scatterternary\"}], \"surface\": [{\"colorbar\": {\"outlinewidth\": 0, \"ticks\": \"\"}, \"colorscale\": [[0.0, \"#0d0887\"], [0.1111111111111111, \"#46039f\"], [0.2222222222222222, \"#7201a8\"], [0.3333333333333333, \"#9c179e\"], [0.4444444444444444, \"#bd3786\"], [0.5555555555555556, \"#d8576b\"], [0.6666666666666666, \"#ed7953\"], [0.7777777777777778, \"#fb9f3a\"], [0.8888888888888888, \"#fdca26\"], [1.0, \"#f0f921\"]], \"type\": \"surface\"}], \"table\": [{\"cells\": {\"fill\": {\"color\": \"#EBF0F8\"}, \"line\": {\"color\": \"white\"}}, \"header\": {\"fill\": {\"color\": \"#C8D4E3\"}, \"line\": {\"color\": \"white\"}}, \"type\": \"table\"}]}, \"layout\": {\"annotationdefaults\": {\"arrowcolor\": \"#2a3f5f\", \"arrowhead\": 0, \"arrowwidth\": 1}, \"coloraxis\": {\"colorbar\": {\"outlinewidth\": 0, \"ticks\": \"\"}}, \"colorscale\": {\"diverging\": [[0, \"#8e0152\"], [0.1, \"#c51b7d\"], [0.2, \"#de77ae\"], [0.3, \"#f1b6da\"], [0.4, \"#fde0ef\"], [0.5, \"#f7f7f7\"], [0.6, \"#e6f5d0\"], [0.7, \"#b8e186\"], [0.8, \"#7fbc41\"], [0.9, \"#4d9221\"], [1, \"#276419\"]], \"sequential\": [[0.0, \"#0d0887\"], [0.1111111111111111, \"#46039f\"], [0.2222222222222222, \"#7201a8\"], [0.3333333333333333, \"#9c179e\"], [0.4444444444444444, \"#bd3786\"], [0.5555555555555556, \"#d8576b\"], [0.6666666666666666, \"#ed7953\"], [0.7777777777777778, \"#fb9f3a\"], [0.8888888888888888, \"#fdca26\"], [1.0, \"#f0f921\"]], \"sequentialminus\": [[0.0, \"#0d0887\"], [0.1111111111111111, \"#46039f\"], [0.2222222222222222, \"#7201a8\"], [0.3333333333333333, \"#9c179e\"], [0.4444444444444444, \"#bd3786\"], [0.5555555555555556, \"#d8576b\"], [0.6666666666666666, \"#ed7953\"], [0.7777777777777778, \"#fb9f3a\"], [0.8888888888888888, \"#fdca26\"], [1.0, \"#f0f921\"]]}, \"colorway\": [\"#636efa\", \"#EF553B\", \"#00cc96\", \"#ab63fa\", \"#FFA15A\", \"#19d3f3\", \"#FF6692\", \"#B6E880\", \"#FF97FF\", \"#FECB52\"], \"font\": {\"color\": \"#2a3f5f\"}, \"geo\": {\"bgcolor\": \"white\", \"lakecolor\": \"white\", \"landcolor\": \"#E5ECF6\", \"showlakes\": true, \"showland\": true, \"subunitcolor\": \"white\"}, \"hoverlabel\": {\"align\": \"left\"}, \"hovermode\": \"closest\", \"mapbox\": {\"style\": \"light\"}, \"paper_bgcolor\": \"white\", \"plot_bgcolor\": \"#E5ECF6\", \"polar\": {\"angularaxis\": {\"gridcolor\": \"white\", \"linecolor\": \"white\", \"ticks\": \"\"}, \"bgcolor\": \"#E5ECF6\", \"radialaxis\": {\"gridcolor\": \"white\", \"linecolor\": \"white\", \"ticks\": \"\"}}, \"scene\": {\"xaxis\": {\"backgroundcolor\": \"#E5ECF6\", \"gridcolor\": \"white\", \"gridwidth\": 2, \"linecolor\": \"white\", \"showbackground\": true, \"ticks\": \"\", \"zerolinecolor\": \"white\"}, \"yaxis\": {\"backgroundcolor\": \"#E5ECF6\", \"gridcolor\": \"white\", \"gridwidth\": 2, \"linecolor\": \"white\", \"showbackground\": true, \"ticks\": \"\", \"zerolinecolor\": \"white\"}, \"zaxis\": {\"backgroundcolor\": \"#E5ECF6\", \"gridcolor\": \"white\", \"gridwidth\": 2, \"linecolor\": \"white\", \"showbackground\": true, \"ticks\": \"\", \"zerolinecolor\": \"white\"}}, \"shapedefaults\": {\"line\": {\"color\": \"#2a3f5f\"}}, \"ternary\": {\"aaxis\": {\"gridcolor\": \"white\", \"linecolor\": \"white\", \"ticks\": \"\"}, \"baxis\": {\"gridcolor\": \"white\", \"linecolor\": \"white\", \"ticks\": \"\"}, \"bgcolor\": \"#E5ECF6\", \"caxis\": {\"gridcolor\": \"white\", \"linecolor\": \"white\", \"ticks\": \"\"}}, \"title\": {\"x\": 0.05}, \"xaxis\": {\"automargin\": true, \"gridcolor\": \"white\", \"linecolor\": \"white\", \"ticks\": \"\", \"title\": {\"standoff\": 15}, \"zerolinecolor\": \"white\", \"zerolinewidth\": 2}, \"yaxis\": {\"automargin\": true, \"gridcolor\": \"white\", \"linecolor\": \"white\", \"ticks\": \"\", \"title\": {\"standoff\": 15}, \"zerolinecolor\": \"white\", \"zerolinewidth\": 2}}}, \"title\": {\"text\": \"2D Cluster PCA Plot\"}, \"xaxis\": {\"anchor\": \"y\", \"domain\": [0.0, 1.0], \"title\": {\"text\": \"PCA1\"}}, \"yaxis\": {\"anchor\": \"x\", \"domain\": [0.0, 1.0], \"title\": {\"text\": \"PCA2\"}}},\n",
       "                        {\"responsive\": true}\n",
       "                    ).then(function(){\n",
       "                            \n",
       "var gd = document.getElementById('27fcb4a1-e353-4ccf-a421-197745ffebab');\n",
       "var x = new MutationObserver(function (mutations, observer) {{\n",
       "        var display = window.getComputedStyle(gd).display;\n",
       "        if (!display || display === 'none') {{\n",
       "            console.log([gd, 'removed!']);\n",
       "            Plotly.purge(gd);\n",
       "            observer.disconnect();\n",
       "        }}\n",
       "}});\n",
       "\n",
       "// Listen for the removal of the full notebook cells\n",
       "var notebookContainer = gd.closest('#notebook-container');\n",
       "if (notebookContainer) {{\n",
       "    x.observe(notebookContainer, {childList: true});\n",
       "}}\n",
       "\n",
       "// Listen for the clearing of the current output cell\n",
       "var outputEl = gd.closest('.output');\n",
       "if (outputEl) {{\n",
       "    x.observe(outputEl, {childList: true});\n",
       "}}\n",
       "\n",
       "                        })\n",
       "                };\n",
       "                });\n",
       "            </script>\n",
       "        </div>"
      ]
     },
     "metadata": {},
     "output_type": "display_data"
    }
   ],
   "source": [
    "plot_model(kmeans)"
   ]
  },
  {
   "cell_type": "code",
   "execution_count": null,
   "metadata": {},
   "outputs": [],
   "source": []
  }
 ],
 "metadata": {
  "kernelspec": {
   "display_name": "Python 3",
   "language": "python",
   "name": "python3"
  },
  "language_info": {
   "codemirror_mode": {
    "name": "ipython",
    "version": 3
   },
   "file_extension": ".py",
   "mimetype": "text/x-python",
   "name": "python",
   "nbconvert_exporter": "python",
   "pygments_lexer": "ipython3",
   "version": "3.7.8"
  }
 },
 "nbformat": 4,
 "nbformat_minor": 4
}
